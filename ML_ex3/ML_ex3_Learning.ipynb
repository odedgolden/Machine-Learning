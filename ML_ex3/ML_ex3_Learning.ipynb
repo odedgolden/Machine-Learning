{
 "cells": [
  {
   "cell_type": "code",
   "execution_count": 71,
   "metadata": {
    "collapsed": true
   },
   "outputs": [],
   "source": [
    "import numpy as np\n",
    "import pandas as pd\n",
    "import matplotlib.pyplot as plt\n",
    "%matplotlib inline\n",
    "from matplotlib.colors import ListedColormap\n",
    "from mpl_toolkits.mplot3d import Axes3D\n",
    "from sklearn import datasets\n",
    "from sklearn.decomposition import PCA\n",
    "from sklearn.feature_selection import SelectKBest, chi2, f_classif\n",
    "from sklearn import preprocessing\n",
    "from sklearn.model_selection import cross_val_score, train_test_split\n",
    "from sklearn.neighbors import KNeighborsClassifier\n",
    "from sklearn.naive_bayes import GaussianNB\n",
    "from sklearn.tree import DecisionTreeClassifier\n",
    "from sklearn.linear_model import Perceptron\n",
    "from sklearn.svm import SVC, LinearSVC\n",
    "from sklearn.neural_network import MLPClassifier\n",
    "from sklearn.metrics import confusion_matrix"
   ]
  },
  {
   "cell_type": "markdown",
   "metadata": {},
   "source": [
    "## Load Data:"
   ]
  },
  {
   "cell_type": "code",
   "execution_count": 2,
   "metadata": {
    "collapsed": true
   },
   "outputs": [],
   "source": [
    "train = pd.read_csv(\"train.csv\", header=0)\n",
    "test = pd.read_csv(\"test.csv\", header=0)\n",
    "validate = pd.read_csv(\"validate.csv\", header=0)"
   ]
  },
  {
   "cell_type": "code",
   "execution_count": 3,
   "metadata": {},
   "outputs": [
    {
     "data": {
      "text/plain": [
       "Number_of_valued_Kneset_members                         float64\n",
       "Yearly_IncomeK                                          float64\n",
       "Overall_happiness_score                                 float64\n",
       "Avg_Satisfaction_with_previous_vote                     float64\n",
       "Garden_sqr_meter_per_person_in_residancy_area           float64\n",
       "Weighted_education_rank                                 float64\n",
       "Vote                                                     object\n",
       "Number_of_valued_Kneset_members_isNull                    int64\n",
       "Yearly_IncomeK_isNull                                     int64\n",
       "Overall_happiness_score_isNull                            int64\n",
       "Avg_Satisfaction_with_previous_vote_isNull                int64\n",
       "Garden_sqr_meter_per_person_in_residancy_area_isNull      int64\n",
       "Weighted_education_rank_isNull                            int64\n",
       "Most_Important_Issue_int                                  int64\n",
       "Will_vote_only_large_party_int                            int64\n",
       "dtype: object"
      ]
     },
     "execution_count": 3,
     "metadata": {},
     "output_type": "execute_result"
    }
   ],
   "source": [
    "train.dtypes"
   ]
  },
  {
   "cell_type": "markdown",
   "metadata": {},
   "source": [
    "## Arrange Classifiers:"
   ]
  },
  {
   "cell_type": "code",
   "execution_count": 4,
   "metadata": {
    "collapsed": true
   },
   "outputs": [],
   "source": [
    "names = [\"Nearest Neighbors\", \"Naive Bayes\", \"Decision Tree\", \"Perceptron\", \n",
    "         \"Linear SVM OVO\", \"Linear SVM OVR\", \"MLP\"] "
   ]
  },
  {
   "cell_type": "code",
   "execution_count": 23,
   "metadata": {
    "collapsed": true
   },
   "outputs": [],
   "source": [
    "classifiers = {\n",
    "    KNeighborsClassifier(1):\"Nearest Neighbors\",\n",
    "    GaussianNB():\"Naive Bayes\",\n",
    "    DecisionTreeClassifier(max_depth=5):\"Decision Tree\",\n",
    "    Perceptron(n_iter=100):\"Perceptron\",\n",
    "    SVC(kernel=\"linear\", C=1):\"Linear SVM OVO\",\n",
    "    LinearSVC(C=1):\"Linear SVM OVR\",\n",
    "    MLPClassifier(verbose=0, activation='relu', hidden_layer_sizes=(50, 25, 10), \n",
    "                  random_state=0, max_iter=500, solver='sgd', \n",
    "                  learning_rate='invscaling', momentum=.9,\n",
    "                  nesterovs_momentum=True, learning_rate_init=0.2):\"MLP\"}\n",
    "    "
   ]
  },
  {
   "cell_type": "markdown",
   "metadata": {},
   "source": [
    "## Arrange data sets:"
   ]
  },
  {
   "cell_type": "code",
   "execution_count": 32,
   "metadata": {},
   "outputs": [],
   "source": [
    "X_train = train.drop(['Vote'],1)\n",
    "Y_train = train.Vote\n",
    "X_test = train.drop(['Vote'],1)\n",
    "Y_test = train.Vote\n",
    "X_validate = validate.drop(['Vote'],1)\n",
    "Y_validate = validate.Vote"
   ]
  },
  {
   "cell_type": "markdown",
   "metadata": {},
   "source": [
    "## Run over classifiers:"
   ]
  },
  {
   "cell_type": "code",
   "execution_count": 30,
   "metadata": {},
   "outputs": [],
   "source": [
    "test_scores = {\"Nearest Neighbors\":0, \"Naive Bayes\":0, \"Decision Tree\":0, \"Perceptron\":0, \n",
    "         \"Linear SVM OVO\":0, \"Linear SVM OVR\":0, \"MLP\":0}"
   ]
  },
  {
   "cell_type": "code",
   "execution_count": 31,
   "metadata": {},
   "outputs": [
    {
     "name": "stderr",
     "output_type": "stream",
     "text": [
      "/Users/odedgolden/anaconda2/lib/python2.7/site-packages/sklearn/linear_model/stochastic_gradient.py:117: DeprecationWarning: n_iter parameter is deprecated in 0.19 and will be removed in 0.21. Use max_iter and tol instead.\n",
      "  DeprecationWarning)\n"
     ]
    }
   ],
   "source": [
    "# iterate over classifiers\n",
    "\n",
    "for clf in classifiers:\n",
    "    clf.fit(X_train, Y_train)\n",
    "    test_scores[classifiers[clf]] = clf.score(X_test, Y_test)\n"
   ]
  },
  {
   "cell_type": "code",
   "execution_count": 29,
   "metadata": {
    "scrolled": true
   },
   "outputs": [
    {
     "data": {
      "text/plain": [
       "{'Decision Tree': 0.82499999999999996,\n",
       " 'Linear SVM OVO': 0.90833333333333333,\n",
       " 'Linear SVM OVR': 0.64016666666666666,\n",
       " 'MLP': 0.18516666666666667,\n",
       " 'Naive Bayes': 0.85833333333333328,\n",
       " 'Nearest Neighbors': 1.0,\n",
       " 'Perceptron': 0.52833333333333332}"
      ]
     },
     "execution_count": 29,
     "metadata": {},
     "output_type": "execute_result"
    }
   ],
   "source": [
    "test_scores"
   ]
  },
  {
   "cell_type": "code",
   "execution_count": 34,
   "metadata": {
    "collapsed": true
   },
   "outputs": [],
   "source": [
    "validate_scores = {\"Nearest Neighbors\":0, \"Naive Bayes\":0, \"Decision Tree\":0, \"Perceptron\":0, \n",
    "         \"Linear SVM OVO\":0, \"Linear SVM OVR\":0, \"MLP\":0}"
   ]
  },
  {
   "cell_type": "code",
   "execution_count": 35,
   "metadata": {},
   "outputs": [],
   "source": [
    "for clf in classifiers:\n",
    "    validate_scores[classifiers[clf]] = clf.score(X_validate, Y_validate)"
   ]
  },
  {
   "cell_type": "code",
   "execution_count": 36,
   "metadata": {},
   "outputs": [
    {
     "data": {
      "text/plain": [
       "{'Decision Tree': 0.80900000000000005,\n",
       " 'Linear SVM OVO': 0.90700000000000003,\n",
       " 'Linear SVM OVR': 0.71850000000000003,\n",
       " 'MLP': 0.188,\n",
       " 'Naive Bayes': 0.85450000000000004,\n",
       " 'Nearest Neighbors': 0.76800000000000002,\n",
       " 'Perceptron': 0.52449999999999997}"
      ]
     },
     "execution_count": 36,
     "metadata": {},
     "output_type": "execute_result"
    }
   ],
   "source": [
    "validate_scores"
   ]
  },
  {
   "cell_type": "markdown",
   "metadata": {},
   "source": [
    "## Choose classifiers:"
   ]
  },
  {
   "cell_type": "markdown",
   "metadata": {},
   "source": [
    "The best score is for Linear SVM OVO"
   ]
  },
  {
   "cell_type": "code",
   "execution_count": 37,
   "metadata": {
    "collapsed": true
   },
   "outputs": [],
   "source": [
    "svm = classifiers.keys()[classifiers.values().index('Linear SVM OVO')]"
   ]
  },
  {
   "cell_type": "markdown",
   "metadata": {},
   "source": [
    "## Predict Election Results:"
   ]
  },
  {
   "cell_type": "code",
   "execution_count": 47,
   "metadata": {
    "collapsed": true
   },
   "outputs": [],
   "source": [
    "predictions = svm.predict(X_validate)\n",
    "parties = Y_train.unique()"
   ]
  },
  {
   "cell_type": "code",
   "execution_count": 48,
   "metadata": {
    "scrolled": true
   },
   "outputs": [
    {
     "data": {
      "text/plain": [
       "array(['Purples', 'Browns', 'Greens', 'Blues', 'Whites', 'Pinks', 'Reds',\n",
       "       'Oranges', 'Yellows', 'Greys'], dtype=object)"
      ]
     },
     "execution_count": 48,
     "metadata": {},
     "output_type": "execute_result"
    }
   ],
   "source": [
    "# predictions\n",
    "parties"
   ]
  },
  {
   "cell_type": "code",
   "execution_count": 68,
   "metadata": {
    "collapsed": true
   },
   "outputs": [],
   "source": [
    "results = {'Purples':0, 'Browns':0, 'Greens':0, 'Blues':0, 'Whites':0, 'Pinks':0, 'Reds':0,\n",
    "       'Oranges':0, 'Yellows':0, 'Greys':0}"
   ]
  },
  {
   "cell_type": "code",
   "execution_count": 69,
   "metadata": {},
   "outputs": [],
   "source": [
    "for p in predictions:\n",
    "    for party in parties:\n",
    "        if p==party:\n",
    "            results[party]= results[party]+1\n",
    "            \n",
    "            "
   ]
  },
  {
   "cell_type": "code",
   "execution_count": 70,
   "metadata": {
    "scrolled": false
   },
   "outputs": [
    {
     "data": {
      "text/plain": [
       "{'Blues': 186,\n",
       " 'Browns': 432,\n",
       " 'Greens': 320,\n",
       " 'Greys': 120,\n",
       " 'Oranges': 112,\n",
       " 'Pinks': 202,\n",
       " 'Purples': 385,\n",
       " 'Reds': 102,\n",
       " 'Whites': 44,\n",
       " 'Yellows': 97}"
      ]
     },
     "execution_count": 70,
     "metadata": {},
     "output_type": "execute_result"
    }
   ],
   "source": [
    "len(predictions)\n",
    "results"
   ]
  },
  {
   "cell_type": "markdown",
   "metadata": {},
   "source": [
    "## Plot results pie:"
   ]
  },
  {
   "cell_type": "code",
   "execution_count": 76,
   "metadata": {},
   "outputs": [
    {
     "data": {
      "image/png": "[encoded data removed]",
      "text/plain": [
       "<matplotlib.figure.Figure at 0x10c624990>"
      ]
     },
     "metadata": {},
     "output_type": "display_data"
    }
   ],
   "source": [
    "# Pie chart, where the slices will be ordered and plotted counter-clockwise:\n",
    "labels = results.keys()\n",
    "sizes = results.values()\n",
    "\n",
    "fig1, ax1 = plt.subplots()\n",
    "ax1.pie(sizes, explode=[0]*len(sizes), labels=labels, autopct='%1.1f%%',\n",
    "        shadow=True, startangle=90)\n",
    "ax1.axis('equal')  # Equal aspect ratio ensures that pie is drawn as a circle.\n",
    "\n",
    "plt.show()"
   ]
  },
  {
   "cell_type": "markdown",
   "metadata": {},
   "source": [
    "## Confusion Matrix:"
   ]
  },
  {
   "cell_type": "code",
   "execution_count": 72,
   "metadata": {},
   "outputs": [
    {
     "data": {
      "text/plain": [
       "array([[166,   0,   0,   0,   0,   0,   0,   0,   0,  18],\n",
       "       [  0, 369,   0,   0,   0,   2,   3,   0,   2,   0],\n",
       "       [  0,   0, 319,   0,   0,   0,   2,   0,   0,   0],\n",
       "       [  0,   1,   0, 113,  10,   0,   0,   3,   0,   0],\n",
       "       [  0,   0,   0,   2,  91,   0,   0,   6,   0,   0],\n",
       "       [  0,  27,   0,   0,   0, 187,   4,   0,   2,   0],\n",
       "       [  0,  24,   1,   0,   0,   4, 364,   0,   7,   0],\n",
       "       [  0,   0,   0,   5,  11,   0,   1,  93,   0,   0],\n",
       "       [  0,  11,   0,   0,   0,   9,  11,   0,  33,   0],\n",
       "       [ 20,   0,   0,   0,   0,   0,   0,   0,   0,  79]])"
      ]
     },
     "execution_count": 72,
     "metadata": {},
     "output_type": "execute_result"
    }
   ],
   "source": [
    "confusion_matrix(Y_validate, predictions, labels=None, sample_weight=None)"
   ]
  },
  {
   "cell_type": "code",
   "execution_count": null,
   "metadata": {
    "collapsed": true
   },
   "outputs": [],
   "source": []
  }
 ],
 "metadata": {
  "kernelspec": {
   "display_name": "Python 2",
   "language": "python",
   "name": "python2"
  },
  "language_info": {
   "codemirror_mode": {
    "name": "ipython",
    "version": 2
   },
   "file_extension": ".py",
   "mimetype": "text/x-python",
   "name": "python",
   "nbconvert_exporter": "python",
   "pygments_lexer": "ipython2",
   "version": "2.7.14"
  }
 },
 "nbformat": 4,
 "nbformat_minor": 2
}
