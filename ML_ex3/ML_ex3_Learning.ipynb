{
 "cells": [
  {
   "cell_type": "code",
   "execution_count": 86,
   "metadata": {
    "collapsed": true
   },
   "outputs": [],
   "source": [
    "import numpy as np\n",
    "import pandas as pd\n",
    "import matplotlib.pyplot as plt\n",
    "%matplotlib inline\n",
    "from matplotlib.colors import ListedColormap\n",
    "from mpl_toolkits.mplot3d import Axes3D\n",
    "from sklearn import datasets\n",
    "from sklearn.decomposition import PCA\n",
    "from sklearn.feature_selection import SelectKBest, chi2, f_classif\n",
    "from sklearn import preprocessing\n",
    "from sklearn.model_selection import cross_val_score, train_test_split\n",
    "from sklearn.neighbors import KNeighborsClassifier\n",
    "from sklearn.naive_bayes import GaussianNB\n",
    "from sklearn.tree import DecisionTreeClassifier\n",
    "from sklearn.linear_model import Perceptron\n",
    "from sklearn.svm import SVC, LinearSVC\n",
    "from sklearn.neural_network import MLPClassifier\n",
    "from sklearn.metrics import confusion_matrix"
   ]
  },
  {
   "cell_type": "markdown",
   "metadata": {},
   "source": [
    "## Load Data:"
   ]
  },
  {
   "cell_type": "code",
   "execution_count": 87,
   "metadata": {
    "collapsed": true
   },
   "outputs": [],
   "source": [
    "train = pd.read_csv(\"train.csv\", header=0)\n",
    "test = pd.read_csv(\"test.csv\", header=0)\n",
    "validate = pd.read_csv(\"validate.csv\", header=0)"
   ]
  },
  {
   "cell_type": "code",
   "execution_count": 88,
   "metadata": {},
   "outputs": [
    {
     "data": {
      "text/plain": [
       "Number_of_valued_Kneset_members                         float64\n",
       "Yearly_IncomeK                                          float64\n",
       "Overall_happiness_score                                 float64\n",
       "Avg_Satisfaction_with_previous_vote                     float64\n",
       "Garden_sqr_meter_per_person_in_residancy_area           float64\n",
       "Weighted_education_rank                                 float64\n",
       "Vote                                                     object\n",
       "Number_of_valued_Kneset_members_isNull                    int64\n",
       "Yearly_IncomeK_isNull                                     int64\n",
       "Overall_happiness_score_isNull                            int64\n",
       "Avg_Satisfaction_with_previous_vote_isNull                int64\n",
       "Garden_sqr_meter_per_person_in_residancy_area_isNull      int64\n",
       "Weighted_education_rank_isNull                            int64\n",
       "Most_Important_Issue_int                                  int64\n",
       "Will_vote_only_large_party_int                            int64\n",
       "dtype: object"
      ]
     },
     "execution_count": 88,
     "metadata": {},
     "output_type": "execute_result"
    }
   ],
   "source": [
    "train.dtypes"
   ]
  },
  {
   "cell_type": "markdown",
   "metadata": {},
   "source": [
    "## Arrange Classifiers:"
   ]
  },
  {
   "cell_type": "code",
   "execution_count": 89,
   "metadata": {
    "collapsed": true
   },
   "outputs": [],
   "source": [
    "names = [\"Nearest Neighbors\", \"Naive Bayes\", \"Decision Tree\", \"Perceptron\", \n",
    "         \"Linear SVM OVO\", \"Linear SVM OVR\", \"MLP\"] "
   ]
  },
  {
   "cell_type": "code",
   "execution_count": 90,
   "metadata": {
    "collapsed": true
   },
   "outputs": [],
   "source": [
    "classifiers = {\n",
    "    KNeighborsClassifier(1):\"Nearest Neighbors\",\n",
    "    GaussianNB():\"Naive Bayes\",\n",
    "    DecisionTreeClassifier(max_depth=5):\"Decision Tree\",\n",
    "    Perceptron(n_iter=100):\"Perceptron\",\n",
    "    SVC(kernel=\"linear\", C=1):\"Linear SVM OVO\",\n",
    "    LinearSVC(C=1):\"Linear SVM OVR\",\n",
    "    MLPClassifier(verbose=0, activation='relu', hidden_layer_sizes=(50, 25, 10), \n",
    "                  random_state=0, max_iter=500, solver='sgd', \n",
    "                  learning_rate='invscaling', momentum=.9,\n",
    "                  nesterovs_momentum=True, learning_rate_init=0.2):\"MLP\"}\n",
    "    "
   ]
  },
  {
   "cell_type": "markdown",
   "metadata": {},
   "source": [
    "## Arrange data sets:"
   ]
  },
  {
   "cell_type": "code",
   "execution_count": 91,
   "metadata": {},
   "outputs": [],
   "source": [
    "X_train = train.drop(['Vote'],1)\n",
    "Y_train = train.Vote\n",
    "X_test = train.drop(['Vote'],1)\n",
    "Y_test = train.Vote\n",
    "X_validate = validate.drop(['Vote'],1)\n",
    "Y_validate = validate.Vote"
   ]
  },
  {
   "cell_type": "markdown",
   "metadata": {},
   "source": [
    "## Run over classifiers:"
   ]
  },
  {
   "cell_type": "code",
   "execution_count": 92,
   "metadata": {},
   "outputs": [],
   "source": [
    "test_scores = {\"Nearest Neighbors\":0, \"Naive Bayes\":0, \"Decision Tree\":0, \"Perceptron\":0, \n",
    "         \"Linear SVM OVO\":0, \"Linear SVM OVR\":0, \"MLP\":0}"
   ]
  },
  {
   "cell_type": "code",
   "execution_count": 93,
   "metadata": {},
   "outputs": [
    {
     "name": "stderr",
     "output_type": "stream",
     "text": [
      "/Users/odedgolden/anaconda2/lib/python2.7/site-packages/sklearn/linear_model/stochastic_gradient.py:117: DeprecationWarning: n_iter parameter is deprecated in 0.19 and will be removed in 0.21. Use max_iter and tol instead.\n",
      "  DeprecationWarning)\n"
     ]
    }
   ],
   "source": [
    "# iterate over classifiers\n",
    "\n",
    "for clf in classifiers:\n",
    "    clf.fit(X_train, Y_train)\n",
    "    test_scores[classifiers[clf]] = clf.score(X_test, Y_test)\n"
   ]
  },
  {
   "cell_type": "code",
   "execution_count": 94,
   "metadata": {
    "scrolled": true
   },
   "outputs": [
    {
     "data": {
      "text/plain": [
       "{'Decision Tree': 0.78766666666666663,\n",
       " 'Linear SVM OVO': 0.91200000000000003,\n",
       " 'Linear SVM OVR': 0.63400000000000001,\n",
       " 'MLP': 0.18966666666666668,\n",
       " 'Naive Bayes': 0.85450000000000004,\n",
       " 'Nearest Neighbors': 1.0,\n",
       " 'Perceptron': 0.64366666666666672}"
      ]
     },
     "execution_count": 94,
     "metadata": {},
     "output_type": "execute_result"
    }
   ],
   "source": [
    "test_scores"
   ]
  },
  {
   "cell_type": "code",
   "execution_count": 112,
   "metadata": {
    "collapsed": true
   },
   "outputs": [],
   "source": [
    "validate_scores = {\"Nearest Neighbors\":0, \"Naive Bayes\":0, \"Decision Tree\":0, \"Perceptron\":0, \n",
    "         \"Linear SVM OVO\":0, \"Linear SVM OVR\":0, \"MLP\":0}\n",
    "validate_confusion = {\"Nearest Neighbors\":0, \"Naive Bayes\":0, \"Decision Tree\":0, \"Perceptron\":0, \n",
    "         \"Linear SVM OVO\":0, \"Linear SVM OVR\":0, \"MLP\":0}\n",
    "validate_cross = {\"Nearest Neighbors\":0, \"Naive Bayes\":0, \"Decision Tree\":0, \"Perceptron\":0, \n",
    "         \"Linear SVM OVO\":0, \"Linear SVM OVR\":0, \"MLP\":0}"
   ]
  },
  {
   "cell_type": "code",
   "execution_count": 121,
   "metadata": {},
   "outputs": [
    {
     "name": "stderr",
     "output_type": "stream",
     "text": [
      "/Users/odedgolden/anaconda2/lib/python2.7/site-packages/sklearn/linear_model/stochastic_gradient.py:117: DeprecationWarning: n_iter parameter is deprecated in 0.19 and will be removed in 0.21. Use max_iter and tol instead.\n",
      "  DeprecationWarning)\n",
      "/Users/odedgolden/anaconda2/lib/python2.7/site-packages/sklearn/linear_model/stochastic_gradient.py:117: DeprecationWarning: n_iter parameter is deprecated in 0.19 and will be removed in 0.21. Use max_iter and tol instead.\n",
      "  DeprecationWarning)\n"
     ]
    }
   ],
   "source": [
    "for clf in classifiers:\n",
    "    validate_scores[classifiers[clf]] = clf.score(X_validate, Y_validate)\n",
    "    validate_cross[classifiers[clf]] = cross_val_score(clf, X_validate, Y_validate, cv=2)\n",
    "    predictions = clf.predict(X_validate)\n",
    "    conf = confusion_matrix(Y_validate, predictions, labels=None, sample_weight=None)\n",
    "    n = len(conf[0])\n",
    "    validate_confusion[classifiers[clf]] = conf.sum() - sum(conf[i][i] for i in range(n))"
   ]
  },
  {
   "cell_type": "code",
   "execution_count": 107,
   "metadata": {},
   "outputs": [
    {
     "data": {
      "text/plain": [
       "{'Decision Tree': array([ 0.81930693,  0.81296758,  0.79      ,  0.8245614 ,  0.8030303 ]),\n",
       " 'Linear SVM OVO': array([ 0.89108911,  0.87780549,  0.9075    ,  0.87969925,  0.88131313]),\n",
       " 'Linear SVM OVR': array([ 0.46287129,  0.73067332,  0.605     ,  0.70426065,  0.61363636]),\n",
       " 'MLP': array([ 0.09405941,  0.21446384,  0.095     ,  0.21553885,  0.21717172]),\n",
       " 'Naive Bayes': array([ 0.76237624,  0.78802993,  0.5625    ,  0.58897243,  0.83080808]),\n",
       " 'Nearest Neighbors': array([ 0.62871287,  0.66583541,  0.665     ,  0.68170426,  0.65656566]),\n",
       " 'Perceptron': array([ 0.35148515,  0.36408978,  0.515     ,  0.39348371,  0.41666667])}"
      ]
     },
     "execution_count": 107,
     "metadata": {},
     "output_type": "execute_result"
    }
   ],
   "source": [
    "validate_cross"
   ]
  },
  {
   "cell_type": "code",
   "execution_count": 97,
   "metadata": {
    "scrolled": true
   },
   "outputs": [
    {
     "data": {
      "text/plain": [
       "{'Decision Tree': 0.77700000000000002,\n",
       " 'Linear SVM OVO': 0.90400000000000003,\n",
       " 'Linear SVM OVR': 0.63500000000000001,\n",
       " 'MLP': 0.183,\n",
       " 'Naive Bayes': 0.84750000000000003,\n",
       " 'Nearest Neighbors': 0.754,\n",
       " 'Perceptron': 0.63600000000000001}"
      ]
     },
     "execution_count": 97,
     "metadata": {},
     "output_type": "execute_result"
    }
   ],
   "source": [
    "validate_scores"
   ]
  },
  {
   "cell_type": "code",
   "execution_count": 122,
   "metadata": {},
   "outputs": [
    {
     "data": {
      "text/plain": [
       "{'Decision Tree': 446,\n",
       " 'Linear SVM OVO': 192,\n",
       " 'Linear SVM OVR': 730,\n",
       " 'MLP': 1634,\n",
       " 'Naive Bayes': 305,\n",
       " 'Nearest Neighbors': 492,\n",
       " 'Perceptron': 728}"
      ]
     },
     "execution_count": 122,
     "metadata": {},
     "output_type": "execute_result"
    }
   ],
   "source": [
    "validate_confusion"
   ]
  },
  {
   "cell_type": "markdown",
   "metadata": {},
   "source": [
    "## Choose classifiers:"
   ]
  },
  {
   "cell_type": "markdown",
   "metadata": {},
   "source": [
    "The best score is for Linear SVM OVO"
   ]
  },
  {
   "cell_type": "code",
   "execution_count": 98,
   "metadata": {
    "collapsed": true
   },
   "outputs": [],
   "source": [
    "svm = classifiers.keys()[classifiers.values().index('Nearest Neighbors')]"
   ]
  },
  {
   "cell_type": "markdown",
   "metadata": {},
   "source": [
    "## Predict Election Results:"
   ]
  },
  {
   "cell_type": "code",
   "execution_count": 99,
   "metadata": {
    "collapsed": true
   },
   "outputs": [],
   "source": [
    "predictions = svm.predict(X_test)\n",
    "parties = Y_train.unique()"
   ]
  },
  {
   "cell_type": "code",
   "execution_count": 100,
   "metadata": {
    "scrolled": true
   },
   "outputs": [
    {
     "data": {
      "text/plain": [
       "array(['Greens', 'Purples', 'Browns', 'Pinks', 'Whites', 'Blues', 'Reds',\n",
       "       'Yellows', 'Greys', 'Oranges'], dtype=object)"
      ]
     },
     "execution_count": 100,
     "metadata": {},
     "output_type": "execute_result"
    }
   ],
   "source": [
    "# predictions\n",
    "parties"
   ]
  },
  {
   "cell_type": "code",
   "execution_count": 101,
   "metadata": {
    "collapsed": true
   },
   "outputs": [],
   "source": [
    "results = {'Purples':0, 'Browns':0, 'Greens':0, 'Blues':0, 'Whites':0, 'Pinks':0, 'Reds':0,\n",
    "       'Oranges':0, 'Yellows':0, 'Greys':0}"
   ]
  },
  {
   "cell_type": "code",
   "execution_count": 102,
   "metadata": {},
   "outputs": [],
   "source": [
    "for p in predictions:\n",
    "    for party in parties:\n",
    "        if p==party:\n",
    "            results[party]= results[party]+1\n",
    "            \n",
    "            "
   ]
  },
  {
   "cell_type": "code",
   "execution_count": 103,
   "metadata": {
    "scrolled": false
   },
   "outputs": [
    {
     "data": {
      "text/plain": [
       "{'Blues': 559,\n",
       " 'Browns': 1138,\n",
       " 'Greens': 970,\n",
       " 'Greys': 340,\n",
       " 'Oranges': 329,\n",
       " 'Pinks': 632,\n",
       " 'Purples': 1226,\n",
       " 'Reds': 298,\n",
       " 'Whites': 207,\n",
       " 'Yellows': 301}"
      ]
     },
     "execution_count": 103,
     "metadata": {},
     "output_type": "execute_result"
    }
   ],
   "source": [
    "len(predictions)\n",
    "results"
   ]
  },
  {
   "cell_type": "markdown",
   "metadata": {},
   "source": [
    "## Plot results pie:"
   ]
  },
  {
   "cell_type": "code",
   "execution_count": 104,
   "metadata": {},
   "outputs": [
    {
     "data": {
      "image/png": "[encoded data removed]",
      "text/plain": [
       "<matplotlib.figure.Figure at 0x1a100f6190>"
      ]
     },
     "metadata": {},
     "output_type": "display_data"
    }
   ],
   "source": [
    "# Pie chart, where the slices will be ordered and plotted counter-clockwise:\n",
    "labels = results.keys()\n",
    "sizes = results.values()\n",
    "\n",
    "fig1, ax1 = plt.subplots()\n",
    "ax1.pie(sizes, explode=[0]*len(sizes), labels=labels, autopct='%1.1f%%',\n",
    "        shadow=True, startangle=90)\n",
    "ax1.axis('equal')  # Equal aspect ratio ensures that pie is drawn as a circle.\n",
    "\n",
    "plt.show()"
   ]
  },
  {
   "cell_type": "markdown",
   "metadata": {},
   "source": [
    "## Plot real results pie"
   ]
  },
  {
   "cell_type": "markdown",
   "metadata": {},
   "source": [
    "## Confusion Matrix:"
   ]
  },
  {
   "cell_type": "code",
   "execution_count": 72,
   "metadata": {},
   "outputs": [
    {
     "data": {
      "text/plain": [
       "array([[166,   0,   0,   0,   0,   0,   0,   0,   0,  18],\n",
       "       [  0, 369,   0,   0,   0,   2,   3,   0,   2,   0],\n",
       "       [  0,   0, 319,   0,   0,   0,   2,   0,   0,   0],\n",
       "       [  0,   1,   0, 113,  10,   0,   0,   3,   0,   0],\n",
       "       [  0,   0,   0,   2,  91,   0,   0,   6,   0,   0],\n",
       "       [  0,  27,   0,   0,   0, 187,   4,   0,   2,   0],\n",
       "       [  0,  24,   1,   0,   0,   4, 364,   0,   7,   0],\n",
       "       [  0,   0,   0,   5,  11,   0,   1,  93,   0,   0],\n",
       "       [  0,  11,   0,   0,   0,   9,  11,   0,  33,   0],\n",
       "       [ 20,   0,   0,   0,   0,   0,   0,   0,   0,  79]])"
      ]
     },
     "execution_count": 72,
     "metadata": {},
     "output_type": "execute_result"
    }
   ],
   "source": [
    "confusion_matrix(Y_validate, predictions, labels=None, sample_weight=None)"
   ]
  },
  {
   "cell_type": "code",
   "execution_count": null,
   "metadata": {
    "collapsed": true
   },
   "outputs": [],
   "source": []
  }
 ],
 "metadata": {
  "kernelspec": {
   "display_name": "Python 2",
   "language": "python",
   "name": "python2"
  },
  "language_info": {
   "codemirror_mode": {
    "name": "ipython",
    "version": 2
   },
   "file_extension": ".py",
   "mimetype": "text/x-python",
   "name": "python",
   "nbconvert_exporter": "python",
   "pygments_lexer": "ipython2",
   "version": "2.7.14"
  }
 },
 "nbformat": 4,
 "nbformat_minor": 2
}
