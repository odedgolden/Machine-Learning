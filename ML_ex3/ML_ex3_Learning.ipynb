{
 "cells": [
  {
   "cell_type": "code",
   "execution_count": 1,
   "metadata": {
    "collapsed": true
   },
   "outputs": [],
   "source": [
    "import numpy as np\n",
    "import pandas as pd\n",
    "import matplotlib.pyplot as plt\n",
    "%matplotlib inline\n",
    "from matplotlib.colors import ListedColormap\n",
    "from mpl_toolkits.mplot3d import Axes3D\n",
    "from sklearn import datasets\n",
    "from sklearn.decomposition import PCA\n",
    "from sklearn.feature_selection import SelectKBest, chi2, f_classif\n",
    "from sklearn import preprocessing\n",
    "from sklearn.model_selection import cross_val_score, train_test_split\n",
    "from sklearn.neighbors import KNeighborsClassifier\n",
    "from sklearn.naive_bayes import GaussianNB\n",
    "from sklearn.tree import DecisionTreeClassifier\n",
    "from sklearn.linear_model import Perceptron\n",
    "from sklearn.svm import SVC, LinearSVC\n",
    "from sklearn.neural_network import MLPClassifier"
   ]
  },
  {
   "cell_type": "markdown",
   "metadata": {},
   "source": [
    "## Load Data:"
   ]
  },
  {
   "cell_type": "code",
   "execution_count": 2,
   "metadata": {},
   "outputs": [],
   "source": [
    "train = pd.read_csv(\"train.csv\", header=0)\n",
    "test = pd.read_csv(\"test.csv\", header=0)\n",
    "validate = pd.read_csv(\"validate.csv\", header=0)"
   ]
  },
  {
   "cell_type": "code",
   "execution_count": 7,
   "metadata": {},
   "outputs": [
    {
     "data": {
      "text/plain": [
       "Vote                                                     object\n",
       "Occupation_Satisfaction                                 float64\n",
       "Avg_monthly_expense_when_under_age_21                   float64\n",
       "AVG_lottary_expanses                                    float64\n",
       "Avg_Satisfaction_with_previous_vote                     float64\n",
       "Garden_sqr_meter_per_person_in_residancy_area           float64\n",
       "Financial_balance_score_(0-1)                           float64\n",
       "%Of_Household_Income                                    float64\n",
       "Avg_government_satisfaction                             float64\n",
       "Avg_education_importance                                float64\n",
       "Avg_environmental_importance                            float64\n",
       "Avg_Residancy_Altitude                                  float64\n",
       "Yearly_ExpensesK                                        float64\n",
       "%Time_invested_in_work                                  float64\n",
       "Yearly_IncomeK                                          float64\n",
       "Avg_monthly_expense_on_pets_or_plants                   float64\n",
       "Avg_monthly_household_cost                              float64\n",
       "Phone_minutes_10_years                                  float64\n",
       "Avg_size_per_room                                       float64\n",
       "Weighted_education_rank                                 float64\n",
       "%_satisfaction_financial_policy                         float64\n",
       "Avg_monthly_income_all_years                            float64\n",
       "Last_school_grades                                      float64\n",
       "Number_of_differnt_parties_voted_for                    float64\n",
       "Political_interest_Total_Score                          float64\n",
       "Number_of_valued_Kneset_members                         float64\n",
       "Overall_happiness_score                                 float64\n",
       "Num_of_kids_born_last_10_years                          float64\n",
       "Looking_at_poles_results_int                              int64\n",
       "Married_int                                               int64\n",
       "                                                         ...   \n",
       "Will_vote_only_large_party_int                          float64\n",
       "Main_transportation_int                                 float64\n",
       "Occupation_int                                          float64\n",
       "Avg_environmental_importance_isNull                       int64\n",
       "Avg_education_importance_isNull                           int64\n",
       "Yearly_ExpensesK_isNull                                   int64\n",
       "Garden_sqr_meter_per_person_in_residancy_area_isNull      int64\n",
       "Num_of_kids_born_last_10_years_isNull                     int64\n",
       "%Time_invested_in_work_isNull                             int64\n",
       "Weighted_education_rank_isNull                            int64\n",
       "Avg_monthly_expense_on_pets_or_plants_isNull              int64\n",
       "%_satisfaction_financial_policy_isNull                    int64\n",
       "Political_interest_Total_Score_isNull                     int64\n",
       "Avg_size_per_room_isNull                                  int64\n",
       "Avg_government_satisfaction_isNull                        int64\n",
       "Occupation_Satisfaction_isNull                            int64\n",
       "Avg_monthly_expense_when_under_age_21_isNull              int64\n",
       "Financial_balance_score_(0-1)_isNull                      int64\n",
       "Avg_monthly_household_cost_isNull                         int64\n",
       "Yearly_IncomeK_isNull                                     int64\n",
       "%Of_Household_Income_isNull                               int64\n",
       "Number_of_valued_Kneset_members_isNull                    int64\n",
       "AVG_lottary_expanses_isNull                               int64\n",
       "Overall_happiness_score_isNull                            int64\n",
       "Phone_minutes_10_years_isNull                             int64\n",
       "Avg_Residancy_Altitude_isNull                             int64\n",
       "Avg_monthly_income_all_years_isNull                       int64\n",
       "Avg_Satisfaction_with_previous_vote_isNull                int64\n",
       "Last_school_grades_isNull                                 int64\n",
       "Number_of_differnt_parties_voted_for_isNull               int64\n",
       "Length: 65, dtype: object"
      ]
     },
     "execution_count": 7,
     "metadata": {},
     "output_type": "execute_result"
    }
   ],
   "source": [
    "train.dtypes"
   ]
  },
  {
   "cell_type": "markdown",
   "metadata": {},
   "source": [
    "## Arrange Classifiers:"
   ]
  },
  {
   "cell_type": "code",
   "execution_count": null,
   "metadata": {
    "collapsed": true
   },
   "outputs": [],
   "source": [
    "names = [\"Nearest Neighbors\", \"Naive Bayes\", \"Decision Tree\", \"Perceptron\", \n",
    "         \"Linear SVM OVO\", \"Linear SVM OVR\", \"MLP\"] "
   ]
  },
  {
   "cell_type": "code",
   "execution_count": null,
   "metadata": {
    "collapsed": true
   },
   "outputs": [],
   "source": [
    "classifiers = [\n",
    "    KNeighborsClassifier(1),\n",
    "    GaussianNB(),\n",
    "    DecisionTreeClassifier(max_depth=5),\n",
    "    Perceptron(n_iter=100),\n",
    "    SVC(kernel=\"linear\", C=1),\n",
    "    LinearSVC(C=1),\n",
    "    MLPClassifier(verbose=0, activation='relu', hidden_layer_sizes=(50, 25, 10), \n",
    "                  random_state=0, max_iter=500, solver='sgd', \n",
    "                  learning_rate='invscaling', momentum=.9,\n",
    "                  nesterovs_momentum=True, learning_rate_init=0.2)]\n",
    "    "
   ]
  },
  {
   "cell_type": "code",
   "execution_count": null,
   "metadata": {
    "collapsed": true
   },
   "outputs": [],
   "source": [
    "# Create color maps\n",
    "cmap_light = ListedColormap(['#AAAAFF', '#AAFFAA', '#FFAAAA'])\n",
    "cmap_bold = ListedColormap(['#0000FF', '#00FF00', '#FF0000'])"
   ]
  },
  {
   "cell_type": "code",
   "execution_count": null,
   "metadata": {},
   "outputs": [],
   "source": [
    "figure = plt.figure(3, figsize=(21, 9))\n",
    "plt.clf()"
   ]
  },
  {
   "cell_type": "markdown",
   "metadata": {},
   "source": [
    "## Run over classifiers:"
   ]
  },
  {
   "cell_type": "code",
   "execution_count": null,
   "metadata": {
    "collapsed": true
   },
   "outputs": [],
   "source": [
    "i = 1\n",
    "# iterate over classifiers\n",
    "for name, clf in zip(names, classifiers):\n",
    "    ax = plt.subplot(len(datasets), len(classifiers) + 1, i)\n",
    "    clf.fit(X_train, y_train)\n",
    "    score = clf.score(X_test, y_test)\n",
    "\n",
    "        # Plot the decision boundary. For that, we will assign a color to each\n",
    "        # point in the mesh [x_min, m_max]x[y_min, y_max].\n",
    "        Z = clf.predict(np.c_[xx.ravel(), yy.ravel()])\n",
    "\n",
    "        # Put the result into a color plot\n",
    "        Z = Z.reshape(xx.shape)\n",
    "        ax.contourf(xx, yy, Z, cmap=cmap_light, alpha=.8)\n",
    "\n",
    "        # Plot also the training points\n",
    "        ax.scatter(X_train[:, 0], X_train[:, 1], c=y_train, cmap=cmap_bold, alpha=0.5)\n",
    "        # and testing points\n",
    "        ax.scatter(X_test[:, 0], X_test[:, 1], c=y_test, cmap=cmap_bold)\n",
    "\n",
    "        ax.set_xlim(xx.min(), xx.max())\n",
    "        ax.set_ylim(yy.min(), yy.max())\n",
    "        ax.set_xticks(())\n",
    "        ax.set_yticks(())\n",
    "        ax.set_title(name)\n",
    "        ax.text(xx.max() - .3, yy.min() + .3, ('%.2f' % score).lstrip('0'),\n",
    "                size=15, horizontalalignment='right')\n",
    "        i += 1\n",
    "\n",
    "figure.subplots_adjust(left=.001, right=.999)\n",
    "plt.show()"
   ]
  }
 ],
 "metadata": {
  "kernelspec": {
   "display_name": "Python 2",
   "language": "python",
   "name": "python2"
  },
  "language_info": {
   "codemirror_mode": {
    "name": "ipython",
    "version": 2
   },
   "file_extension": ".py",
   "mimetype": "text/x-python",
   "name": "python",
   "nbconvert_exporter": "python",
   "pygments_lexer": "ipython2",
   "version": "2.7.14"
  }
 },
 "nbformat": 4,
 "nbformat_minor": 2
}
