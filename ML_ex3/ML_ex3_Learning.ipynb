{
 "cells": [
  {
   "cell_type": "code",
   "execution_count": 1,
   "metadata": {
    "collapsed": true
   },
   "outputs": [],
   "source": [
    "import numpy as np\n",
    "import pandas as pd\n",
    "import matplotlib.pyplot as plt\n",
    "%matplotlib inline\n",
    "from matplotlib.colors import ListedColormap\n",
    "from mpl_toolkits.mplot3d import Axes3D\n",
    "from sklearn import datasets\n",
    "from sklearn.decomposition import PCA\n",
    "from sklearn.feature_selection import SelectKBest, chi2, f_classif\n",
    "from sklearn import preprocessing\n",
    "from sklearn.model_selection import cross_val_score, train_test_split\n",
    "from sklearn.neighbors import KNeighborsClassifier\n",
    "from sklearn.naive_bayes import GaussianNB\n",
    "from sklearn.tree import DecisionTreeClassifier\n",
    "from sklearn.linear_model import Perceptron\n",
    "from sklearn.svm import SVC, LinearSVC\n",
    "from sklearn.neural_network import MLPClassifier"
   ]
  },
  {
   "cell_type": "markdown",
   "metadata": {},
   "source": [
    "## Load Data:"
   ]
  },
  {
   "cell_type": "code",
   "execution_count": 2,
   "metadata": {
    "collapsed": true
   },
   "outputs": [],
   "source": [
    "train = pd.read_csv(\"train.csv\", header=0)\n",
    "test = pd.read_csv(\"test.csv\", header=0)\n",
    "validate = pd.read_csv(\"validate.csv\", header=0)"
   ]
  },
  {
   "cell_type": "code",
   "execution_count": 3,
   "metadata": {},
   "outputs": [
    {
     "data": {
      "text/plain": [
       "Number_of_valued_Kneset_members                         float64\n",
       "Yearly_IncomeK                                          float64\n",
       "Overall_happiness_score                                 float64\n",
       "Avg_Satisfaction_with_previous_vote                     float64\n",
       "Garden_sqr_meter_per_person_in_residancy_area           float64\n",
       "Weighted_education_rank                                 float64\n",
       "Vote                                                     object\n",
       "Number_of_valued_Kneset_members_isNull                    int64\n",
       "Yearly_IncomeK_isNull                                     int64\n",
       "Overall_happiness_score_isNull                            int64\n",
       "Avg_Satisfaction_with_previous_vote_isNull                int64\n",
       "Garden_sqr_meter_per_person_in_residancy_area_isNull      int64\n",
       "Weighted_education_rank_isNull                            int64\n",
       "Most_Important_Issue_int                                  int64\n",
       "Will_vote_only_large_party_int                            int64\n",
       "dtype: object"
      ]
     },
     "execution_count": 3,
     "metadata": {},
     "output_type": "execute_result"
    }
   ],
   "source": [
    "train.dtypes"
   ]
  },
  {
   "cell_type": "markdown",
   "metadata": {},
   "source": [
    "## Arrange Classifiers:"
   ]
  },
  {
   "cell_type": "code",
   "execution_count": 4,
   "metadata": {
    "collapsed": true
   },
   "outputs": [],
   "source": [
    "names = [\"Nearest Neighbors\", \"Naive Bayes\", \"Decision Tree\", \"Perceptron\", \n",
    "         \"Linear SVM OVO\", \"Linear SVM OVR\", \"MLP\"] "
   ]
  },
  {
   "cell_type": "code",
   "execution_count": 23,
   "metadata": {
    "collapsed": true
   },
   "outputs": [],
   "source": [
    "classifiers = {\n",
    "    KNeighborsClassifier(1):\"Nearest Neighbors\",\n",
    "    GaussianNB():\"Naive Bayes\",\n",
    "    DecisionTreeClassifier(max_depth=5):\"Decision Tree\",\n",
    "    Perceptron(n_iter=100):\"Perceptron\",\n",
    "    SVC(kernel=\"linear\", C=1):\"Linear SVM OVO\",\n",
    "    LinearSVC(C=1):\"Linear SVM OVR\",\n",
    "    MLPClassifier(verbose=0, activation='relu', hidden_layer_sizes=(50, 25, 10), \n",
    "                  random_state=0, max_iter=500, solver='sgd', \n",
    "                  learning_rate='invscaling', momentum=.9,\n",
    "                  nesterovs_momentum=True, learning_rate_init=0.2):\"MLP\"}\n",
    "    "
   ]
  },
  {
   "cell_type": "markdown",
   "metadata": {},
   "source": [
    "## Arrange data sets:"
   ]
  },
  {
   "cell_type": "code",
   "execution_count": 24,
   "metadata": {},
   "outputs": [],
   "source": [
    "X_train = train.drop(['Vote'],1)\n",
    "Y_train = train.Vote\n",
    "X_test = train.drop(['Vote'],1)\n",
    "Y_test = train.Vote"
   ]
  },
  {
   "cell_type": "markdown",
   "metadata": {},
   "source": [
    "## Run over classifiers:"
   ]
  },
  {
   "cell_type": "code",
   "execution_count": 27,
   "metadata": {},
   "outputs": [],
   "source": [
    "scores = {\"Nearest Neighbors\":0, \"Naive Bayes\":0, \"Decision Tree\":0, \"Perceptron\":0, \n",
    "         \"Linear SVM OVO\":0, \"Linear SVM OVR\":0, \"MLP\":0}"
   ]
  },
  {
   "cell_type": "code",
   "execution_count": 28,
   "metadata": {},
   "outputs": [
    {
     "name": "stderr",
     "output_type": "stream",
     "text": [
      "/Users/odedgolden/anaconda2/lib/python2.7/site-packages/sklearn/linear_model/stochastic_gradient.py:117: DeprecationWarning: n_iter parameter is deprecated in 0.19 and will be removed in 0.21. Use max_iter and tol instead.\n",
      "  DeprecationWarning)\n"
     ]
    }
   ],
   "source": [
    "# iterate over classifiers\n",
    "\n",
    "for clf in classifiers:\n",
    "    clf.fit(X_train, Y_train)\n",
    "    scores[classifiers[clf]] = clf.score(X_test, Y_test)\n"
   ]
  },
  {
   "cell_type": "code",
   "execution_count": 29,
   "metadata": {},
   "outputs": [
    {
     "data": {
      "text/plain": [
       "{'Decision Tree': 0.82499999999999996,\n",
       " 'Linear SVM OVO': 0.90833333333333333,\n",
       " 'Linear SVM OVR': 0.64016666666666666,\n",
       " 'MLP': 0.18516666666666667,\n",
       " 'Naive Bayes': 0.85833333333333328,\n",
       " 'Nearest Neighbors': 1.0,\n",
       " 'Perceptron': 0.52833333333333332}"
      ]
     },
     "execution_count": 29,
     "metadata": {},
     "output_type": "execute_result"
    }
   ],
   "source": [
    "scores"
   ]
  },
  {
   "cell_type": "code",
   "execution_count": null,
   "metadata": {
    "collapsed": true
   },
   "outputs": [],
   "source": []
  }
 ],
 "metadata": {
  "kernelspec": {
   "display_name": "Python 2",
   "language": "python",
   "name": "python2"
  },
  "language_info": {
   "codemirror_mode": {
    "name": "ipython",
    "version": 2
   },
   "file_extension": ".py",
   "mimetype": "text/x-python",
   "name": "python",
   "nbconvert_exporter": "python",
   "pygments_lexer": "ipython2",
   "version": "2.7.14"
  }
 },
 "nbformat": 4,
 "nbformat_minor": 2
}
