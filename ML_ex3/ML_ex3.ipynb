{
 "cells": [
  {
   "cell_type": "code",
   "execution_count": 1,
   "metadata": {
    "collapsed": true
   },
   "outputs": [],
   "source": [
    "import matplotlib.pyplot as plt\n",
    "%matplotlib inline\n",
    "import numpy as np\n",
    "import pandas as pd"
   ]
  },
  {
   "cell_type": "markdown",
   "metadata": {},
   "source": [
    "## Load Data:"
   ]
  },
  {
   "cell_type": "code",
   "execution_count": 13,
   "metadata": {
    "collapsed": true
   },
   "outputs": [],
   "source": [
    "df = pd.read_csv(\"ElectionsData.csv\", header=0)"
   ]
  },
  {
   "cell_type": "markdown",
   "metadata": {},
   "source": [
    "## Drop Features:"
   ]
  },
  {
   "cell_type": "code",
   "execution_count": 16,
   "metadata": {},
   "outputs": [],
   "source": [
    "col_list = ['Number_of_valued_Kneset_members', 'Yearly_IncomeK', 'Overall_happiness_score',\n",
    "'Avg_Satisfaction_with_previous_vote', 'Most_Important_Issue', 'Will_vote_only_large_party', \n",
    "'Garden_sqr_meter_per_person_in_residancy_area', 'Weighted_education_rank']\n",
    "df = df[col_list]"
   ]
  },
  {
   "cell_type": "code",
   "execution_count": 18,
   "metadata": {},
   "outputs": [
    {
     "name": "stdout",
     "output_type": "stream",
     "text": [
      "Number of features: 8\n"
     ]
    },
    {
     "data": {
      "text/plain": [
       "Number_of_valued_Kneset_members                  float64\n",
       "Yearly_IncomeK                                   float64\n",
       "Overall_happiness_score                          float64\n",
       "Avg_Satisfaction_with_previous_vote              float64\n",
       "Most_Important_Issue                              object\n",
       "Will_vote_only_large_party                        object\n",
       "Garden_sqr_meter_per_person_in_residancy_area    float64\n",
       "Weighted_education_rank                          float64\n",
       "dtype: object"
      ]
     },
     "execution_count": 18,
     "metadata": {},
     "output_type": "execute_result"
    }
   ],
   "source": [
    "print('Number of features: '+str(len(df.columns.values)))\n",
    "df.dtypes"
   ]
  },
  {
   "cell_type": "markdown",
   "metadata": {},
   "source": [
    "## Data Preperation:"
   ]
  },
  {
   "cell_type": "code",
   "execution_count": 19,
   "metadata": {},
   "outputs": [
    {
     "name": "stdout",
     "output_type": "stream",
     "text": [
      "Null values: 184\n"
     ]
    },
    {
     "data": {
      "text/plain": [
       "count    9816.000000\n",
       "mean       10.003362\n",
       "std         2.775684\n",
       "min         5.000000\n",
       "25%         8.000000\n",
       "50%        10.000000\n",
       "75%        12.000000\n",
       "max        16.000000\n",
       "Name: Number_of_valued_Kneset_members, dtype: float64"
      ]
     },
     "execution_count": 19,
     "metadata": {},
     "output_type": "execute_result"
    },
    {
     "data": {
      "image/png": "[encoded data removed]",
      "text/plain": [
       "<matplotlib.figure.Figure at 0x110b31a90>"
      ]
     },
     "metadata": {},
     "output_type": "display_data"
    }
   ],
   "source": [
    "print('Null values: '+str(data['Number_of_valued_Kneset_members'].isnull().sum()))\n",
    "data['Number_of_valued_Kneset_members'].hist(bins=1)\n",
    "data['Number_of_valued_Kneset_members'].describe()"
   ]
  },
  {
   "cell_type": "code",
   "execution_count": 20,
   "metadata": {},
   "outputs": [
    {
     "name": "stdout",
     "output_type": "stream",
     "text": [
      "Null values: 188\n"
     ]
    },
    {
     "data": {
      "text/plain": [
       "count    9812.000000\n",
       "mean      438.067689\n",
       "std       104.906893\n",
       "min         1.192798\n",
       "25%       380.418268\n",
       "50%       431.929888\n",
       "75%       495.842797\n",
       "max       822.073937\n",
       "Name: Yearly_IncomeK, dtype: float64"
      ]
     },
     "execution_count": 20,
     "metadata": {},
     "output_type": "execute_result"
    },
    {
     "data": {
      "image/png": "[encoded data removed]",
      "text/plain": [
       "<matplotlib.figure.Figure at 0x110cf1350>"
      ]
     },
     "metadata": {},
     "output_type": "display_data"
    }
   ],
   "source": [
    "print('Null values: '+str(data['Yearly_IncomeK'].isnull().sum()))\n",
    "data['Yearly_IncomeK'].hist()\n",
    "data['Yearly_IncomeK'].describe()"
   ]
  },
  {
   "cell_type": "code",
   "execution_count": 21,
   "metadata": {},
   "outputs": [
    {
     "name": "stdout",
     "output_type": "stream",
     "text": [
      "Null values: 178\n"
     ]
    },
    {
     "data": {
      "text/plain": [
       "count    9822.000000\n",
       "mean      489.970994\n",
       "std       114.889986\n",
       "min         1.641626\n",
       "25%       420.440579\n",
       "50%       484.003063\n",
       "75%       562.308711\n",
       "max       810.486075\n",
       "Name: Overall_happiness_score, dtype: float64"
      ]
     },
     "execution_count": 21,
     "metadata": {},
     "output_type": "execute_result"
    },
    {
     "data": {
      "image/png": "[encoded data removed]",
      "text/plain": [
       "<matplotlib.figure.Figure at 0x111b4a650>"
      ]
     },
     "metadata": {},
     "output_type": "display_data"
    }
   ],
   "source": [
    "print('Null values: '+str(data['Overall_happiness_score'].isnull().sum()))\n",
    "data['Overall_happiness_score'].hist(bins=50)\n",
    "data['Overall_happiness_score'].describe()"
   ]
  },
  {
   "cell_type": "code",
   "execution_count": 22,
   "metadata": {
    "scrolled": true
   },
   "outputs": [
    {
     "name": "stdout",
     "output_type": "stream",
     "text": [
      "Null values: 171\n"
     ]
    },
    {
     "data": {
      "text/plain": [
       "count    9829.000000\n",
       "mean      169.002686\n",
       "std       144.476593\n",
       "min      -285.238243\n",
       "25%        66.121900\n",
       "50%       128.670084\n",
       "75%       235.848891\n",
       "max       768.412380\n",
       "Name: Avg_Satisfaction_with_previous_vote, dtype: float64"
      ]
     },
     "execution_count": 22,
     "metadata": {},
     "output_type": "execute_result"
    },
    {
     "data": {
      "image/png": "[encoded data removed]",
      "text/plain": [
       "<matplotlib.figure.Figure at 0x111cc96d0>"
      ]
     },
     "metadata": {},
     "output_type": "display_data"
    }
   ],
   "source": [
    "print('Null values: '+str(data['Avg_Satisfaction_with_previous_vote'].isnull().sum()))\n",
    "data['Avg_Satisfaction_with_previous_vote'].hist(bins=40)\n",
    "data['Avg_Satisfaction_with_previous_vote'].describe()"
   ]
  },
  {
   "cell_type": "code",
   "execution_count": 24,
   "metadata": {},
   "outputs": [
    {
     "name": "stdout",
     "output_type": "stream",
     "text": [
      "Null values: 91\n",
      "Unique values: [                   4                    1                    7\n",
      "                    5                    2                    0\n",
      "                    6                    3 -9223372036854775808]\n"
     ]
    },
    {
     "data": {
      "image/png": "[encoded data removed]",
      "text/plain": [
       "<matplotlib.figure.Figure at 0x111878850>"
      ]
     },
     "metadata": {},
     "output_type": "display_data"
    }
   ],
   "source": [
    "data['Most_Important_Issue'].value_counts().plot(kind='bar')\n",
    "print('Null values: '+str(data['Most_Important_Issue'].isnull().sum()))\n",
    "data['Most_Important_Issue_cat'] = data['Most_Important_Issue'].astype(\"category\")\n",
    "data['Most_Important_Issue_int'] = data['Most_Important_Issue_cat'].cat.rename_categories(range(data['Most_Important_Issue_cat'].nunique())).astype(int)\n",
    "print('Unique values: '+str(data['Most_Important_Issue_int'].unique()))"
   ]
  },
  {
   "cell_type": "code",
   "execution_count": 25,
   "metadata": {},
   "outputs": [
    {
     "name": "stdout",
     "output_type": "stream",
     "text": [
      "Null values: 0\n"
     ]
    },
    {
     "data": {
      "text/plain": [
       "array([4, 1, 7, 5, 2, 0, 6, 3, 8])"
      ]
     },
     "execution_count": 25,
     "metadata": {},
     "output_type": "execute_result"
    },
    {
     "data": {
      "image/png": "[encoded data removed]",
      "text/plain": [
       "<matplotlib.figure.Figure at 0x119f34210>"
      ]
     },
     "metadata": {},
     "output_type": "display_data"
    }
   ],
   "source": [
    "print('Null values: '+str(data['Most_Important_Issue_int'].isnull().sum()))\n",
    "data['Most_Important_Issue_int'].replace(to_replace=-9223372036854775808, value=8, inplace=True)\n",
    "data['Most_Important_Issue_int'].hist()\n",
    "data['Most_Important_Issue_int'].unique()"
   ]
  },
  {
   "cell_type": "code",
   "execution_count": 27,
   "metadata": {},
   "outputs": [
    {
     "name": "stdout",
     "output_type": "stream",
     "text": [
      "Null values: 62\n",
      "Unique values: [                   1                    2                    0\n",
      " -9223372036854775808]\n"
     ]
    },
    {
     "data": {
      "image/png": "[encoded data removed]",
      "text/plain": [
       "<matplotlib.figure.Figure at 0x1119094d0>"
      ]
     },
     "metadata": {},
     "output_type": "display_data"
    }
   ],
   "source": [
    "data['Will_vote_only_large_party'].value_counts().plot(kind='bar')\n",
    "print('Null values: '+str(data['Will_vote_only_large_party'].isnull().sum()))\n",
    "data['Will_vote_only_large_party_cat'] = data['Will_vote_only_large_party'].astype(\"category\")\n",
    "data['Will_vote_only_large_party_int'] = data['Will_vote_only_large_party_cat'].cat.rename_categories(range(data['Will_vote_only_large_party_cat'].nunique())).astype(int)\n",
    "print('Unique values: '+str(data['Will_vote_only_large_party_int'].unique()))"
   ]
  },
  {
   "cell_type": "code",
   "execution_count": 28,
   "metadata": {},
   "outputs": [
    {
     "name": "stdout",
     "output_type": "stream",
     "text": [
      "Null values: 0\n"
     ]
    },
    {
     "data": {
      "text/plain": [
       "array([1, 2, 0, 3])"
      ]
     },
     "execution_count": 28,
     "metadata": {},
     "output_type": "execute_result"
    },
    {
     "data": {
      "image/png": "[encoded data removed]",
      "text/plain": [
       "<matplotlib.figure.Figure at 0x11188c790>"
      ]
     },
     "metadata": {},
     "output_type": "display_data"
    }
   ],
   "source": [
    "print('Null values: '+str(data['Will_vote_only_large_party_int'].isnull().sum()))\n",
    "data['Will_vote_only_large_party_int'].replace(to_replace=-9223372036854775808, value=3, inplace=True)\n",
    "data['Will_vote_only_large_party_int'].hist()\n",
    "data['Will_vote_only_large_party_int'].unique()"
   ]
  },
  {
   "cell_type": "code",
   "execution_count": 29,
   "metadata": {},
   "outputs": [
    {
     "name": "stdout",
     "output_type": "stream",
     "text": [
      "Null values: 206\n"
     ]
    },
    {
     "data": {
      "text/plain": [
       "count    9794.000000\n",
       "mean      402.579462\n",
       "std       133.557107\n",
       "min         1.511957\n",
       "25%       307.042438\n",
       "50%       389.081350\n",
       "75%       479.527037\n",
       "max       855.997552\n",
       "Name: Garden_sqr_meter_per_person_in_residancy_area, dtype: float64"
      ]
     },
     "execution_count": 29,
     "metadata": {},
     "output_type": "execute_result"
    },
    {
     "data": {
      "image/png": "[encoded data removed]",
      "text/plain": [
       "<matplotlib.figure.Figure at 0x11a194f50>"
      ]
     },
     "metadata": {},
     "output_type": "display_data"
    }
   ],
   "source": [
    "print('Null values: '+str(data['Garden_sqr_meter_per_person_in_residancy_area'].isnull().sum()))\n",
    "data['Garden_sqr_meter_per_person_in_residancy_area'].hist()\n",
    "data['Garden_sqr_meter_per_person_in_residancy_area'].describe()"
   ]
  },
  {
   "cell_type": "code",
   "execution_count": null,
   "metadata": {
    "collapsed": true
   },
   "outputs": [],
   "source": [
    "print('Null values: '+str(data['Weighted_education_rank'].isnull().sum()))\n",
    "data['Weighted_education_rank'].hist()\n",
    "data['Weighted_education_rank'].describe()"
   ]
  }
 ],
 "metadata": {
  "kernelspec": {
   "display_name": "Python 2",
   "language": "python",
   "name": "python2"
  },
  "language_info": {
   "codemirror_mode": {
    "name": "ipython",
    "version": 2
   },
   "file_extension": ".py",
   "mimetype": "text/x-python",
   "name": "python",
   "nbconvert_exporter": "python",
   "pygments_lexer": "ipython2",
   "version": "2.7.14"
  }
 },
 "nbformat": 4,
 "nbformat_minor": 2
}
