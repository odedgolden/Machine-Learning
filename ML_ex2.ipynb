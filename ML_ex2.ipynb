{
 "cells": [
  {
   "cell_type": "code",
   "execution_count": 2,
   "metadata": {
    "collapsed": true
   },
   "outputs": [],
   "source": [
    "import matplotlib.pyplot as plt\n",
    "%matplotlib inline\n",
    "import numpy as np\n",
    "import pandas as pd"
   ]
  },
  {
   "cell_type": "markdown",
   "metadata": {},
   "source": [
    "#### Load data:"
   ]
  },
  {
   "cell_type": "code",
   "execution_count": 3,
   "metadata": {},
   "outputs": [],
   "source": [
    "data = pd.read_csv(\"ElectionsData.csv\", header=0)"
   ]
  },
  {
   "cell_type": "markdown",
   "metadata": {},
   "source": [
    "#### Identify and set the correct type:"
   ]
  },
  {
   "cell_type": "code",
   "execution_count": 11,
   "metadata": {},
   "outputs": [
    {
     "data": {
      "text/plain": [
       "Vote                                              object\n",
       "Occupation_Satisfaction                          float64\n",
       "Avg_monthly_expense_when_under_age_21            float64\n",
       "AVG_lottary_expanses                             float64\n",
       "Most_Important_Issue                              object\n",
       "Avg_Satisfaction_with_previous_vote              float64\n",
       "Looking_at_poles_results                          object\n",
       "Garden_sqr_meter_per_person_in_residancy_area    float64\n",
       "Married                                           object\n",
       "Gender                                            object\n",
       "Voting_Time                                       object\n",
       "Financial_balance_score_(0-1)                    float64\n",
       "%Of_Household_Income                             float64\n",
       "Avg_government_satisfaction                      float64\n",
       "Avg_education_importance                         float64\n",
       "Avg_environmental_importance                     float64\n",
       "Avg_Residancy_Altitude                           float64\n",
       "Yearly_ExpensesK                                 float64\n",
       "%Time_invested_in_work                           float64\n",
       "Yearly_IncomeK                                   float64\n",
       "Avg_monthly_expense_on_pets_or_plants            float64\n",
       "Avg_monthly_household_cost                       float64\n",
       "Will_vote_only_large_party                        object\n",
       "Phone_minutes_10_years                           float64\n",
       "Avg_size_per_room                                float64\n",
       "Weighted_education_rank                          float64\n",
       "%_satisfaction_financial_policy                  float64\n",
       "Avg_monthly_income_all_years                     float64\n",
       "Last_school_grades                               float64\n",
       "Age_group                                         object\n",
       "Number_of_differnt_parties_voted_for             float64\n",
       "Political_interest_Total_Score                   float64\n",
       "Number_of_valued_Kneset_members                  float64\n",
       "Main_transportation                               object\n",
       "Occupation                                        object\n",
       "Overall_happiness_score                          float64\n",
       "Num_of_kids_born_last_10_years                   float64\n",
       "Financial_agenda_matters                          object\n",
       "dtype: object"
      ]
     },
     "execution_count": 11,
     "metadata": {},
     "output_type": "execute_result"
    }
   ],
   "source": [
    "data.dtypes"
   ]
  },
  {
   "cell_type": "code",
   "execution_count": 26,
   "metadata": {},
   "outputs": [
    {
     "name": "stdout",
     "output_type": "stream",
     "text": [
      "Vote: ['Purples' 'Greens' 'Browns' 'Pinks' 'Blues' 'Oranges' 'Yellows' 'Whites'\n",
      " 'Reds' 'Greys']\n",
      "Most_Important_Issue: ['Healthcare' 'Environment' 'Social' 'Military' 'Financial' 'Education'\n",
      " 'Other' 'Foreign_Affairs' nan]\n",
      "Looking_at_poles_results: ['No' 'Yes' nan]\n",
      "Married: ['Yes' 'No' nan]\n",
      "Gender: ['Male' 'Female' nan]\n",
      "Voting_Time: ['After_16:00' 'By_16:00' nan]\n",
      "Will_vote_only_large_party: ['No' 'Yes' 'Maybe' nan]\n",
      "Age_group: ['45_and_up' '30-45' 'Below_30' nan]\n",
      "Main_transportation: ['Public_or_other' 'Motorcycle_or_truck' 'Foot_or_bicycle' 'Car' nan]\n",
      "Occupation: ['Hightech' 'Public_Sector' 'Services_or_Retail' 'Student_or_Unemployed'\n",
      " 'Industry_or_other' nan]\n",
      "Financial_agenda_matters: ['No' 'Yes' nan]\n"
     ]
    }
   ],
   "source": [
    "non_float_data = data.select_dtypes(exclude=['floating'])\n",
    "non_float_data.describe()\n",
    "for column in non_float_data:\n",
    "    print(str(column)+\": \"+str(data[column].unique()))"
   ]
  },
  {
   "cell_type": "code",
   "execution_count": 49,
   "metadata": {},
   "outputs": [],
   "source": [
    "data['Looking_at_poles_results_int'] = data['Looking_at_poles_results'].map( {'No':0, 'Yes':1, np.nan:-1}).astype(int)\n",
    "data['Married_int'] = data['Married'].map( {'No':0, 'Yes':1, np.nan:-1}).astype(int)\n",
    "data['Gender_int'] = data['Gender'].map( {'Male':0, 'Female':1, np.nan:-1}).astype(int)\n",
    "data['Voting_Time_int'] = data['Voting_Time'].map( {'By_16:00':0, 'After_16:00':1, np.nan:-1}).astype(int)\n",
    "data['Financial_agenda_matters_int'] = data['Financial_agenda_matters'].map( {'No':0, 'Yes':1, np.nan:-1}).astype(int)\n",
    "\n",
    "pd.crosstab(data.Looking_at_poles_results_int, data.Looking_at_poles_results, rownames=['Looking_at_poles_results_int'], colnames=['Looking_at_poles_results'])\n",
    "pd.crosstab(data.Married_int, data.Married, rownames=['Married_int'], colnames=['Married'])\n",
    "pd.crosstab(data.Gender_int, data.Gender, rownames=['Gender_int'], colnames=['Gender'])\n",
    "pd.crosstab(data.Voting_Time_int, data.Voting_Time, rownames=['Voting_Time_int'], colnames=['Voting_Time'])\n",
    "pd.crosstab(data.Financial_agenda_matters_int, data.Financial_agenda_matters, rownames=['Financial_agenda_matters_int'], colnames=['Financial_agenda_matters'])\n",
    "\n",
    "data['Most_Important_Issue_cat'] = data['Most_Important_Issue'].astype(\"category\")\n",
    "data['Most_Important_Issue_int'] = data['Most_Important_Issue_cat'].cat.rename_categories(range(data['Most_Important_Issue_cat'].nunique())).astype(int)\n",
    "\n",
    "data['Age_group_cat'] = data['Age_group'].astype(\"category\")\n",
    "data['Age_group_int'] = data['Age_group_cat'].cat.rename_categories(range(data['Age_group_cat'].nunique())).astype(int)\n",
    "\n",
    "data['Will_vote_only_large_party_cat'] = data['Will_vote_only_large_party'].astype(\"category\")\n",
    "data['Will_vote_only_large_party_int'] = data['Will_vote_only_large_party_cat'].cat.rename_categories(range(data['Will_vote_only_large_party_cat'].nunique())).astype(int)\n",
    "\n",
    "data['Main_transportation_cat'] = data['Main_transportation'].astype(\"category\")\n",
    "data['Main_transportation_int'] = data['Main_transportation_cat'].cat.rename_categories(range(data['Main_transportation_cat'].nunique())).astype(int)\n",
    "\n",
    "data['Occupation_cat'] = data['Occupation'].astype(\"category\")\n",
    "data['Occupation_int'] = data['Occupation_cat'].cat.rename_categories(range(data['Occupation_cat'].nunique())).astype(int)\n",
    "\n"
   ]
  },
  {
   "cell_type": "code",
   "execution_count": 51,
   "metadata": {},
   "outputs": [
    {
     "data": {
      "text/html": [
       "<div>\n",
       "<style>\n",
       "    .dataframe thead tr:only-child th {\n",
       "        text-align: right;\n",
       "    }\n",
       "\n",
       "    .dataframe thead th {\n",
       "        text-align: left;\n",
       "    }\n",
       "\n",
       "    .dataframe tbody tr th {\n",
       "        vertical-align: top;\n",
       "    }\n",
       "</style>\n",
       "<table border=\"1\" class=\"dataframe\">\n",
       "  <thead>\n",
       "    <tr style=\"text-align: right;\">\n",
       "      <th></th>\n",
       "      <th>Vote</th>\n",
       "      <th>Occupation_Satisfaction</th>\n",
       "      <th>Avg_monthly_expense_when_under_age_21</th>\n",
       "      <th>AVG_lottary_expanses</th>\n",
       "      <th>Most_Important_Issue</th>\n",
       "      <th>Avg_Satisfaction_with_previous_vote</th>\n",
       "      <th>Looking_at_poles_results</th>\n",
       "      <th>Garden_sqr_meter_per_person_in_residancy_area</th>\n",
       "      <th>Married</th>\n",
       "      <th>Gender</th>\n",
       "      <th>...</th>\n",
       "      <th>Most_Important_Issue_cat</th>\n",
       "      <th>Most_Important_Issue_int</th>\n",
       "      <th>Age_group_cat</th>\n",
       "      <th>Age_group_int</th>\n",
       "      <th>Will_vote_only_large_party_cat</th>\n",
       "      <th>Will_vote_only_large_party_int</th>\n",
       "      <th>Main_transportation_cat</th>\n",
       "      <th>Main_transportation_int</th>\n",
       "      <th>Occupation_cat</th>\n",
       "      <th>Occupation_int</th>\n",
       "    </tr>\n",
       "  </thead>\n",
       "  <tbody>\n",
       "    <tr>\n",
       "      <th>0</th>\n",
       "      <td>Purples</td>\n",
       "      <td>10.0</td>\n",
       "      <td>520.295896</td>\n",
       "      <td>67907.251293</td>\n",
       "      <td>Healthcare</td>\n",
       "      <td>173.431965</td>\n",
       "      <td>No</td>\n",
       "      <td>391.549799</td>\n",
       "      <td>Yes</td>\n",
       "      <td>Male</td>\n",
       "      <td>...</td>\n",
       "      <td>Healthcare</td>\n",
       "      <td>4</td>\n",
       "      <td>45_and_up</td>\n",
       "      <td>1</td>\n",
       "      <td>No</td>\n",
       "      <td>1</td>\n",
       "      <td>Public_or_other</td>\n",
       "      <td>3</td>\n",
       "      <td>Hightech</td>\n",
       "      <td>0</td>\n",
       "    </tr>\n",
       "    <tr>\n",
       "      <th>1</th>\n",
       "      <td>Greens</td>\n",
       "      <td>4.0</td>\n",
       "      <td>695.412346</td>\n",
       "      <td>71279.972232</td>\n",
       "      <td>Environment</td>\n",
       "      <td>231.804115</td>\n",
       "      <td>No</td>\n",
       "      <td>307.500892</td>\n",
       "      <td>Yes</td>\n",
       "      <td>Female</td>\n",
       "      <td>...</td>\n",
       "      <td>Environment</td>\n",
       "      <td>1</td>\n",
       "      <td>30-45</td>\n",
       "      <td>0</td>\n",
       "      <td>No</td>\n",
       "      <td>1</td>\n",
       "      <td>Motorcycle_or_truck</td>\n",
       "      <td>2</td>\n",
       "      <td>Public_Sector</td>\n",
       "      <td>2</td>\n",
       "    </tr>\n",
       "    <tr>\n",
       "      <th>2</th>\n",
       "      <td>Browns</td>\n",
       "      <td>2.0</td>\n",
       "      <td>102.471366</td>\n",
       "      <td>18386.508465</td>\n",
       "      <td>Healthcare</td>\n",
       "      <td>NaN</td>\n",
       "      <td>No</td>\n",
       "      <td>538.292084</td>\n",
       "      <td>No</td>\n",
       "      <td>Female</td>\n",
       "      <td>...</td>\n",
       "      <td>Healthcare</td>\n",
       "      <td>4</td>\n",
       "      <td>45_and_up</td>\n",
       "      <td>1</td>\n",
       "      <td>No</td>\n",
       "      <td>1</td>\n",
       "      <td>Foot_or_bicycle</td>\n",
       "      <td>1</td>\n",
       "      <td>Services_or_Retail</td>\n",
       "      <td>3</td>\n",
       "    </tr>\n",
       "    <tr>\n",
       "      <th>3</th>\n",
       "      <td>Pinks</td>\n",
       "      <td>6.0</td>\n",
       "      <td>392.898135</td>\n",
       "      <td>89911.733344</td>\n",
       "      <td>Social</td>\n",
       "      <td>130.966045</td>\n",
       "      <td>No</td>\n",
       "      <td>686.527056</td>\n",
       "      <td>No</td>\n",
       "      <td>Male</td>\n",
       "      <td>...</td>\n",
       "      <td>Social</td>\n",
       "      <td>7</td>\n",
       "      <td>Below_30</td>\n",
       "      <td>2</td>\n",
       "      <td>No</td>\n",
       "      <td>1</td>\n",
       "      <td>Motorcycle_or_truck</td>\n",
       "      <td>2</td>\n",
       "      <td>Student_or_Unemployed</td>\n",
       "      <td>4</td>\n",
       "    </tr>\n",
       "    <tr>\n",
       "      <th>4</th>\n",
       "      <td>Blues</td>\n",
       "      <td>1.0</td>\n",
       "      <td>1825.062431</td>\n",
       "      <td>2697.309458</td>\n",
       "      <td>Healthcare</td>\n",
       "      <td>608.354144</td>\n",
       "      <td>Yes</td>\n",
       "      <td>4.433782</td>\n",
       "      <td>Yes</td>\n",
       "      <td>Male</td>\n",
       "      <td>...</td>\n",
       "      <td>Healthcare</td>\n",
       "      <td>4</td>\n",
       "      <td>Below_30</td>\n",
       "      <td>2</td>\n",
       "      <td>Yes</td>\n",
       "      <td>2</td>\n",
       "      <td>Foot_or_bicycle</td>\n",
       "      <td>1</td>\n",
       "      <td>Industry_or_other</td>\n",
       "      <td>1</td>\n",
       "    </tr>\n",
       "  </tbody>\n",
       "</table>\n",
       "<p>5 rows × 53 columns</p>\n",
       "</div>"
      ],
      "text/plain": [
       "      Vote  Occupation_Satisfaction  Avg_monthly_expense_when_under_age_21  \\\n",
       "0  Purples                     10.0                             520.295896   \n",
       "1   Greens                      4.0                             695.412346   \n",
       "2   Browns                      2.0                             102.471366   \n",
       "3    Pinks                      6.0                             392.898135   \n",
       "4    Blues                      1.0                            1825.062431   \n",
       "\n",
       "   AVG_lottary_expanses Most_Important_Issue  \\\n",
       "0          67907.251293           Healthcare   \n",
       "1          71279.972232          Environment   \n",
       "2          18386.508465           Healthcare   \n",
       "3          89911.733344               Social   \n",
       "4           2697.309458           Healthcare   \n",
       "\n",
       "   Avg_Satisfaction_with_previous_vote Looking_at_poles_results  \\\n",
       "0                           173.431965                       No   \n",
       "1                           231.804115                       No   \n",
       "2                                  NaN                       No   \n",
       "3                           130.966045                       No   \n",
       "4                           608.354144                      Yes   \n",
       "\n",
       "   Garden_sqr_meter_per_person_in_residancy_area Married  Gender  \\\n",
       "0                                     391.549799     Yes    Male   \n",
       "1                                     307.500892     Yes  Female   \n",
       "2                                     538.292084      No  Female   \n",
       "3                                     686.527056      No    Male   \n",
       "4                                       4.433782     Yes    Male   \n",
       "\n",
       "        ...       Most_Important_Issue_cat  Most_Important_Issue_int  \\\n",
       "0       ...                     Healthcare                         4   \n",
       "1       ...                    Environment                         1   \n",
       "2       ...                     Healthcare                         4   \n",
       "3       ...                         Social                         7   \n",
       "4       ...                     Healthcare                         4   \n",
       "\n",
       "   Age_group_cat  Age_group_int  Will_vote_only_large_party_cat  \\\n",
       "0      45_and_up              1                              No   \n",
       "1          30-45              0                              No   \n",
       "2      45_and_up              1                              No   \n",
       "3       Below_30              2                              No   \n",
       "4       Below_30              2                             Yes   \n",
       "\n",
       "   Will_vote_only_large_party_int  Main_transportation_cat  \\\n",
       "0                               1          Public_or_other   \n",
       "1                               1      Motorcycle_or_truck   \n",
       "2                               1          Foot_or_bicycle   \n",
       "3                               1      Motorcycle_or_truck   \n",
       "4                               2          Foot_or_bicycle   \n",
       "\n",
       "   Main_transportation_int         Occupation_cat  Occupation_int  \n",
       "0                        3               Hightech               0  \n",
       "1                        2          Public_Sector               2  \n",
       "2                        1     Services_or_Retail               3  \n",
       "3                        2  Student_or_Unemployed               4  \n",
       "4                        1      Industry_or_other               1  \n",
       "\n",
       "[5 rows x 53 columns]"
      ]
     },
     "execution_count": 51,
     "metadata": {},
     "output_type": "execute_result"
    }
   ],
   "source": [
    "data.head()"
   ]
  },
  {
   "cell_type": "markdown",
   "metadata": {},
   "source": [
    "#### Data preperation:"
   ]
  },
  {
   "cell_type": "markdown",
   "metadata": {},
   "source": [
    "Imputation:"
   ]
  },
  {
   "cell_type": "markdown",
   "metadata": {},
   "source": [
    "Data Cleansing:"
   ]
  },
  {
   "cell_type": "markdown",
   "metadata": {},
   "source": [
    "Normalization:"
   ]
  },
  {
   "cell_type": "markdown",
   "metadata": {},
   "source": [
    "Feature Selection:"
   ]
  },
  {
   "cell_type": "markdown",
   "metadata": {},
   "source": [
    "#### Split data to train, test and validation:"
   ]
  },
  {
   "cell_type": "markdown",
   "metadata": {},
   "source": [
    "#### Save to csv:"
   ]
  },
  {
   "cell_type": "code",
   "execution_count": null,
   "metadata": {
    "collapsed": true
   },
   "outputs": [],
   "source": [
    "train.to_csv(\"train.csv\", index=False)\n",
    "test.to_csv(\"test.csv\", index=False)\n",
    "validation.to_csv(\"validation.csv\", index=False)"
   ]
  }
 ],
 "metadata": {
  "kernelspec": {
   "display_name": "Python 2",
   "language": "python",
   "name": "python2"
  },
  "language_info": {
   "codemirror_mode": {
    "name": "ipython",
    "version": 2
   },
   "file_extension": ".py",
   "mimetype": "text/x-python",
   "name": "python",
   "nbconvert_exporter": "python",
   "pygments_lexer": "ipython2",
   "version": "2.7.13"
  }
 },
 "nbformat": 4,
 "nbformat_minor": 2
}
