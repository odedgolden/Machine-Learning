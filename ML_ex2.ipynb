{
 "cells": [
  {
   "cell_type": "code",
   "execution_count": 2,
   "metadata": {
    "collapsed": true
   },
   "outputs": [],
   "source": [
    "import matplotlib.pyplot as plt\n",
    "%matplotlib inline\n",
    "import numpy as np\n",
    "import pandas as pd"
   ]
  },
  {
   "cell_type": "markdown",
   "metadata": {},
   "source": [
    "#### Load data:"
   ]
  },
  {
   "cell_type": "code",
   "execution_count": 3,
   "metadata": {},
   "outputs": [],
   "source": [
    "data = pd.read_csv(\"ElectionsData.csv\", header=0)"
   ]
  },
  {
   "cell_type": "markdown",
   "metadata": {},
   "source": [
    "#### Identify and set the correct type:"
   ]
  },
  {
   "cell_type": "code",
   "execution_count": 11,
   "metadata": {},
   "outputs": [
    {
     "data": {
      "text/plain": [
       "Vote                                              object\n",
       "Occupation_Satisfaction                          float64\n",
       "Avg_monthly_expense_when_under_age_21            float64\n",
       "AVG_lottary_expanses                             float64\n",
       "Most_Important_Issue                              object\n",
       "Avg_Satisfaction_with_previous_vote              float64\n",
       "Looking_at_poles_results                          object\n",
       "Garden_sqr_meter_per_person_in_residancy_area    float64\n",
       "Married                                           object\n",
       "Gender                                            object\n",
       "Voting_Time                                       object\n",
       "Financial_balance_score_(0-1)                    float64\n",
       "%Of_Household_Income                             float64\n",
       "Avg_government_satisfaction                      float64\n",
       "Avg_education_importance                         float64\n",
       "Avg_environmental_importance                     float64\n",
       "Avg_Residancy_Altitude                           float64\n",
       "Yearly_ExpensesK                                 float64\n",
       "%Time_invested_in_work                           float64\n",
       "Yearly_IncomeK                                   float64\n",
       "Avg_monthly_expense_on_pets_or_plants            float64\n",
       "Avg_monthly_household_cost                       float64\n",
       "Will_vote_only_large_party                        object\n",
       "Phone_minutes_10_years                           float64\n",
       "Avg_size_per_room                                float64\n",
       "Weighted_education_rank                          float64\n",
       "%_satisfaction_financial_policy                  float64\n",
       "Avg_monthly_income_all_years                     float64\n",
       "Last_school_grades                               float64\n",
       "Age_group                                         object\n",
       "Number_of_differnt_parties_voted_for             float64\n",
       "Political_interest_Total_Score                   float64\n",
       "Number_of_valued_Kneset_members                  float64\n",
       "Main_transportation                               object\n",
       "Occupation                                        object\n",
       "Overall_happiness_score                          float64\n",
       "Num_of_kids_born_last_10_years                   float64\n",
       "Financial_agenda_matters                          object\n",
       "dtype: object"
      ]
     },
     "execution_count": 11,
     "metadata": {},
     "output_type": "execute_result"
    }
   ],
   "source": [
    "data.dtypes"
   ]
  },
  {
   "cell_type": "code",
   "execution_count": 26,
   "metadata": {},
   "outputs": [
    {
     "name": "stdout",
     "output_type": "stream",
     "text": [
      "Vote: ['Purples' 'Greens' 'Browns' 'Pinks' 'Blues' 'Oranges' 'Yellows' 'Whites'\n",
      " 'Reds' 'Greys']\n",
      "Most_Important_Issue: ['Healthcare' 'Environment' 'Social' 'Military' 'Financial' 'Education'\n",
      " 'Other' 'Foreign_Affairs' nan]\n",
      "Looking_at_poles_results: ['No' 'Yes' nan]\n",
      "Married: ['Yes' 'No' nan]\n",
      "Gender: ['Male' 'Female' nan]\n",
      "Voting_Time: ['After_16:00' 'By_16:00' nan]\n",
      "Will_vote_only_large_party: ['No' 'Yes' 'Maybe' nan]\n",
      "Age_group: ['45_and_up' '30-45' 'Below_30' nan]\n",
      "Main_transportation: ['Public_or_other' 'Motorcycle_or_truck' 'Foot_or_bicycle' 'Car' nan]\n",
      "Occupation: ['Hightech' 'Public_Sector' 'Services_or_Retail' 'Student_or_Unemployed'\n",
      " 'Industry_or_other' nan]\n",
      "Financial_agenda_matters: ['No' 'Yes' nan]\n"
     ]
    }
   ],
   "source": [
    "non_float_data = data.select_dtypes(exclude=['floating'])\n",
    "non_float_data.describe()\n",
    "for column in non_float_data:\n",
    "    print(str(column)+\": \"+str(data[column].unique()))"
   ]
  },
  {
   "cell_type": "code",
   "execution_count": 46,
   "metadata": {},
   "outputs": [
    {
     "data": {
      "text/html": [
       "<div>\n",
       "<style>\n",
       "    .dataframe thead tr:only-child th {\n",
       "        text-align: right;\n",
       "    }\n",
       "\n",
       "    .dataframe thead th {\n",
       "        text-align: left;\n",
       "    }\n",
       "\n",
       "    .dataframe tbody tr th {\n",
       "        vertical-align: top;\n",
       "    }\n",
       "</style>\n",
       "<table border=\"1\" class=\"dataframe\">\n",
       "  <thead>\n",
       "    <tr style=\"text-align: right;\">\n",
       "      <th>Financial_agenda_matters</th>\n",
       "      <th>No</th>\n",
       "      <th>Yes</th>\n",
       "    </tr>\n",
       "    <tr>\n",
       "      <th>Financial_agenda_matters_int</th>\n",
       "      <th></th>\n",
       "      <th></th>\n",
       "    </tr>\n",
       "  </thead>\n",
       "  <tbody>\n",
       "    <tr>\n",
       "      <th>0</th>\n",
       "      <td>4892</td>\n",
       "      <td>0</td>\n",
       "    </tr>\n",
       "    <tr>\n",
       "      <th>1</th>\n",
       "      <td>0</td>\n",
       "      <td>5015</td>\n",
       "    </tr>\n",
       "  </tbody>\n",
       "</table>\n",
       "</div>"
      ],
      "text/plain": [
       "Financial_agenda_matters        No   Yes\n",
       "Financial_agenda_matters_int            \n",
       "0                             4892     0\n",
       "1                                0  5015"
      ]
     },
     "execution_count": 46,
     "metadata": {},
     "output_type": "execute_result"
    }
   ],
   "source": [
    "data['Looking_at_poles_results_int'] = data['Looking_at_poles_results'].map( {'No':0, 'Yes':1, np.nan:-1}).astype(int)\n",
    "data['Married_int'] = data['Married'].map( {'No':0, 'Yes':1, np.nan:-1}).astype(int)\n",
    "data['Gender_int'] = data['Gender'].map( {'Male':0, 'Female':1, np.nan:-1}).astype(int)\n",
    "data['Voting_Time_int'] = data['Voting_Time'].map( {'By_16:00':0, 'After_16:00':1, np.nan:-1}).astype(int)\n",
    "data['Financial_agenda_matters_int'] = data['Financial_agenda_matters'].map( {'No':0, 'Yes':1, np.nan:-1}).astype(int)\n",
    "\n",
    "pd.crosstab(data.Looking_at_poles_results_int, data.Looking_at_poles_results, rownames=['Looking_at_poles_results_int'], colnames=['Looking_at_poles_results'])\n",
    "pd.crosstab(data.Married_int, data.Married, rownames=['Married_int'], colnames=['Married'])\n",
    "pd.crosstab(data.Gender_int, data.Gender, rownames=['Gender_int'], colnames=['Gender'])\n",
    "pd.crosstab(data.Voting_Time_int, data.Voting_Time, rownames=['Voting_Time_int'], colnames=['Voting_Time'])\n",
    "pd.crosstab(data.Financial_agenda_matters_int, data.Financial_agenda_matters, rownames=['Financial_agenda_matters_int'], colnames=['Financial_agenda_matters'])\n",
    "\n",
    "# data['Most_Important_Issue'] = train['Sex'].map( {'female':0, 'male':1}).astype(int)\n",
    "# data['Age_group'] = train['Sex'].map( {'female':0, 'male':1}).astype(int)\n",
    "# data['Will_vote_only_large_party_int'] = data['Will_vote_only_large_party'].map( {'No':0, 'Yes':1, np.nan:-1}).astype(int)\n",
    "# data['Main_transportation'] = train['Sex'].map( {'female':0, 'male':1}).astype(int)\n",
    "# data['Occupation'] = train['Sex'].map( {'female':0, 'male':1}).astype(int)\n"
   ]
  },
  {
   "cell_type": "code",
   "execution_count": null,
   "metadata": {
    "collapsed": true
   },
   "outputs": [],
   "source": []
  },
  {
   "cell_type": "markdown",
   "metadata": {},
   "source": [
    "#### Data preperation:"
   ]
  },
  {
   "cell_type": "markdown",
   "metadata": {},
   "source": [
    "Imputation:"
   ]
  },
  {
   "cell_type": "markdown",
   "metadata": {},
   "source": [
    "Data Cleansing:"
   ]
  },
  {
   "cell_type": "markdown",
   "metadata": {},
   "source": [
    "Normalization:"
   ]
  },
  {
   "cell_type": "markdown",
   "metadata": {},
   "source": [
    "Feature Selection:"
   ]
  },
  {
   "cell_type": "markdown",
   "metadata": {},
   "source": [
    "#### Split data to train, test and validation:"
   ]
  },
  {
   "cell_type": "markdown",
   "metadata": {},
   "source": [
    "#### Save to csv:"
   ]
  },
  {
   "cell_type": "code",
   "execution_count": null,
   "metadata": {
    "collapsed": true
   },
   "outputs": [],
   "source": [
    "train.to_csv(\"train.csv\", index=False)\n",
    "test.to_csv(\"test.csv\", index=False)\n",
    "validation.to_csv(\"validation.csv\", index=False)"
   ]
  }
 ],
 "metadata": {
  "kernelspec": {
   "display_name": "Python 2",
   "language": "python",
   "name": "python2"
  },
  "language_info": {
   "codemirror_mode": {
    "name": "ipython",
    "version": 2
   },
   "file_extension": ".py",
   "mimetype": "text/x-python",
   "name": "python",
   "nbconvert_exporter": "python",
   "pygments_lexer": "ipython2",
   "version": "2.7.13"
  }
 },
 "nbformat": 4,
 "nbformat_minor": 2
}
