{
 "cells": [
  {
   "cell_type": "code",
   "execution_count": 2,
   "metadata": {
    "collapsed": true
   },
   "outputs": [],
   "source": [
    "import matplotlib.pyplot as plt\n",
    "%matplotlib inline\n",
    "import numpy as np\n",
    "import pandas as pd\n",
    "from sklearn.neighbors import NearestNeighbors"
   ]
  },
  {
   "cell_type": "markdown",
   "metadata": {},
   "source": [
    "## Load data:"
   ]
  },
  {
   "cell_type": "code",
   "execution_count": 3,
   "metadata": {
    "collapsed": true
   },
   "outputs": [],
   "source": [
    "data = pd.read_csv(\"ElectionsData.csv\", header=0)"
   ]
  },
  {
   "cell_type": "markdown",
   "metadata": {},
   "source": [
    "## Data exploration - Identify and set the correct type:"
   ]
  },
  {
   "cell_type": "code",
   "execution_count": 4,
   "metadata": {
    "scrolled": true
   },
   "outputs": [
    {
     "name": "stdout",
     "output_type": "stream",
     "text": [
      "Number of features: 38\n"
     ]
    },
    {
     "data": {
      "text/plain": [
       "Vote                                              object\n",
       "Occupation_Satisfaction                          float64\n",
       "Avg_monthly_expense_when_under_age_21            float64\n",
       "AVG_lottary_expanses                             float64\n",
       "Most_Important_Issue                              object\n",
       "Avg_Satisfaction_with_previous_vote              float64\n",
       "Looking_at_poles_results                          object\n",
       "Garden_sqr_meter_per_person_in_residancy_area    float64\n",
       "Married                                           object\n",
       "Gender                                            object\n",
       "Voting_Time                                       object\n",
       "Financial_balance_score_(0-1)                    float64\n",
       "%Of_Household_Income                             float64\n",
       "Avg_government_satisfaction                      float64\n",
       "Avg_education_importance                         float64\n",
       "Avg_environmental_importance                     float64\n",
       "Avg_Residancy_Altitude                           float64\n",
       "Yearly_ExpensesK                                 float64\n",
       "%Time_invested_in_work                           float64\n",
       "Yearly_IncomeK                                   float64\n",
       "Avg_monthly_expense_on_pets_or_plants            float64\n",
       "Avg_monthly_household_cost                       float64\n",
       "Will_vote_only_large_party                        object\n",
       "Phone_minutes_10_years                           float64\n",
       "Avg_size_per_room                                float64\n",
       "Weighted_education_rank                          float64\n",
       "%_satisfaction_financial_policy                  float64\n",
       "Avg_monthly_income_all_years                     float64\n",
       "Last_school_grades                               float64\n",
       "Age_group                                         object\n",
       "Number_of_differnt_parties_voted_for             float64\n",
       "Political_interest_Total_Score                   float64\n",
       "Number_of_valued_Kneset_members                  float64\n",
       "Main_transportation                               object\n",
       "Occupation                                        object\n",
       "Overall_happiness_score                          float64\n",
       "Num_of_kids_born_last_10_years                   float64\n",
       "Financial_agenda_matters                          object\n",
       "dtype: object"
      ]
     },
     "execution_count": 4,
     "metadata": {},
     "output_type": "execute_result"
    }
   ],
   "source": [
    "print('Number of features: '+str(len(data.columns.values)))\n",
    "data.dtypes"
   ]
  },
  {
   "cell_type": "code",
   "execution_count": 5,
   "metadata": {},
   "outputs": [
    {
     "name": "stdout",
     "output_type": "stream",
     "text": [
      "Vote: \n",
      "['Purples' 'Greens' 'Browns' 'Pinks' 'Blues' 'Oranges' 'Yellows' 'Whites'\n",
      " 'Reds' 'Greys']\n",
      "Most_Important_Issue: \n",
      "['Healthcare' 'Environment' 'Social' 'Military' 'Financial' 'Education'\n",
      " 'Other' 'Foreign_Affairs' nan]\n",
      "Looking_at_poles_results: \n",
      "['No' 'Yes' nan]\n",
      "Married: \n",
      "['Yes' 'No' nan]\n",
      "Gender: \n",
      "['Male' 'Female' nan]\n",
      "Voting_Time: \n",
      "['After_16:00' 'By_16:00' nan]\n",
      "Will_vote_only_large_party: \n",
      "['No' 'Yes' 'Maybe' nan]\n",
      "Age_group: \n",
      "['45_and_up' '30-45' 'Below_30' nan]\n",
      "Main_transportation: \n",
      "['Public_or_other' 'Motorcycle_or_truck' 'Foot_or_bicycle' 'Car' nan]\n",
      "Occupation: \n",
      "['Hightech' 'Public_Sector' 'Services_or_Retail' 'Student_or_Unemployed'\n",
      " 'Industry_or_other' nan]\n",
      "Financial_agenda_matters: \n",
      "['No' 'Yes' nan]\n"
     ]
    }
   ],
   "source": [
    "non_float_data = data.select_dtypes(exclude=['floating','int'])\n",
    "non_float_data.describe()\n",
    "for column in non_float_data:\n",
    "    print(str(column)+\": \\n\"+str(data[column].unique()))"
   ]
  },
  {
   "cell_type": "code",
   "execution_count": 6,
   "metadata": {},
   "outputs": [
    {
     "name": "stdout",
     "output_type": "stream",
     "text": [
      "Null values: 91\n",
      "Unique values: [ 0  1 -1]\n"
     ]
    },
    {
     "data": {
      "text/html": [
       "<div>\n",
       "<style>\n",
       "    .dataframe thead tr:only-child th {\n",
       "        text-align: right;\n",
       "    }\n",
       "\n",
       "    .dataframe thead th {\n",
       "        text-align: left;\n",
       "    }\n",
       "\n",
       "    .dataframe tbody tr th {\n",
       "        vertical-align: top;\n",
       "    }\n",
       "</style>\n",
       "<table border=\"1\" class=\"dataframe\">\n",
       "  <thead>\n",
       "    <tr style=\"text-align: right;\">\n",
       "      <th>Looking_at_poles_results</th>\n",
       "      <th>No</th>\n",
       "      <th>Yes</th>\n",
       "    </tr>\n",
       "    <tr>\n",
       "      <th>Looking_at_poles_results_int</th>\n",
       "      <th></th>\n",
       "      <th></th>\n",
       "    </tr>\n",
       "  </thead>\n",
       "  <tbody>\n",
       "    <tr>\n",
       "      <th>0</th>\n",
       "      <td>8480</td>\n",
       "      <td>0</td>\n",
       "    </tr>\n",
       "    <tr>\n",
       "      <th>1</th>\n",
       "      <td>0</td>\n",
       "      <td>1429</td>\n",
       "    </tr>\n",
       "  </tbody>\n",
       "</table>\n",
       "</div>"
      ],
      "text/plain": [
       "Looking_at_poles_results        No   Yes\n",
       "Looking_at_poles_results_int            \n",
       "0                             8480     0\n",
       "1                                0  1429"
      ]
     },
     "execution_count": 6,
     "metadata": {},
     "output_type": "execute_result"
    },
    {
     "data": {
      "image/png": "[encoded data removed]",
      "text/plain": [
       "<matplotlib.figure.Figure at 0x108fba5d0>"
      ]
     },
     "metadata": {},
     "output_type": "display_data"
    }
   ],
   "source": [
    "data['Looking_at_poles_results'].value_counts().plot(kind='bar')\n",
    "print('Null values: '+str(data['Looking_at_poles_results'].isnull().sum()))\n",
    "data['Looking_at_poles_results_int'] = data['Looking_at_poles_results'].map( {'No':0, 'Yes':1, np.nan:-1}).astype(int)\n",
    "print('Unique values: '+str(data['Looking_at_poles_results_int'].unique()))\n",
    "pd.crosstab(data.Looking_at_poles_results_int, data.Looking_at_poles_results, rownames=['Looking_at_poles_results_int'], colnames=['Looking_at_poles_results'])"
   ]
  },
  {
   "cell_type": "code",
   "execution_count": 7,
   "metadata": {},
   "outputs": [
    {
     "name": "stdout",
     "output_type": "stream",
     "text": [
      "Null values: 71\n",
      "Unique values: [ 1  0 -1]\n"
     ]
    },
    {
     "data": {
      "text/html": [
       "<div>\n",
       "<style>\n",
       "    .dataframe thead tr:only-child th {\n",
       "        text-align: right;\n",
       "    }\n",
       "\n",
       "    .dataframe thead th {\n",
       "        text-align: left;\n",
       "    }\n",
       "\n",
       "    .dataframe tbody tr th {\n",
       "        vertical-align: top;\n",
       "    }\n",
       "</style>\n",
       "<table border=\"1\" class=\"dataframe\">\n",
       "  <thead>\n",
       "    <tr style=\"text-align: right;\">\n",
       "      <th>Married</th>\n",
       "      <th>No</th>\n",
       "      <th>Yes</th>\n",
       "    </tr>\n",
       "    <tr>\n",
       "      <th>Married_int</th>\n",
       "      <th></th>\n",
       "      <th></th>\n",
       "    </tr>\n",
       "  </thead>\n",
       "  <tbody>\n",
       "    <tr>\n",
       "      <th>0</th>\n",
       "      <td>1892</td>\n",
       "      <td>0</td>\n",
       "    </tr>\n",
       "    <tr>\n",
       "      <th>1</th>\n",
       "      <td>0</td>\n",
       "      <td>8037</td>\n",
       "    </tr>\n",
       "  </tbody>\n",
       "</table>\n",
       "</div>"
      ],
      "text/plain": [
       "Married        No   Yes\n",
       "Married_int            \n",
       "0            1892     0\n",
       "1               0  8037"
      ]
     },
     "execution_count": 7,
     "metadata": {},
     "output_type": "execute_result"
    },
    {
     "data": {
      "image/png": "[encoded data removed]",
      "text/plain": [
       "<matplotlib.figure.Figure at 0x10918e090>"
      ]
     },
     "metadata": {},
     "output_type": "display_data"
    }
   ],
   "source": [
    "data['Married'].value_counts().plot(kind='bar')\n",
    "print('Null values: '+str(data['Married'].isnull().sum()))\n",
    "data['Married_int'] = data['Married'].map( {'No':0, 'Yes':1, np.nan:-1}).astype(int)\n",
    "print('Unique values: '+str(data['Married_int'].unique()))\n",
    "pd.crosstab(data.Married_int, data.Married, rownames=['Married_int'], colnames=['Married'])\n"
   ]
  },
  {
   "cell_type": "code",
   "execution_count": 8,
   "metadata": {},
   "outputs": [
    {
     "name": "stdout",
     "output_type": "stream",
     "text": [
      "Null values: 72\n",
      "Unique values: [ 0  1 -1]\n"
     ]
    },
    {
     "data": {
      "text/html": [
       "<div>\n",
       "<style>\n",
       "    .dataframe thead tr:only-child th {\n",
       "        text-align: right;\n",
       "    }\n",
       "\n",
       "    .dataframe thead th {\n",
       "        text-align: left;\n",
       "    }\n",
       "\n",
       "    .dataframe tbody tr th {\n",
       "        vertical-align: top;\n",
       "    }\n",
       "</style>\n",
       "<table border=\"1\" class=\"dataframe\">\n",
       "  <thead>\n",
       "    <tr style=\"text-align: right;\">\n",
       "      <th>Gender</th>\n",
       "      <th>Female</th>\n",
       "      <th>Male</th>\n",
       "    </tr>\n",
       "    <tr>\n",
       "      <th>Gender_int</th>\n",
       "      <th></th>\n",
       "      <th></th>\n",
       "    </tr>\n",
       "  </thead>\n",
       "  <tbody>\n",
       "    <tr>\n",
       "      <th>0</th>\n",
       "      <td>0</td>\n",
       "      <td>4912</td>\n",
       "    </tr>\n",
       "    <tr>\n",
       "      <th>1</th>\n",
       "      <td>5016</td>\n",
       "      <td>0</td>\n",
       "    </tr>\n",
       "  </tbody>\n",
       "</table>\n",
       "</div>"
      ],
      "text/plain": [
       "Gender      Female  Male\n",
       "Gender_int              \n",
       "0                0  4912\n",
       "1             5016     0"
      ]
     },
     "execution_count": 8,
     "metadata": {},
     "output_type": "execute_result"
    },
    {
     "data": {
      "image/png": "[encoded data removed]",
      "text/plain": [
       "<matplotlib.figure.Figure at 0x109019b90>"
      ]
     },
     "metadata": {},
     "output_type": "display_data"
    }
   ],
   "source": [
    "data['Gender'].value_counts().plot(kind='bar')\n",
    "print('Null values: '+str(data['Gender'].isnull().sum()))\n",
    "data['Gender_int'] = data['Gender'].map( {'Male':0, 'Female':1, np.nan:-1}).astype(int)\n",
    "print('Unique values: '+str(data['Gender_int'].unique()))\n",
    "pd.crosstab(data.Gender_int, data.Gender, rownames=['Gender_int'], colnames=['Gender'])"
   ]
  },
  {
   "cell_type": "code",
   "execution_count": 9,
   "metadata": {},
   "outputs": [
    {
     "name": "stdout",
     "output_type": "stream",
     "text": [
      "Null values: 97\n",
      "Unique values: [ 1  0 -1]\n"
     ]
    },
    {
     "data": {
      "text/html": [
       "<div>\n",
       "<style>\n",
       "    .dataframe thead tr:only-child th {\n",
       "        text-align: right;\n",
       "    }\n",
       "\n",
       "    .dataframe thead th {\n",
       "        text-align: left;\n",
       "    }\n",
       "\n",
       "    .dataframe tbody tr th {\n",
       "        vertical-align: top;\n",
       "    }\n",
       "</style>\n",
       "<table border=\"1\" class=\"dataframe\">\n",
       "  <thead>\n",
       "    <tr style=\"text-align: right;\">\n",
       "      <th>Voting_Time</th>\n",
       "      <th>After_16:00</th>\n",
       "      <th>By_16:00</th>\n",
       "    </tr>\n",
       "    <tr>\n",
       "      <th>Voting_Time_int</th>\n",
       "      <th></th>\n",
       "      <th></th>\n",
       "    </tr>\n",
       "  </thead>\n",
       "  <tbody>\n",
       "    <tr>\n",
       "      <th>0</th>\n",
       "      <td>0</td>\n",
       "      <td>4859</td>\n",
       "    </tr>\n",
       "    <tr>\n",
       "      <th>1</th>\n",
       "      <td>5044</td>\n",
       "      <td>0</td>\n",
       "    </tr>\n",
       "  </tbody>\n",
       "</table>\n",
       "</div>"
      ],
      "text/plain": [
       "Voting_Time      After_16:00  By_16:00\n",
       "Voting_Time_int                       \n",
       "0                          0      4859\n",
       "1                       5044         0"
      ]
     },
     "execution_count": 9,
     "metadata": {},
     "output_type": "execute_result"
    },
    {
     "data": {
      "image/png": "[encoded data removed]",
      "text/plain": [
       "<matplotlib.figure.Figure at 0x1095bf810>"
      ]
     },
     "metadata": {},
     "output_type": "display_data"
    }
   ],
   "source": [
    "data['Voting_Time'].value_counts().plot(kind='bar')\n",
    "print('Null values: '+str(data['Voting_Time'].isnull().sum()))\n",
    "data['Voting_Time_int'] = data['Voting_Time'].map( {'By_16:00':0, 'After_16:00':1, np.nan:-1}).astype(int)\n",
    "print('Unique values: '+str(data['Voting_Time_int'].unique()))\n",
    "pd.crosstab(data.Voting_Time_int, data.Voting_Time, rownames=['Voting_Time_int'], colnames=['Voting_Time'])"
   ]
  },
  {
   "cell_type": "code",
   "execution_count": 10,
   "metadata": {},
   "outputs": [
    {
     "name": "stdout",
     "output_type": "stream",
     "text": [
      "Null values: 93\n",
      "Unique values: [ 0  1 -1]\n"
     ]
    },
    {
     "data": {
      "text/html": [
       "<div>\n",
       "<style>\n",
       "    .dataframe thead tr:only-child th {\n",
       "        text-align: right;\n",
       "    }\n",
       "\n",
       "    .dataframe thead th {\n",
       "        text-align: left;\n",
       "    }\n",
       "\n",
       "    .dataframe tbody tr th {\n",
       "        vertical-align: top;\n",
       "    }\n",
       "</style>\n",
       "<table border=\"1\" class=\"dataframe\">\n",
       "  <thead>\n",
       "    <tr style=\"text-align: right;\">\n",
       "      <th>Financial_agenda_matters</th>\n",
       "      <th>No</th>\n",
       "      <th>Yes</th>\n",
       "    </tr>\n",
       "    <tr>\n",
       "      <th>Financial_agenda_matters_int</th>\n",
       "      <th></th>\n",
       "      <th></th>\n",
       "    </tr>\n",
       "  </thead>\n",
       "  <tbody>\n",
       "    <tr>\n",
       "      <th>0</th>\n",
       "      <td>4892</td>\n",
       "      <td>0</td>\n",
       "    </tr>\n",
       "    <tr>\n",
       "      <th>1</th>\n",
       "      <td>0</td>\n",
       "      <td>5015</td>\n",
       "    </tr>\n",
       "  </tbody>\n",
       "</table>\n",
       "</div>"
      ],
      "text/plain": [
       "Financial_agenda_matters        No   Yes\n",
       "Financial_agenda_matters_int            \n",
       "0                             4892     0\n",
       "1                                0  5015"
      ]
     },
     "execution_count": 10,
     "metadata": {},
     "output_type": "execute_result"
    },
    {
     "data": {
      "image/png": "[encoded data removed]",
      "text/plain": [
       "<matplotlib.figure.Figure at 0x10928b710>"
      ]
     },
     "metadata": {},
     "output_type": "display_data"
    }
   ],
   "source": [
    "data['Financial_agenda_matters'].value_counts().plot(kind='bar')\n",
    "print('Null values: '+str(data['Financial_agenda_matters'].isnull().sum()))\n",
    "data['Financial_agenda_matters_int'] = data['Financial_agenda_matters'].map( {'No':0, 'Yes':1, np.nan:-1}).astype(int)\n",
    "print('Unique values: '+str(data['Financial_agenda_matters_int'].unique()))\n",
    "pd.crosstab(data.Financial_agenda_matters_int, data.Financial_agenda_matters, rownames=['Financial_agenda_matters_int'], colnames=['Financial_agenda_matters'])"
   ]
  },
  {
   "cell_type": "code",
   "execution_count": 11,
   "metadata": {},
   "outputs": [
    {
     "name": "stdout",
     "output_type": "stream",
     "text": [
      "Null values: 91\n",
      "Unique values: [                   4                    1                    7\n",
      "                    5                    2                    0\n",
      "                    6                    3 -9223372036854775808]\n"
     ]
    },
    {
     "data": {
      "image/png": "[encoded data removed]",
      "text/plain": [
       "<matplotlib.figure.Figure at 0x109305490>"
      ]
     },
     "metadata": {},
     "output_type": "display_data"
    }
   ],
   "source": [
    "data['Most_Important_Issue'].value_counts().plot(kind='bar')\n",
    "print('Null values: '+str(data['Most_Important_Issue'].isnull().sum()))\n",
    "data['Most_Important_Issue_cat'] = data['Most_Important_Issue'].astype(\"category\")\n",
    "data['Most_Important_Issue_int'] = data['Most_Important_Issue_cat'].cat.rename_categories(range(data['Most_Important_Issue_cat'].nunique())).astype(int)\n",
    "print('Unique values: '+str(data['Most_Important_Issue_int'].unique()))"
   ]
  },
  {
   "cell_type": "code",
   "execution_count": 12,
   "metadata": {},
   "outputs": [
    {
     "name": "stdout",
     "output_type": "stream",
     "text": [
      "Null values: 84\n",
      "Unique values: [                   1                    0                    2\n",
      " -9223372036854775808]\n"
     ]
    },
    {
     "data": {
      "image/png": "[encoded data removed]",
      "text/plain": [
       "<matplotlib.figure.Figure at 0x109297450>"
      ]
     },
     "metadata": {},
     "output_type": "display_data"
    }
   ],
   "source": [
    "data['Age_group'].value_counts().plot(kind='bar')\n",
    "print('Null values: '+str(data['Age_group'].isnull().sum()))\n",
    "data['Age_group_cat'] = data['Age_group'].astype(\"category\")\n",
    "data['Age_group_int'] = data['Age_group_cat'].cat.rename_categories(range(data['Age_group_cat'].nunique())).astype(int)\n",
    "print('Unique values: '+str(data['Age_group_int'].unique()))"
   ]
  },
  {
   "cell_type": "code",
   "execution_count": 13,
   "metadata": {
    "scrolled": true
   },
   "outputs": [
    {
     "name": "stdout",
     "output_type": "stream",
     "text": [
      "Null values: 62\n",
      "Unique values: [                   1                    2                    0\n",
      " -9223372036854775808]\n"
     ]
    },
    {
     "data": {
      "image/png": "[encoded data removed]",
      "text/plain": [
       "<matplotlib.figure.Figure at 0x109672090>"
      ]
     },
     "metadata": {},
     "output_type": "display_data"
    }
   ],
   "source": [
    "data['Will_vote_only_large_party'].value_counts().plot(kind='bar')\n",
    "print('Null values: '+str(data['Will_vote_only_large_party'].isnull().sum()))\n",
    "data['Will_vote_only_large_party_cat'] = data['Will_vote_only_large_party'].astype(\"category\")\n",
    "data['Will_vote_only_large_party_int'] = data['Will_vote_only_large_party_cat'].cat.rename_categories(range(data['Will_vote_only_large_party_cat'].nunique())).astype(int)\n",
    "print('Unique values: '+str(data['Will_vote_only_large_party_int'].unique()))"
   ]
  },
  {
   "cell_type": "code",
   "execution_count": 14,
   "metadata": {},
   "outputs": [
    {
     "name": "stdout",
     "output_type": "stream",
     "text": [
      "Null values: 85\n",
      "Unique values: [                   3                    2                    1\n",
      "                    0 -9223372036854775808]\n"
     ]
    },
    {
     "data": {
      "image/png": "[encoded data removed]",
      "text/plain": [
       "<matplotlib.figure.Figure at 0x109365590>"
      ]
     },
     "metadata": {},
     "output_type": "display_data"
    }
   ],
   "source": [
    "data['Main_transportation'].value_counts().plot(kind='bar')\n",
    "print('Null values: '+str(data['Main_transportation'].isnull().sum()))\n",
    "data['Main_transportation_cat'] = data['Main_transportation'].astype(\"category\")\n",
    "data['Main_transportation_int'] = data['Main_transportation_cat'].cat.rename_categories(range(data['Main_transportation_cat'].nunique())).astype(int)\n",
    "print('Unique values: '+str(data['Main_transportation_int'].unique()))"
   ]
  },
  {
   "cell_type": "code",
   "execution_count": 15,
   "metadata": {},
   "outputs": [
    {
     "name": "stdout",
     "output_type": "stream",
     "text": [
      "Null values: 100\n",
      "Unique values: [                   0                    2                    3\n",
      "                    4                    1 -9223372036854775808]\n"
     ]
    },
    {
     "data": {
      "image/png": "[encoded data removed]",
      "text/plain": [
       "<matplotlib.figure.Figure at 0x105970f50>"
      ]
     },
     "metadata": {},
     "output_type": "display_data"
    }
   ],
   "source": [
    "data['Occupation'].value_counts().plot(kind='bar')\n",
    "print('Null values: '+str(data['Occupation'].isnull().sum()))\n",
    "data['Occupation_cat'] = data['Occupation'].astype(\"category\")\n",
    "data['Occupation_int'] = data['Occupation_cat'].cat.rename_categories(range(data['Occupation_cat'].nunique())).astype(int)\n",
    "print('Unique values: '+str(data['Occupation_int'].unique()))"
   ]
  },
  {
   "cell_type": "code",
   "execution_count": 16,
   "metadata": {
    "collapsed": true
   },
   "outputs": [],
   "source": [
    "data = data.drop(['Looking_at_poles_results','Married','Gender','Voting_Time','Financial_agenda_matters','Most_Important_Issue','Most_Important_Issue_cat','Age_group','Age_group_cat','Will_vote_only_large_party','Will_vote_only_large_party_cat','Main_transportation','Will_vote_only_large_party_cat','Main_transportation','Main_transportation_cat','Occupation','Occupation_cat'], axis=1) "
   ]
  },
  {
   "cell_type": "code",
   "execution_count": 17,
   "metadata": {},
   "outputs": [
    {
     "data": {
      "text/html": [
       "<div>\n",
       "<style>\n",
       "    .dataframe thead tr:only-child th {\n",
       "        text-align: right;\n",
       "    }\n",
       "\n",
       "    .dataframe thead th {\n",
       "        text-align: left;\n",
       "    }\n",
       "\n",
       "    .dataframe tbody tr th {\n",
       "        vertical-align: top;\n",
       "    }\n",
       "</style>\n",
       "<table border=\"1\" class=\"dataframe\">\n",
       "  <thead>\n",
       "    <tr style=\"text-align: right;\">\n",
       "      <th></th>\n",
       "      <th>Occupation_Satisfaction</th>\n",
       "      <th>Avg_monthly_expense_when_under_age_21</th>\n",
       "      <th>AVG_lottary_expanses</th>\n",
       "      <th>Avg_Satisfaction_with_previous_vote</th>\n",
       "      <th>Garden_sqr_meter_per_person_in_residancy_area</th>\n",
       "      <th>Financial_balance_score_(0-1)</th>\n",
       "      <th>%Of_Household_Income</th>\n",
       "      <th>Avg_government_satisfaction</th>\n",
       "      <th>Avg_education_importance</th>\n",
       "      <th>Avg_environmental_importance</th>\n",
       "      <th>...</th>\n",
       "      <th>Looking_at_poles_results_int</th>\n",
       "      <th>Married_int</th>\n",
       "      <th>Gender_int</th>\n",
       "      <th>Voting_Time_int</th>\n",
       "      <th>Financial_agenda_matters_int</th>\n",
       "      <th>Most_Important_Issue_int</th>\n",
       "      <th>Age_group_int</th>\n",
       "      <th>Will_vote_only_large_party_int</th>\n",
       "      <th>Main_transportation_int</th>\n",
       "      <th>Occupation_int</th>\n",
       "    </tr>\n",
       "  </thead>\n",
       "  <tbody>\n",
       "    <tr>\n",
       "      <th>count</th>\n",
       "      <td>9809.000000</td>\n",
       "      <td>9809.000000</td>\n",
       "      <td>9818.000000</td>\n",
       "      <td>9829.000000</td>\n",
       "      <td>9794.000000</td>\n",
       "      <td>9810.000000</td>\n",
       "      <td>9813.000000</td>\n",
       "      <td>9806.000000</td>\n",
       "      <td>9823.000000</td>\n",
       "      <td>9783.000000</td>\n",
       "      <td>...</td>\n",
       "      <td>10000.000000</td>\n",
       "      <td>10000.000000</td>\n",
       "      <td>10000.000000</td>\n",
       "      <td>10000.000000</td>\n",
       "      <td>10000.000000</td>\n",
       "      <td>1.000000e+04</td>\n",
       "      <td>1.000000e+04</td>\n",
       "      <td>1.000000e+04</td>\n",
       "      <td>1.000000e+04</td>\n",
       "      <td>1.000000e+04</td>\n",
       "    </tr>\n",
       "    <tr>\n",
       "      <th>mean</th>\n",
       "      <td>5.511367</td>\n",
       "      <td>507.643792</td>\n",
       "      <td>67380.919408</td>\n",
       "      <td>169.002686</td>\n",
       "      <td>402.579462</td>\n",
       "      <td>0.500668</td>\n",
       "      <td>0.500361</td>\n",
       "      <td>4.987585</td>\n",
       "      <td>5.007205</td>\n",
       "      <td>5.003874</td>\n",
       "      <td>...</td>\n",
       "      <td>0.133800</td>\n",
       "      <td>0.796600</td>\n",
       "      <td>0.494400</td>\n",
       "      <td>0.494700</td>\n",
       "      <td>0.492200</td>\n",
       "      <td>-8.393269e+16</td>\n",
       "      <td>-7.747633e+16</td>\n",
       "      <td>-5.718491e+16</td>\n",
       "      <td>-7.839866e+16</td>\n",
       "      <td>-9.223372e+16</td>\n",
       "    </tr>\n",
       "    <tr>\n",
       "      <th>std</th>\n",
       "      <td>2.855781</td>\n",
       "      <td>433.518917</td>\n",
       "      <td>69473.844694</td>\n",
       "      <td>144.476593</td>\n",
       "      <td>133.557107</td>\n",
       "      <td>0.288094</td>\n",
       "      <td>0.286215</td>\n",
       "      <td>2.895290</td>\n",
       "      <td>2.885800</td>\n",
       "      <td>2.893176</td>\n",
       "      <td>...</td>\n",
       "      <td>0.366212</td>\n",
       "      <td>0.419817</td>\n",
       "      <td>0.514194</td>\n",
       "      <td>0.519036</td>\n",
       "      <td>0.518234</td>\n",
       "      <td>8.758849e+17</td>\n",
       "      <td>8.418202e+17</td>\n",
       "      <td>7.240304e+17</td>\n",
       "      <td>8.467735e+17</td>\n",
       "      <td>9.177598e+17</td>\n",
       "    </tr>\n",
       "    <tr>\n",
       "      <th>min</th>\n",
       "      <td>1.000000</td>\n",
       "      <td>-855.714730</td>\n",
       "      <td>-166375.186748</td>\n",
       "      <td>-285.238243</td>\n",
       "      <td>1.511957</td>\n",
       "      <td>0.000078</td>\n",
       "      <td>0.000413</td>\n",
       "      <td>0.000001</td>\n",
       "      <td>0.000048</td>\n",
       "      <td>0.000591</td>\n",
       "      <td>...</td>\n",
       "      <td>-1.000000</td>\n",
       "      <td>-1.000000</td>\n",
       "      <td>-1.000000</td>\n",
       "      <td>-1.000000</td>\n",
       "      <td>-1.000000</td>\n",
       "      <td>-9.223372e+18</td>\n",
       "      <td>-9.223372e+18</td>\n",
       "      <td>-9.223372e+18</td>\n",
       "      <td>-9.223372e+18</td>\n",
       "      <td>-9.223372e+18</td>\n",
       "    </tr>\n",
       "    <tr>\n",
       "      <th>25%</th>\n",
       "      <td>3.000000</td>\n",
       "      <td>199.225499</td>\n",
       "      <td>24420.519122</td>\n",
       "      <td>66.121900</td>\n",
       "      <td>307.042438</td>\n",
       "      <td>0.248523</td>\n",
       "      <td>0.255014</td>\n",
       "      <td>2.467898</td>\n",
       "      <td>2.524549</td>\n",
       "      <td>2.497779</td>\n",
       "      <td>...</td>\n",
       "      <td>0.000000</td>\n",
       "      <td>1.000000</td>\n",
       "      <td>0.000000</td>\n",
       "      <td>0.000000</td>\n",
       "      <td>0.000000</td>\n",
       "      <td>1.000000e+00</td>\n",
       "      <td>0.000000e+00</td>\n",
       "      <td>1.000000e+00</td>\n",
       "      <td>0.000000e+00</td>\n",
       "      <td>1.000000e+00</td>\n",
       "    </tr>\n",
       "    <tr>\n",
       "      <th>50%</th>\n",
       "      <td>6.000000</td>\n",
       "      <td>387.469720</td>\n",
       "      <td>48410.029203</td>\n",
       "      <td>128.670084</td>\n",
       "      <td>389.081350</td>\n",
       "      <td>0.500569</td>\n",
       "      <td>0.503486</td>\n",
       "      <td>4.996661</td>\n",
       "      <td>5.039814</td>\n",
       "      <td>4.958118</td>\n",
       "      <td>...</td>\n",
       "      <td>0.000000</td>\n",
       "      <td>1.000000</td>\n",
       "      <td>1.000000</td>\n",
       "      <td>1.000000</td>\n",
       "      <td>1.000000</td>\n",
       "      <td>2.000000e+00</td>\n",
       "      <td>1.000000e+00</td>\n",
       "      <td>1.000000e+00</td>\n",
       "      <td>1.000000e+00</td>\n",
       "      <td>2.000000e+00</td>\n",
       "    </tr>\n",
       "    <tr>\n",
       "      <th>75%</th>\n",
       "      <td>8.000000</td>\n",
       "      <td>708.293034</td>\n",
       "      <td>86099.873686</td>\n",
       "      <td>235.848891</td>\n",
       "      <td>479.527037</td>\n",
       "      <td>0.746059</td>\n",
       "      <td>0.743708</td>\n",
       "      <td>7.492286</td>\n",
       "      <td>7.467005</td>\n",
       "      <td>7.502315</td>\n",
       "      <td>...</td>\n",
       "      <td>0.000000</td>\n",
       "      <td>1.000000</td>\n",
       "      <td>1.000000</td>\n",
       "      <td>1.000000</td>\n",
       "      <td>1.000000</td>\n",
       "      <td>5.000000e+00</td>\n",
       "      <td>2.000000e+00</td>\n",
       "      <td>1.000000e+00</td>\n",
       "      <td>2.000000e+00</td>\n",
       "      <td>3.000000e+00</td>\n",
       "    </tr>\n",
       "    <tr>\n",
       "      <th>max</th>\n",
       "      <td>10.000000</td>\n",
       "      <td>2305.237140</td>\n",
       "      <td>560309.089996</td>\n",
       "      <td>768.412380</td>\n",
       "      <td>855.997552</td>\n",
       "      <td>0.999887</td>\n",
       "      <td>0.999597</td>\n",
       "      <td>9.999719</td>\n",
       "      <td>9.997036</td>\n",
       "      <td>9.999264</td>\n",
       "      <td>...</td>\n",
       "      <td>1.000000</td>\n",
       "      <td>1.000000</td>\n",
       "      <td>1.000000</td>\n",
       "      <td>1.000000</td>\n",
       "      <td>1.000000</td>\n",
       "      <td>7.000000e+00</td>\n",
       "      <td>2.000000e+00</td>\n",
       "      <td>2.000000e+00</td>\n",
       "      <td>3.000000e+00</td>\n",
       "      <td>4.000000e+00</td>\n",
       "    </tr>\n",
       "  </tbody>\n",
       "</table>\n",
       "<p>8 rows × 37 columns</p>\n",
       "</div>"
      ],
      "text/plain": [
       "       Occupation_Satisfaction  Avg_monthly_expense_when_under_age_21  \\\n",
       "count              9809.000000                            9809.000000   \n",
       "mean                  5.511367                             507.643792   \n",
       "std                   2.855781                             433.518917   \n",
       "min                   1.000000                            -855.714730   \n",
       "25%                   3.000000                             199.225499   \n",
       "50%                   6.000000                             387.469720   \n",
       "75%                   8.000000                             708.293034   \n",
       "max                  10.000000                            2305.237140   \n",
       "\n",
       "       AVG_lottary_expanses  Avg_Satisfaction_with_previous_vote  \\\n",
       "count           9818.000000                          9829.000000   \n",
       "mean           67380.919408                           169.002686   \n",
       "std            69473.844694                           144.476593   \n",
       "min          -166375.186748                          -285.238243   \n",
       "25%            24420.519122                            66.121900   \n",
       "50%            48410.029203                           128.670084   \n",
       "75%            86099.873686                           235.848891   \n",
       "max           560309.089996                           768.412380   \n",
       "\n",
       "       Garden_sqr_meter_per_person_in_residancy_area  \\\n",
       "count                                    9794.000000   \n",
       "mean                                      402.579462   \n",
       "std                                       133.557107   \n",
       "min                                         1.511957   \n",
       "25%                                       307.042438   \n",
       "50%                                       389.081350   \n",
       "75%                                       479.527037   \n",
       "max                                       855.997552   \n",
       "\n",
       "       Financial_balance_score_(0-1)  %Of_Household_Income  \\\n",
       "count                    9810.000000           9813.000000   \n",
       "mean                        0.500668              0.500361   \n",
       "std                         0.288094              0.286215   \n",
       "min                         0.000078              0.000413   \n",
       "25%                         0.248523              0.255014   \n",
       "50%                         0.500569              0.503486   \n",
       "75%                         0.746059              0.743708   \n",
       "max                         0.999887              0.999597   \n",
       "\n",
       "       Avg_government_satisfaction  Avg_education_importance  \\\n",
       "count                  9806.000000               9823.000000   \n",
       "mean                      4.987585                  5.007205   \n",
       "std                       2.895290                  2.885800   \n",
       "min                       0.000001                  0.000048   \n",
       "25%                       2.467898                  2.524549   \n",
       "50%                       4.996661                  5.039814   \n",
       "75%                       7.492286                  7.467005   \n",
       "max                       9.999719                  9.997036   \n",
       "\n",
       "       Avg_environmental_importance       ...        \\\n",
       "count                   9783.000000       ...         \n",
       "mean                       5.003874       ...         \n",
       "std                        2.893176       ...         \n",
       "min                        0.000591       ...         \n",
       "25%                        2.497779       ...         \n",
       "50%                        4.958118       ...         \n",
       "75%                        7.502315       ...         \n",
       "max                        9.999264       ...         \n",
       "\n",
       "       Looking_at_poles_results_int   Married_int    Gender_int  \\\n",
       "count                  10000.000000  10000.000000  10000.000000   \n",
       "mean                       0.133800      0.796600      0.494400   \n",
       "std                        0.366212      0.419817      0.514194   \n",
       "min                       -1.000000     -1.000000     -1.000000   \n",
       "25%                        0.000000      1.000000      0.000000   \n",
       "50%                        0.000000      1.000000      1.000000   \n",
       "75%                        0.000000      1.000000      1.000000   \n",
       "max                        1.000000      1.000000      1.000000   \n",
       "\n",
       "       Voting_Time_int  Financial_agenda_matters_int  \\\n",
       "count     10000.000000                  10000.000000   \n",
       "mean          0.494700                      0.492200   \n",
       "std           0.519036                      0.518234   \n",
       "min          -1.000000                     -1.000000   \n",
       "25%           0.000000                      0.000000   \n",
       "50%           1.000000                      1.000000   \n",
       "75%           1.000000                      1.000000   \n",
       "max           1.000000                      1.000000   \n",
       "\n",
       "       Most_Important_Issue_int  Age_group_int  \\\n",
       "count              1.000000e+04   1.000000e+04   \n",
       "mean              -8.393269e+16  -7.747633e+16   \n",
       "std                8.758849e+17   8.418202e+17   \n",
       "min               -9.223372e+18  -9.223372e+18   \n",
       "25%                1.000000e+00   0.000000e+00   \n",
       "50%                2.000000e+00   1.000000e+00   \n",
       "75%                5.000000e+00   2.000000e+00   \n",
       "max                7.000000e+00   2.000000e+00   \n",
       "\n",
       "       Will_vote_only_large_party_int  Main_transportation_int  Occupation_int  \n",
       "count                    1.000000e+04             1.000000e+04    1.000000e+04  \n",
       "mean                    -5.718491e+16            -7.839866e+16   -9.223372e+16  \n",
       "std                      7.240304e+17             8.467735e+17    9.177598e+17  \n",
       "min                     -9.223372e+18            -9.223372e+18   -9.223372e+18  \n",
       "25%                      1.000000e+00             0.000000e+00    1.000000e+00  \n",
       "50%                      1.000000e+00             1.000000e+00    2.000000e+00  \n",
       "75%                      1.000000e+00             2.000000e+00    3.000000e+00  \n",
       "max                      2.000000e+00             3.000000e+00    4.000000e+00  \n",
       "\n",
       "[8 rows x 37 columns]"
      ]
     },
     "execution_count": 17,
     "metadata": {},
     "output_type": "execute_result"
    }
   ],
   "source": [
    "data.describe()"
   ]
  },
  {
   "cell_type": "code",
   "execution_count": 18,
   "metadata": {
    "scrolled": true
   },
   "outputs": [
    {
     "name": "stdout",
     "output_type": "stream",
     "text": [
      "Number of nulls after exploration: 5113\n"
     ]
    }
   ],
   "source": [
    "print(\"Number of nulls after exploration: \"+str(data.isnull().sum().sum()))"
   ]
  },
  {
   "cell_type": "code",
   "execution_count": 19,
   "metadata": {},
   "outputs": [
    {
     "data": {
      "text/html": [
       "<div>\n",
       "<style>\n",
       "    .dataframe thead tr:only-child th {\n",
       "        text-align: right;\n",
       "    }\n",
       "\n",
       "    .dataframe thead th {\n",
       "        text-align: left;\n",
       "    }\n",
       "\n",
       "    .dataframe tbody tr th {\n",
       "        vertical-align: top;\n",
       "    }\n",
       "</style>\n",
       "<table border=\"1\" class=\"dataframe\">\n",
       "  <thead>\n",
       "    <tr style=\"text-align: right;\">\n",
       "      <th></th>\n",
       "      <th>Vote</th>\n",
       "    </tr>\n",
       "  </thead>\n",
       "  <tbody>\n",
       "    <tr>\n",
       "      <th>count</th>\n",
       "      <td>10000</td>\n",
       "    </tr>\n",
       "    <tr>\n",
       "      <th>unique</th>\n",
       "      <td>10</td>\n",
       "    </tr>\n",
       "    <tr>\n",
       "      <th>top</th>\n",
       "      <td>Purples</td>\n",
       "    </tr>\n",
       "    <tr>\n",
       "      <th>freq</th>\n",
       "      <td>2067</td>\n",
       "    </tr>\n",
       "  </tbody>\n",
       "</table>\n",
       "</div>"
      ],
      "text/plain": [
       "           Vote\n",
       "count     10000\n",
       "unique       10\n",
       "top     Purples\n",
       "freq       2067"
      ]
     },
     "execution_count": 19,
     "metadata": {},
     "output_type": "execute_result"
    }
   ],
   "source": [
    "data.select_dtypes(exclude=['floating','int']).describe()"
   ]
  },
  {
   "cell_type": "markdown",
   "metadata": {},
   "source": [
    "## Data preperation:"
   ]
  },
  {
   "cell_type": "markdown",
   "metadata": {},
   "source": [
    "### Data Imputation:"
   ]
  },
  {
   "cell_type": "code",
   "execution_count": 20,
   "metadata": {},
   "outputs": [
    {
     "name": "stdout",
     "output_type": "stream",
     "text": [
      "Null values: 217 out of: 9783\n",
      "Null values after imputation: 0\n"
     ]
    },
    {
     "data": {
      "image/png": "[encoded data removed]",
      "text/plain": [
       "<matplotlib.figure.Figure at 0x108fedb10>"
      ]
     },
     "metadata": {},
     "output_type": "display_data"
    }
   ],
   "source": [
    "print('Null values: '+str(data['Avg_environmental_importance'].isnull().sum())+' out of: '+str(data['Avg_environmental_importance'].notnull().sum()))\n",
    "data['Avg_environmental_importance'].hist()\n",
    "data['Avg_environmental_importance'].describe()\n",
    "data['Avg_environmental_importance_isNull'] = pd.isnull(data.Avg_environmental_importance).astype(int)\n",
    "data['Avg_environmental_importance'] = data['Avg_environmental_importance'].interpolate()\n",
    "print('Null values after imputation: '+str(data['Avg_environmental_importance'].isnull().sum()))"
   ]
  },
  {
   "cell_type": "markdown",
   "metadata": {},
   "source": [
    "The data is distributed pretty much uniformly, so I will use interpolation here."
   ]
  },
  {
   "cell_type": "code",
   "execution_count": 21,
   "metadata": {},
   "outputs": [
    {
     "name": "stdout",
     "output_type": "stream",
     "text": [
      "Null values: 210\n",
      "Null values after imputation: 0\n"
     ]
    },
    {
     "data": {
      "image/png": "[encoded data removed]",
      "text/plain": [
       "<matplotlib.figure.Figure at 0x1a133c0550>"
      ]
     },
     "metadata": {},
     "output_type": "display_data"
    }
   ],
   "source": [
    "print('Null values: '+str(data['Yearly_ExpensesK'].isnull().sum()))\n",
    "data['Yearly_ExpensesK'].hist()\n",
    "data['Yearly_ExpensesK'].describe()\n",
    "data['Yearly_ExpensesK_isNull'] = pd.isnull(data.Yearly_ExpensesK).astype(int)\n",
    "data['Yearly_ExpensesK'] = data['Yearly_ExpensesK'].interpolate()\n",
    "print('Null values after imputation: '+str(data['Yearly_ExpensesK'].isnull().sum()))\n"
   ]
  },
  {
   "cell_type": "markdown",
   "metadata": {},
   "source": [
    "The data is distributed pretty much uniformly, so I will use interpolation here."
   ]
  },
  {
   "cell_type": "code",
   "execution_count": 22,
   "metadata": {},
   "outputs": [
    {
     "name": "stdout",
     "output_type": "stream",
     "text": [
      "Null values: 206\n",
      "Null values after imputation: 0\n"
     ]
    },
    {
     "data": {
      "image/png": "[encoded data removed]",
      "text/plain": [
       "<matplotlib.figure.Figure at 0x1a135b1b10>"
      ]
     },
     "metadata": {},
     "output_type": "display_data"
    }
   ],
   "source": [
    "print('Null values: '+str(data['Garden_sqr_meter_per_person_in_residancy_area'].isnull().sum()))\n",
    "data['Garden_sqr_meter_per_person_in_residancy_area'].hist()\n",
    "data['Garden_sqr_meter_per_person_in_residancy_area'].describe()\n",
    "data['Garden_sqr_meter_per_person_in_residancy_area_isNull'] = pd.isnull(data.Garden_sqr_meter_per_person_in_residancy_area).astype(int)\n",
    "avg = data['Garden_sqr_meter_per_person_in_residancy_area'].mean()\n",
    "data['Garden_sqr_meter_per_person_in_residancy_area'] = data['Garden_sqr_meter_per_person_in_residancy_area'].fillna(value = avg)\n",
    "print('Null values after imputation: '+str(data['Garden_sqr_meter_per_person_in_residancy_area'].isnull().sum()))"
   ]
  },
  {
   "cell_type": "markdown",
   "metadata": {},
   "source": [
    "The data is distributed close enough to normal, so I will use mean."
   ]
  },
  {
   "cell_type": "code",
   "execution_count": 23,
   "metadata": {},
   "outputs": [
    {
     "name": "stdout",
     "output_type": "stream",
     "text": [
      "Null values: 205\n",
      "Null values after imputation: 0\n"
     ]
    },
    {
     "data": {
      "image/png": "[encoded data removed]",
      "text/plain": [
       "<matplotlib.figure.Figure at 0x1a12d4af10>"
      ]
     },
     "metadata": {},
     "output_type": "display_data"
    }
   ],
   "source": [
    "print('Null values: '+str(data['Num_of_kids_born_last_10_years'].isnull().sum()))\n",
    "data['Num_of_kids_born_last_10_years'].hist()\n",
    "data['Num_of_kids_born_last_10_years'].describe()\n",
    "data['Num_of_kids_born_last_10_years_isNull'] = pd.isnull(data.Garden_sqr_meter_per_person_in_residancy_area).astype(int)\n",
    "med = data['Num_of_kids_born_last_10_years'].median()\n",
    "data['Num_of_kids_born_last_10_years'] = data['Num_of_kids_born_last_10_years'].fillna(value = med)\n",
    "print('Null values after imputation: '+str(data['Num_of_kids_born_last_10_years'].isnull().sum()))"
   ]
  },
  {
   "cell_type": "markdown",
   "metadata": {},
   "source": [
    "The data is distributed pretty much as I expected, with left bias, so I may want to use the median here."
   ]
  },
  {
   "cell_type": "code",
   "execution_count": 24,
   "metadata": {},
   "outputs": [
    {
     "name": "stdout",
     "output_type": "stream",
     "text": [
      "Null values: 205\n",
      "Null values after imputation: 0\n"
     ]
    },
    {
     "data": {
      "image/png": "[encoded data removed]",
      "text/plain": [
       "<matplotlib.figure.Figure at 0x1a13706cd0>"
      ]
     },
     "metadata": {},
     "output_type": "display_data"
    }
   ],
   "source": [
    "print('Null values: '+str(data['%Time_invested_in_work'].isnull().sum()))\n",
    "data['%Time_invested_in_work'].hist()\n",
    "data['%Time_invested_in_work'].describe()\n",
    "data['%Time_invested_in_work_isNull'] = pd.isnull(data.Yearly_ExpensesK).astype(int)\n",
    "data['%Time_invested_in_work'] = data['%Time_invested_in_work'].interpolate()\n",
    "print('Null values after imputation: '+str(data['%Time_invested_in_work'].isnull().sum()))\n"
   ]
  },
  {
   "cell_type": "markdown",
   "metadata": {},
   "source": [
    "The data is distributed pretty much uniformly, so I will use interpolation here."
   ]
  },
  {
   "cell_type": "code",
   "execution_count": 25,
   "metadata": {},
   "outputs": [
    {
     "name": "stdout",
     "output_type": "stream",
     "text": [
      "Null values: 203\n",
      "Null values after imputation: 0\n"
     ]
    },
    {
     "data": {
      "image/png": "[encoded data removed]",
      "text/plain": [
       "<matplotlib.figure.Figure at 0x1a12d4aed0>"
      ]
     },
     "metadata": {},
     "output_type": "display_data"
    }
   ],
   "source": [
    "print('Null values: '+str(data['Weighted_education_rank'].isnull().sum()))\n",
    "data['Weighted_education_rank'].hist()\n",
    "data['Weighted_education_rank'].describe()\n",
    "data['Num_of_kids_born_last_10_years_isNull'] = pd.isnull(data.Garden_sqr_meter_per_person_in_residancy_area).astype(int)\n",
    "med = data['Num_of_kids_born_last_10_years'].median()\n",
    "data['Num_of_kids_born_last_10_years'] = data['Num_of_kids_born_last_10_years'].fillna(value = med)\n",
    "print('Null values after imputation: '+str(data['Num_of_kids_born_last_10_years'].isnull().sum()))"
   ]
  },
  {
   "cell_type": "markdown",
   "metadata": {},
   "source": [
    "The data is distributed pretty much as I expected, with left bias, so I may want to use the median here."
   ]
  },
  {
   "cell_type": "code",
   "execution_count": 30,
   "metadata": {},
   "outputs": [
    {
     "name": "stdout",
     "output_type": "stream",
     "text": [
      "Null values: 0\n",
      "Null values after imputation: 0\n"
     ]
    },
    {
     "data": {
      "image/png": "[encoded data removed]",
      "text/plain": [
       "<matplotlib.figure.Figure at 0x1092e7310>"
      ]
     },
     "metadata": {},
     "output_type": "display_data"
    }
   ],
   "source": [
    "print('Null values: '+str(data['Avg_monthly_expense_on_pets_or_plants'].isnull().sum()))\n",
    "data['Avg_monthly_expense_on_pets_or_plants'].hist(bins=10)\n",
    "data['Avg_monthly_expense_on_pets_or_plants'].describe()\n",
    "data['Avg_monthly_expense_on_pets_or_plants_isNull'] = pd.isnull(data.Avg_monthly_expense_on_pets_or_plants).astype(int)\n",
    "avg = data['Avg_monthly_expense_on_pets_or_plants'].mean()\n",
    "data['Avg_monthly_expense_on_pets_or_plants'] = data['Avg_monthly_expense_on_pets_or_plants'].fillna(value = avg)\n",
    "print('Null values after imputation: '+str(data['Avg_monthly_expense_on_pets_or_plants'].isnull().sum()))"
   ]
  },
  {
   "cell_type": "markdown",
   "metadata": {},
   "source": [
    "The data distribution is pretty surprising , it looks pretty much normal, so I may want to use the mean here."
   ]
  },
  {
   "cell_type": "code",
   "execution_count": 31,
   "metadata": {},
   "outputs": [
    {
     "name": "stdout",
     "output_type": "stream",
     "text": [
      "Null values: 198\n",
      "Null values after imputation: 0\n"
     ]
    },
    {
     "data": {
      "image/png": "[encoded data removed]",
      "text/plain": [
       "<matplotlib.figure.Figure at 0x109659150>"
      ]
     },
     "metadata": {},
     "output_type": "display_data"
    }
   ],
   "source": [
    "print('Null values: '+str(data['%_satisfaction_financial_policy'].isnull().sum()))\n",
    "data['%_satisfaction_financial_policy'].hist()\n",
    "data['%_satisfaction_financial_policy'].describe()\n",
    "data['%_satisfaction_financial_policy_isNull'] = pd.isnull(data['%_satisfaction_financial_policy']).astype(int)\n",
    "data['%_satisfaction_financial_policy'] = data['%_satisfaction_financial_policy'].interpolate()\n",
    "print('Null values after imputation: '+str(data['%_satisfaction_financial_policy'].isnull().sum()))"
   ]
  },
  {
   "cell_type": "markdown",
   "metadata": {},
   "source": [
    "The data is distributed pretty much uniformly, so I may want to use EM."
   ]
  },
  {
   "cell_type": "code",
   "execution_count": 32,
   "metadata": {},
   "outputs": [
    {
     "name": "stdout",
     "output_type": "stream",
     "text": [
      "Null values: 195\n",
      "Null values after imputation: 0\n"
     ]
    },
    {
     "data": {
      "image/png": "[encoded data removed]",
      "text/plain": [
       "<matplotlib.figure.Figure at 0x109378450>"
      ]
     },
     "metadata": {},
     "output_type": "display_data"
    }
   ],
   "source": [
    "print('Null values: '+str(data['Political_interest_Total_Score'].isnull().sum()))\n",
    "data['Political_interest_Total_Score'].hist()\n",
    "data['Political_interest_Total_Score'].describe()\n",
    "data['Political_interest_Total_Score_isNull'] = pd.isnull(data.Political_interest_Total_Score).astype(int)\n",
    "med = data['Num_of_kids_born_last_10_years'].median()\n",
    "data['Political_interest_Total_Score'] = data['Political_interest_Total_Score'].fillna(value = med)\n",
    "print('Null values after imputation: '+str(data['Political_interest_Total_Score'].isnull().sum()))"
   ]
  },
  {
   "cell_type": "markdown",
   "metadata": {},
   "source": [
    "The data is distributed with a right bias, so I may want to use the median here."
   ]
  },
  {
   "cell_type": "code",
   "execution_count": 33,
   "metadata": {},
   "outputs": [
    {
     "name": "stdout",
     "output_type": "stream",
     "text": [
      "Null values: 194\n",
      "Null values after imputation: 0\n"
     ]
    },
    {
     "data": {
      "image/png": "[encoded data removed]",
      "text/plain": [
       "<matplotlib.figure.Figure at 0x1a0a59e610>"
      ]
     },
     "metadata": {},
     "output_type": "display_data"
    }
   ],
   "source": [
    "print('Null values: '+str(data['Avg_size_per_room'].isnull().sum()))\n",
    "data['Avg_size_per_room'].hist()\n",
    "data['Avg_size_per_room'].describe()\n",
    "data['Avg_size_per_room_isNull'] = pd.isnull(data.Avg_size_per_room).astype(int)\n",
    "med = data['Avg_size_per_room'].median()\n",
    "data['Avg_size_per_room'] = data['Avg_size_per_room'].fillna(value = med)\n",
    "print('Null values after imputation: '+str(data['Avg_size_per_room'].isnull().sum()))"
   ]
  },
  {
   "cell_type": "markdown",
   "metadata": {},
   "source": [
    "The data is distributed with a right bias, so I may want to use the median here."
   ]
  },
  {
   "cell_type": "code",
   "execution_count": 34,
   "metadata": {},
   "outputs": [
    {
     "name": "stdout",
     "output_type": "stream",
     "text": [
      "Null values: 194\n",
      "Null values after imputation: 0\n"
     ]
    },
    {
     "data": {
      "image/png": "[encoded data removed]",
      "text/plain": [
       "<matplotlib.figure.Figure at 0x1a0a4dc610>"
      ]
     },
     "metadata": {},
     "output_type": "display_data"
    }
   ],
   "source": [
    "print('Null values: '+str(data['Avg_government_satisfaction'].isnull().sum()))\n",
    "data['Avg_government_satisfaction'].hist()\n",
    "data['Avg_government_satisfaction'].describe()\n",
    "data['Avg_government_satisfaction_isNull'] = pd.isnull(data.Avg_government_satisfaction).astype(int)\n",
    "data['Avg_government_satisfaction'] = data['Avg_government_satisfaction'].interpolate()\n",
    "print('Null values after imputation: '+str(data['Avg_government_satisfaction'].isnull().sum()))"
   ]
  },
  {
   "cell_type": "markdown",
   "metadata": {},
   "source": [
    "The data is distributed pretty much uniformly, so I may want to use EM."
   ]
  },
  {
   "cell_type": "code",
   "execution_count": 35,
   "metadata": {},
   "outputs": [
    {
     "name": "stdout",
     "output_type": "stream",
     "text": [
      "Null values: 191\n",
      "Null values after imputation: 0\n"
     ]
    },
    {
     "data": {
      "image/png": "[encoded data removed]",
      "text/plain": [
       "<matplotlib.figure.Figure at 0x1a12d28b50>"
      ]
     },
     "metadata": {},
     "output_type": "display_data"
    }
   ],
   "source": [
    "print('Null values: '+str(data['Occupation_Satisfaction'].isnull().sum()))\n",
    "data['Occupation_Satisfaction'].hist()\n",
    "data['Occupation_Satisfaction'].describe()\n",
    "data['Occupation_Satisfaction_isNull'] = pd.isnull(data.Occupation_Satisfaction).astype(int)\n",
    "data['Occupation_Satisfaction'] = data['Occupation_Satisfaction'].interpolate()\n",
    "print('Null values after imputation: '+str(data['Occupation_Satisfaction'].isnull().sum()))"
   ]
  },
  {
   "cell_type": "markdown",
   "metadata": {},
   "source": [
    "This result is rather disappointing, it means that people's opinion about the occupation is somewhat random... I go with EM."
   ]
  },
  {
   "cell_type": "code",
   "execution_count": 36,
   "metadata": {},
   "outputs": [
    {
     "name": "stdout",
     "output_type": "stream",
     "text": [
      "Null values: 191\n",
      "Null values after imputation: 0\n"
     ]
    },
    {
     "data": {
      "image/png": "[encoded data removed]",
      "text/plain": [
       "<matplotlib.figure.Figure at 0x1093789d0>"
      ]
     },
     "metadata": {},
     "output_type": "display_data"
    }
   ],
   "source": [
    "print('Null values: '+str(data['Avg_monthly_expense_when_under_age_21'].isnull().sum()))\n",
    "data['Avg_monthly_expense_when_under_age_21'].hist()\n",
    "data['Avg_monthly_expense_when_under_age_21'].describe()\n",
    "data['Avg_monthly_expense_when_under_age_21_isNull'] = pd.isnull(data.Avg_monthly_expense_when_under_age_21).astype(int)\n",
    "med = data['Avg_monthly_expense_when_under_age_21'].median()\n",
    "data['Avg_monthly_expense_when_under_age_21'] = data['Avg_monthly_expense_when_under_age_21'].fillna(value = med)\n",
    "print('Null values after imputation: '+str(data['Avg_monthly_expense_when_under_age_21'].isnull().sum()))"
   ]
  },
  {
   "cell_type": "markdown",
   "metadata": {},
   "source": [
    "The data is distributed close enough to normal, so I may want to use mean."
   ]
  },
  {
   "cell_type": "code",
   "execution_count": 37,
   "metadata": {},
   "outputs": [
    {
     "name": "stdout",
     "output_type": "stream",
     "text": [
      "Null values: 190\n",
      "Null values after imputation: 0\n"
     ]
    },
    {
     "data": {
      "image/png": "[encoded data removed]",
      "text/plain": [
       "<matplotlib.figure.Figure at 0x1a0a541050>"
      ]
     },
     "metadata": {},
     "output_type": "display_data"
    }
   ],
   "source": [
    "print('Null values: '+str(data['Financial_balance_score_(0-1)'].isnull().sum()))\n",
    "data['Financial_balance_score_(0-1)'].hist()\n",
    "data['Financial_balance_score_(0-1)'].describe()\n",
    "data['Financial_balance_score_(0-1)_isNull'] = pd.isnull(data['Financial_balance_score_(0-1)']).astype(int)\n",
    "data['Financial_balance_score_(0-1)'] = data['Financial_balance_score_(0-1)'].interpolate()\n",
    "print('Null values after imputation: '+str(data['Financial_balance_score_(0-1)'].isnull().sum()))"
   ]
  },
  {
   "cell_type": "markdown",
   "metadata": {},
   "source": [
    "The data is distributed pretty much uniformly, so I may want to use EM."
   ]
  },
  {
   "cell_type": "code",
   "execution_count": 38,
   "metadata": {},
   "outputs": [
    {
     "name": "stdout",
     "output_type": "stream",
     "text": [
      "Null values: 188\n",
      "Null values after imputation: 0\n"
     ]
    },
    {
     "data": {
      "image/png": "[encoded data removed]",
      "text/plain": [
       "<matplotlib.figure.Figure at 0x1a12bd7f10>"
      ]
     },
     "metadata": {},
     "output_type": "display_data"
    }
   ],
   "source": [
    "print('Null values: '+str(data['Avg_monthly_household_cost'].isnull().sum()))\n",
    "data['Avg_monthly_household_cost'].hist()\n",
    "data['Avg_monthly_household_cost'].describe()\n",
    "data['Avg_monthly_household_cost_isNull'] = pd.isnull(data.Avg_monthly_household_cost).astype(int)\n",
    "avg = data['Avg_monthly_household_cost'].mean()\n",
    "data['Avg_monthly_household_cost'] = data['Avg_monthly_household_cost'].fillna(value = avg)\n",
    "print('Null values after imputation: '+str(data['Avg_monthly_household_cost'].isnull().sum()))"
   ]
  },
  {
   "cell_type": "markdown",
   "metadata": {},
   "source": [
    "The data is distributed close enough to normal, so I may want to use mean."
   ]
  },
  {
   "cell_type": "code",
   "execution_count": 39,
   "metadata": {},
   "outputs": [
    {
     "name": "stdout",
     "output_type": "stream",
     "text": [
      "Null values: 188\n",
      "Null values after imputation: 0\n"
     ]
    },
    {
     "data": {
      "image/png": "[encoded data removed]",
      "text/plain": [
       "<matplotlib.figure.Figure at 0x109312390>"
      ]
     },
     "metadata": {},
     "output_type": "display_data"
    }
   ],
   "source": [
    "print('Null values: '+str(data['Yearly_IncomeK'].isnull().sum()))\n",
    "data['Yearly_IncomeK'].hist()\n",
    "data['Yearly_IncomeK'].describe()\n",
    "data['Yearly_IncomeK_isNull'] = pd.isnull(data.Yearly_IncomeK).astype(int)\n",
    "avg = data['Yearly_IncomeK'].mean()\n",
    "data['Yearly_IncomeK'] = data['Yearly_IncomeK'].fillna(value = avg)\n",
    "print('Null values after imputation: '+str(data['Yearly_IncomeK'].isnull().sum()))"
   ]
  },
  {
   "cell_type": "markdown",
   "metadata": {},
   "source": [
    "The data is distributed close enough to normal, so I may want to use mean."
   ]
  },
  {
   "cell_type": "code",
   "execution_count": 40,
   "metadata": {},
   "outputs": [
    {
     "name": "stdout",
     "output_type": "stream",
     "text": [
      "Null values: 187\n",
      "Null values after imputation: 0\n"
     ]
    },
    {
     "data": {
      "image/png": "[encoded data removed]",
      "text/plain": [
       "<matplotlib.figure.Figure at 0x109622290>"
      ]
     },
     "metadata": {},
     "output_type": "display_data"
    }
   ],
   "source": [
    "print('Null values: '+str(data['%Of_Household_Income'].isnull().sum()))\n",
    "data['%Of_Household_Income'].hist()\n",
    "data['%Of_Household_Income'].describe()\n",
    "data['%Of_Household_Income_isNull'] = pd.isnull(data['%Of_Household_Income']).astype(int)\n",
    "data['%Of_Household_Income'] = data['%Of_Household_Income'].interpolate()\n",
    "print('Null values after imputation: '+str(data['%Of_Household_Income'].isnull().sum()))"
   ]
  },
  {
   "cell_type": "markdown",
   "metadata": {},
   "source": [
    "The data is distributed pretty much uniformly, so I may want to use EM."
   ]
  },
  {
   "cell_type": "code",
   "execution_count": 41,
   "metadata": {},
   "outputs": [
    {
     "name": "stdout",
     "output_type": "stream",
     "text": [
      "Null values: 184\n",
      "Null values after imputation: 0\n"
     ]
    },
    {
     "data": {
      "image/png": "[encoded data removed]",
      "text/plain": [
       "<matplotlib.figure.Figure at 0x108727bd0>"
      ]
     },
     "metadata": {},
     "output_type": "display_data"
    }
   ],
   "source": [
    "print('Null values: '+str(data['Number_of_valued_Kneset_members'].isnull().sum()))\n",
    "data['Number_of_valued_Kneset_members'].hist(bins=1)\n",
    "data['Number_of_valued_Kneset_members'].describe()\n",
    "data['Number_of_valued_Kneset_members_isNull'] = pd.isnull(data['Number_of_valued_Kneset_members']).astype(int)\n",
    "data['Number_of_valued_Kneset_members'] = data['Number_of_valued_Kneset_members'].interpolate()\n",
    "print('Null values after imputation: '+str(data['Number_of_valued_Kneset_members'].isnull().sum()))"
   ]
  },
  {
   "cell_type": "markdown",
   "metadata": {},
   "source": [
    "The data is distributed pretty much uniformly, so I may want to use EM."
   ]
  },
  {
   "cell_type": "code",
   "execution_count": 42,
   "metadata": {},
   "outputs": [
    {
     "name": "stdout",
     "output_type": "stream",
     "text": [
      "Null values: 182\n",
      "Null values after imputation: 0\n"
     ]
    },
    {
     "data": {
      "image/png": "[encoded data removed]",
      "text/plain": [
       "<matplotlib.figure.Figure at 0x1a13726ad0>"
      ]
     },
     "metadata": {},
     "output_type": "display_data"
    }
   ],
   "source": [
    "print('Null values: '+str(data['AVG_lottary_expanses'].isnull().sum()))\n",
    "data['AVG_lottary_expanses'].hist()\n",
    "data['AVG_lottary_expanses'].describe()\n",
    "data['AVG_lottary_expanses_isNull'] = pd.isnull(data.AVG_lottary_expanses).astype(int)\n",
    "med = data['AVG_lottary_expanses'].median()\n",
    "data['AVG_lottary_expanses'] = data['AVG_lottary_expanses'].fillna(value = med)\n",
    "print('Null values after imputation: '+str(data['AVG_lottary_expanses'].isnull().sum()))"
   ]
  },
  {
   "cell_type": "markdown",
   "metadata": {},
   "source": [
    "The data is distributed with a left bias, so I may want to use the median here. Also, it seems that there are negative outliars."
   ]
  },
  {
   "cell_type": "code",
   "execution_count": 44,
   "metadata": {},
   "outputs": [
    {
     "name": "stdout",
     "output_type": "stream",
     "text": [
      "Null values: 0\n",
      "Null values after imputation: 0\n"
     ]
    },
    {
     "data": {
      "image/png": "[encoded data removed]",
      "text/plain": [
       "<matplotlib.figure.Figure at 0x109941190>"
      ]
     },
     "metadata": {},
     "output_type": "display_data"
    }
   ],
   "source": [
    "print('Null values: '+str(data['Overall_happiness_score'].isnull().sum()))\n",
    "data['Overall_happiness_score'].hist(bins=50)\n",
    "data['Overall_happiness_score'].describe()\n",
    "data['Overall_happiness_score_isNull'] = pd.isnull(data['Overall_happiness_score']).astype(int)\n",
    "data['Overall_happiness_score'] = data['Overall_happiness_score'].interpolate()\n",
    "print('Null values after imputation: '+str(data['Overall_happiness_score'].isnull().sum()))"
   ]
  },
  {
   "cell_type": "markdown",
   "metadata": {},
   "source": [
    "    The data is distributed close enough to normal, so I may want to use mean."
   ]
  },
  {
   "cell_type": "code",
   "execution_count": 47,
   "metadata": {},
   "outputs": [
    {
     "name": "stdout",
     "output_type": "stream",
     "text": [
      "Null values: 0\n",
      "Null values after imputation: 0\n"
     ]
    },
    {
     "data": {
      "image/png": "[encoded data removed]",
      "text/plain": [
       "<matplotlib.figure.Figure at 0x1a135b6c10>"
      ]
     },
     "metadata": {},
     "output_type": "display_data"
    }
   ],
   "source": [
    "print('Null values: '+str(data['Phone_minutes_10_years'].isnull().sum()))\n",
    "data['Phone_minutes_10_years'].hist(bins=50)\n",
    "data['Phone_minutes_10_years'].describe()\n",
    "data['Phone_minutes_10_years_isNull'] = pd.isnull(data['Phone_minutes_10_years']).astype(int)\n",
    "data['Phone_minutes_10_years'] = data['Phone_minutes_10_years'].interpolate()\n",
    "print('Null values after imputation: '+str(data['Phone_minutes_10_years'].isnull().sum()))"
   ]
  },
  {
   "cell_type": "markdown",
   "metadata": {},
   "source": [
    "The data is distributed with a left bias, so I may want to use the median here."
   ]
  },
  {
   "cell_type": "code",
   "execution_count": 49,
   "metadata": {},
   "outputs": [
    {
     "name": "stdout",
     "output_type": "stream",
     "text": [
      "Null values: 0\n",
      "Null values after imputation: 0\n"
     ]
    },
    {
     "data": {
      "image/png": "[encoded data removed]",
      "text/plain": [
       "<matplotlib.figure.Figure at 0x1a1347ec50>"
      ]
     },
     "metadata": {},
     "output_type": "display_data"
    }
   ],
   "source": [
    "print('Null values: '+str(data['Avg_Residancy_Altitude'].isnull().sum()))\n",
    "data['Avg_Residancy_Altitude'].hist()\n",
    "data['Avg_Residancy_Altitude'].describe()\n",
    "data['Avg_Residancy_Altitude_isNull'] = pd.isnull(data['Avg_Residancy_Altitude']).astype(int)\n",
    "data['Avg_Residancy_Altitude'] = data['Avg_Residancy_Altitude'].interpolate()\n",
    "print('Null values after imputation: '+str(data['Avg_Residancy_Altitude'].isnull().sum()))"
   ]
  },
  {
   "cell_type": "markdown",
   "metadata": {},
   "source": [
    "The data is distributed pretty much uniformly, so I may want to use EM."
   ]
  },
  {
   "cell_type": "code",
   "execution_count": 52,
   "metadata": {},
   "outputs": [
    {
     "name": "stdout",
     "output_type": "stream",
     "text": [
      "Null values: 0\n",
      "Null values after imputation: 0\n"
     ]
    },
    {
     "data": {
      "image/png": "[encoded data removed]",
      "text/plain": [
       "<matplotlib.figure.Figure at 0x1095efd10>"
      ]
     },
     "metadata": {},
     "output_type": "display_data"
    }
   ],
   "source": [
    "print('Null values: '+str(data['Avg_monthly_income_all_years'].isnull().sum()))\n",
    "data['Avg_monthly_income_all_years'].hist(bins=20)\n",
    "data['Avg_monthly_income_all_years'].describe()\n",
    "data['Avg_monthly_income_all_years_isNull'] = pd.isnull(data.Avg_monthly_income_all_years).astype(int)\n",
    "med = data['Avg_monthly_income_all_years'].median()\n",
    "data['Avg_monthly_income_all_years'] = data['Avg_monthly_income_all_years'].fillna(value = med)\n",
    "print('Null values after imputation: '+str(data['Avg_monthly_income_all_years'].isnull().sum()))"
   ]
  },
  {
   "cell_type": "markdown",
   "metadata": {},
   "source": [
    "The data is distributed with a left bias, so I may want to use the median here."
   ]
  },
  {
   "cell_type": "code",
   "execution_count": 55,
   "metadata": {},
   "outputs": [
    {
     "name": "stdout",
     "output_type": "stream",
     "text": [
      "Null values: 0\n",
      "Null values after imputation: 0\n"
     ]
    },
    {
     "data": {
      "image/png": "[encoded data removed]",
      "text/plain": [
       "<matplotlib.figure.Figure at 0x1a136af610>"
      ]
     },
     "metadata": {},
     "output_type": "display_data"
    }
   ],
   "source": [
    "print('Null values: '+str(data['Avg_Satisfaction_with_previous_vote'].isnull().sum()))\n",
    "data['Avg_Satisfaction_with_previous_vote'].hist(bins=40)\n",
    "data['Avg_Satisfaction_with_previous_vote'].describe()\n",
    "data['Avg_Satisfaction_with_previous_vote_isNull'] = pd.isnull(data.Avg_Satisfaction_with_previous_vote).astype(int)\n",
    "med = data['Avg_Satisfaction_with_previous_vote'].median()\n",
    "data['Avg_Satisfaction_with_previous_vote'] = data['Avg_Satisfaction_with_previous_vote'].fillna(value = med)\n",
    "print('Null values after imputation: '+str(data['Avg_Satisfaction_with_previous_vote'].isnull().sum()))"
   ]
  },
  {
   "cell_type": "markdown",
   "metadata": {},
   "source": [
    "The data is distributed with a left bias, so I may want to use the median here."
   ]
  },
  {
   "cell_type": "code",
   "execution_count": 59,
   "metadata": {},
   "outputs": [
    {
     "name": "stdout",
     "output_type": "stream",
     "text": [
      "Null values: 0\n",
      "Null values after imputation: 0\n"
     ]
    },
    {
     "data": {
      "image/png": "[encoded data removed]",
      "text/plain": [
       "<matplotlib.figure.Figure at 0x1a1338b610>"
      ]
     },
     "metadata": {},
     "output_type": "display_data"
    }
   ],
   "source": [
    "print('Null values: '+str(data['Last_school_grades'].isnull().sum()))\n",
    "data['Last_school_grades'].hist(bins=50)\n",
    "data['Last_school_grades'].describe()\n",
    "data['Last_school_grades_isNull'] = pd.isnull(data.Last_school_grades).astype(int)\n",
    "med = data['Last_school_grades'].median()\n",
    "data['Last_school_grades'] = data['Last_school_grades'].fillna(value = med)\n",
    "print('Null values after imputation: '+str(data['Last_school_grades'].isnull().sum()))"
   ]
  },
  {
   "cell_type": "code",
   "execution_count": 62,
   "metadata": {},
   "outputs": [
    {
     "name": "stdout",
     "output_type": "stream",
     "text": [
      "Null values: 0\n",
      "Null values after imputation: 0\n"
     ]
    },
    {
     "data": {
      "image/png": "[encoded data removed]",
      "text/plain": [
       "<matplotlib.figure.Figure at 0x1a13464790>"
      ]
     },
     "metadata": {},
     "output_type": "display_data"
    }
   ],
   "source": [
    "print('Null values: '+str(data['Number_of_differnt_parties_voted_for'].isnull().sum()))\n",
    "data['Number_of_differnt_parties_voted_for'].hist(bins=50)\n",
    "data['Number_of_differnt_parties_voted_for'].describe()\n",
    "data['Number_of_differnt_parties_voted_for_isNull'] = pd.isnull(data.Number_of_differnt_parties_voted_for).astype(int)\n",
    "med = data['Number_of_differnt_parties_voted_for'].median()\n",
    "data['Number_of_differnt_parties_voted_for'] = data['Number_of_differnt_parties_voted_for'].fillna(value = med)\n",
    "print('Null values after imputation: '+str(data['Number_of_differnt_parties_voted_for'].isnull().sum()))"
   ]
  },
  {
   "cell_type": "code",
   "execution_count": 135,
   "metadata": {},
   "outputs": [
    {
     "name": "stdout",
     "output_type": "stream",
     "text": [
      "Null values: 0\n"
     ]
    },
    {
     "data": {
      "text/plain": [
       "array([0, 2, 3, 4, 1, 5])"
      ]
     },
     "execution_count": 135,
     "metadata": {},
     "output_type": "execute_result"
    },
    {
     "data": {
      "image/png": "[encoded data removed]",
      "text/plain": [
       "<matplotlib.figure.Figure at 0x117c4bb50>"
      ]
     },
     "metadata": {},
     "output_type": "display_data"
    }
   ],
   "source": [
    "print('Null values: '+str(data['Occupation_int'].isnull().sum()))\n",
    "data['Occupation_int'].replace(to_replace=-9223372036854775808, value=5, inplace=True)\n",
    "data['Occupation_int'].hist()\n",
    "data['Occupation_int'].unique()"
   ]
  },
  {
   "cell_type": "code",
   "execution_count": 134,
   "metadata": {},
   "outputs": [
    {
     "name": "stdout",
     "output_type": "stream",
     "text": [
      "Null values: 0\n"
     ]
    },
    {
     "data": {
      "text/plain": [
       "array([3, 2, 1, 0, 4])"
      ]
     },
     "execution_count": 134,
     "metadata": {},
     "output_type": "execute_result"
    },
    {
     "data": {
      "image/png": "[encoded data removed]",
      "text/plain": [
       "<matplotlib.figure.Figure at 0x11762ba90>"
      ]
     },
     "metadata": {},
     "output_type": "display_data"
    }
   ],
   "source": [
    "print('Null values: '+str(data['Main_transportation_int'].isnull().sum()))\n",
    "data['Main_transportation_int'].replace(to_replace=-9223372036854775808, value=4, inplace=True)\n",
    "data['Main_transportation_int'].hist()\n",
    "data['Main_transportation_int'].unique()"
   ]
  },
  {
   "cell_type": "code",
   "execution_count": 80,
   "metadata": {},
   "outputs": [
    {
     "data": {
      "text/plain": [
       "array([ 0,  1, -1])"
      ]
     },
     "execution_count": 80,
     "metadata": {},
     "output_type": "execute_result"
    },
    {
     "data": {
      "image/png": "[encoded data removed]",
      "text/plain": [
       "<matplotlib.figure.Figure at 0x117509810>"
      ]
     },
     "metadata": {},
     "output_type": "display_data"
    }
   ],
   "source": [
    "print('Null values: '+str(data['Looking_at_poles_results_int'].isnull().sum()))\n",
    "data['Looking_at_poles_results_int'].hist()\n",
    "data['Looking_at_poles_results_int'].unique()"
   ]
  },
  {
   "cell_type": "code",
   "execution_count": 81,
   "metadata": {},
   "outputs": [
    {
     "data": {
      "text/plain": [
       "array([ 1,  0, -1])"
      ]
     },
     "execution_count": 81,
     "metadata": {},
     "output_type": "execute_result"
    },
    {
     "data": {
      "image/png": "[encoded data removed]",
      "text/plain": [
       "<matplotlib.figure.Figure at 0x11766dc90>"
      ]
     },
     "metadata": {},
     "output_type": "display_data"
    }
   ],
   "source": [
    "print('Null values: '+str(data['Married_int'].isnull().sum()))\n",
    "data['Married_int'].hist()\n",
    "data['Married_int'].unique()"
   ]
  },
  {
   "cell_type": "code",
   "execution_count": 82,
   "metadata": {},
   "outputs": [
    {
     "data": {
      "text/plain": [
       "array([ 0,  1, -1])"
      ]
     },
     "execution_count": 82,
     "metadata": {},
     "output_type": "execute_result"
    },
    {
     "data": {
      "image/png": "[encoded data removed]",
      "text/plain": [
       "<matplotlib.figure.Figure at 0x117494f90>"
      ]
     },
     "metadata": {},
     "output_type": "display_data"
    }
   ],
   "source": [
    "print('Null values: '+str(data['Gender_int'].isnull().sum()))\n",
    "data['Gender_int'].hist()\n",
    "data['Gender_int'].unique()"
   ]
  },
  {
   "cell_type": "code",
   "execution_count": 83,
   "metadata": {},
   "outputs": [
    {
     "data": {
      "text/plain": [
       "array([ 1,  0, -1])"
      ]
     },
     "execution_count": 83,
     "metadata": {},
     "output_type": "execute_result"
    },
    {
     "data": {
      "image/png": "[encoded data removed]",
      "text/plain": [
       "<matplotlib.figure.Figure at 0x117984490>"
      ]
     },
     "metadata": {},
     "output_type": "display_data"
    }
   ],
   "source": [
    "print('Null values: '+str(data['Voting_Time_int'].isnull().sum()))\n",
    "data['Voting_Time_int'].hist()\n",
    "data['Voting_Time_int'].unique()"
   ]
  },
  {
   "cell_type": "code",
   "execution_count": 84,
   "metadata": {},
   "outputs": [
    {
     "data": {
      "text/plain": [
       "array([ 0,  1, -1])"
      ]
     },
     "execution_count": 84,
     "metadata": {},
     "output_type": "execute_result"
    },
    {
     "data": {
      "image/png": "[encoded data removed]",
      "text/plain": [
       "<matplotlib.figure.Figure at 0x11798ead0>"
      ]
     },
     "metadata": {},
     "output_type": "display_data"
    }
   ],
   "source": [
    "print('Null values: '+str(data['Financial_agenda_matters_int'].isnull().sum()))\n",
    "data['Financial_agenda_matters_int'].hist()\n",
    "data['Financial_agenda_matters_int'].unique()"
   ]
  },
  {
   "cell_type": "code",
   "execution_count": 133,
   "metadata": {},
   "outputs": [
    {
     "name": "stdout",
     "output_type": "stream",
     "text": [
      "Null values: 0\n"
     ]
    },
    {
     "data": {
      "text/plain": [
       "array([4, 1, 7, 5, 2, 0, 6, 3, 8])"
      ]
     },
     "execution_count": 133,
     "metadata": {},
     "output_type": "execute_result"
    },
    {
     "data": {
      "image/png": "[encoded data removed]",
      "text/plain": [
       "<matplotlib.figure.Figure at 0x10ea5e790>"
      ]
     },
     "metadata": {},
     "output_type": "display_data"
    }
   ],
   "source": [
    "print('Null values: '+str(data['Most_Important_Issue_int'].isnull().sum()))\n",
    "data['Most_Important_Issue_int'].replace(to_replace=-9223372036854775808, value=8, inplace=True)\n",
    "data['Most_Important_Issue_int'].hist()\n",
    "data['Most_Important_Issue_int'].unique()"
   ]
  },
  {
   "cell_type": "code",
   "execution_count": 132,
   "metadata": {},
   "outputs": [
    {
     "name": "stdout",
     "output_type": "stream",
     "text": [
      "Null values: 0\n"
     ]
    },
    {
     "data": {
      "text/plain": [
       "array([1, 0, 2, 3])"
      ]
     },
     "execution_count": 132,
     "metadata": {},
     "output_type": "execute_result"
    },
    {
     "data": {
      "image/png": "[encoded data removed]",
      "text/plain": [
       "<matplotlib.figure.Figure at 0x117eee510>"
      ]
     },
     "metadata": {},
     "output_type": "display_data"
    }
   ],
   "source": [
    "print('Null values: '+str(data['Age_group_int'].isnull().sum()))\n",
    "data['Age_group_int'].replace(to_replace=-9223372036854775808, value=3, inplace=True)\n",
    "data['Age_group_int'].hist()\n",
    "data['Age_group_int'].unique()"
   ]
  },
  {
   "cell_type": "code",
   "execution_count": 176,
   "metadata": {},
   "outputs": [
    {
     "name": "stdout",
     "output_type": "stream",
     "text": [
      "Null values: 0\n"
     ]
    },
    {
     "data": {
      "text/plain": [
       "array([1, 2, 0, 3])"
      ]
     },
     "execution_count": 176,
     "metadata": {},
     "output_type": "execute_result"
    },
    {
     "data": {
      "image/png": "[encoded data removed]",
      "text/plain": [
       "<matplotlib.figure.Figure at 0x116a64dd0>"
      ]
     },
     "metadata": {},
     "output_type": "display_data"
    }
   ],
   "source": [
    "print('Null values: '+str(data['Will_vote_only_large_party_int'].isnull().sum()))\n",
    "data['Will_vote_only_large_party_int'].replace(to_replace=-9223372036854775808, value=3, inplace=True)\n",
    "data['Will_vote_only_large_party_int'].hist()\n",
    "data['Will_vote_only_large_party_int'].unique()"
   ]
  },
  {
   "cell_type": "code",
   "execution_count": null,
   "metadata": {
    "collapsed": true
   },
   "outputs": [],
   "source": []
  },
  {
   "cell_type": "code",
   "execution_count": null,
   "metadata": {
    "collapsed": true
   },
   "outputs": [],
   "source": []
  },
  {
   "cell_type": "code",
   "execution_count": 156,
   "metadata": {},
   "outputs": [
    {
     "data": {
      "text/plain": [
       "Avg_environmental_importance                     217\n",
       "Yearly_ExpensesK                                 210\n",
       "Garden_sqr_meter_per_person_in_residancy_area    206\n",
       "Num_of_kids_born_last_10_years                   205\n",
       "%Time_invested_in_work                           205\n",
       "Weighted_education_rank                          203\n",
       "Avg_monthly_expense_on_pets_or_plants            198\n",
       "%_satisfaction_financial_policy                  198\n",
       "Political_interest_Total_Score                   195\n",
       "Avg_size_per_room                                194\n",
       "Avg_government_satisfaction                      194\n",
       "Occupation_Satisfaction                          191\n",
       "Avg_monthly_expense_when_under_age_21            191\n",
       "Financial_balance_score_(0-1)                    190\n",
       "Avg_monthly_household_cost                       188\n",
       "Yearly_IncomeK                                   188\n",
       "%Of_Household_Income                             187\n",
       "Number_of_valued_Kneset_members                  184\n",
       "AVG_lottary_expanses                             182\n",
       "Overall_happiness_score                          178\n",
       "Phone_minutes_10_years                           178\n",
       "Avg_Residancy_Altitude                           177\n",
       "Avg_education_importance                         177\n",
       "Avg_monthly_income_all_years                     176\n",
       "Avg_Satisfaction_with_previous_vote              171\n",
       "Last_school_grades                               165\n",
       "Number_of_differnt_parties_voted_for             165\n",
       "Occupation_int                                     0\n",
       "Main_transportation_int                            0\n",
       "Looking_at_poles_results_int                       0\n",
       "Married_int                                        0\n",
       "Gender_int                                         0\n",
       "Voting_Time_int                                    0\n",
       "Financial_agenda_matters_int                       0\n",
       "Most_Important_Issue_int                           0\n",
       "Age_group_int                                      0\n",
       "Will_vote_only_large_party_int                     0\n",
       "Vote                                               0\n",
       "dtype: int64"
      ]
     },
     "execution_count": 156,
     "metadata": {},
     "output_type": "execute_result"
    }
   ],
   "source": [
    "data.isnull().sum().sort_values(ascending=False)"
   ]
  },
  {
   "cell_type": "code",
   "execution_count": null,
   "metadata": {
    "collapsed": true
   },
   "outputs": [],
   "source": []
  },
  {
   "cell_type": "markdown",
   "metadata": {},
   "source": [
    "Data Cleansing:"
   ]
  },
  {
   "cell_type": "markdown",
   "metadata": {},
   "source": [
    "Normalization:"
   ]
  },
  {
   "cell_type": "markdown",
   "metadata": {},
   "source": [
    "Feature Selection:"
   ]
  },
  {
   "cell_type": "markdown",
   "metadata": {},
   "source": [
    "## Split data to train, test and validation:"
   ]
  },
  {
   "cell_type": "code",
   "execution_count": 52,
   "metadata": {
    "collapsed": true
   },
   "outputs": [],
   "source": [
    "train, validate, test = np.split(data.sample(frac=1), [int(.6*len(data)), int(.8*len(data))])"
   ]
  },
  {
   "cell_type": "markdown",
   "metadata": {},
   "source": [
    "## Save to csv:"
   ]
  },
  {
   "cell_type": "code",
   "execution_count": 54,
   "metadata": {
    "collapsed": true
   },
   "outputs": [],
   "source": [
    "train.to_csv(\"train.csv\", index=False)\n",
    "test.to_csv(\"test.csv\", index=False)\n",
    "validate.to_csv(\"validate.csv\", index=False)"
   ]
  },
  {
   "cell_type": "code",
   "execution_count": null,
   "metadata": {
    "collapsed": true
   },
   "outputs": [],
   "source": []
  }
 ],
 "metadata": {
  "kernelspec": {
   "display_name": "Python 2",
   "language": "python",
   "name": "python2"
  }
 },
 "nbformat": 4,
 "nbformat_minor": 2
}
