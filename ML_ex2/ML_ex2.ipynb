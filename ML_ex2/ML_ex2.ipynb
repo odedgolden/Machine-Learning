{
 "cells": [
  {
   "cell_type": "code",
   "execution_count": 25,
   "metadata": {
    "collapsed": true
   },
   "outputs": [],
   "source": [
    "import matplotlib.pyplot as plt\n",
    "%matplotlib inline\n",
    "import numpy as np\n",
    "import pandas as pd"
   ]
  },
  {
   "cell_type": "markdown",
   "metadata": {},
   "source": [
    "## Load data:"
   ]
  },
  {
   "cell_type": "code",
   "execution_count": 26,
   "metadata": {
    "collapsed": true
   },
   "outputs": [],
   "source": [
    "data = pd.read_csv(\"ElectionsData.csv\", header=0)"
   ]
  },
  {
   "cell_type": "markdown",
   "metadata": {},
   "source": [
    "## Identify and set the correct type:"
   ]
  },
  {
   "cell_type": "code",
   "execution_count": 27,
   "metadata": {},
   "outputs": [
    {
     "data": {
      "text/plain": [
       "Vote                                              object\n",
       "Occupation_Satisfaction                          float64\n",
       "Avg_monthly_expense_when_under_age_21            float64\n",
       "AVG_lottary_expanses                             float64\n",
       "Most_Important_Issue                              object\n",
       "Avg_Satisfaction_with_previous_vote              float64\n",
       "Looking_at_poles_results                          object\n",
       "Garden_sqr_meter_per_person_in_residancy_area    float64\n",
       "Married                                           object\n",
       "Gender                                            object\n",
       "Voting_Time                                       object\n",
       "Financial_balance_score_(0-1)                    float64\n",
       "%Of_Household_Income                             float64\n",
       "Avg_government_satisfaction                      float64\n",
       "Avg_education_importance                         float64\n",
       "Avg_environmental_importance                     float64\n",
       "Avg_Residancy_Altitude                           float64\n",
       "Yearly_ExpensesK                                 float64\n",
       "%Time_invested_in_work                           float64\n",
       "Yearly_IncomeK                                   float64\n",
       "Avg_monthly_expense_on_pets_or_plants            float64\n",
       "Avg_monthly_household_cost                       float64\n",
       "Will_vote_only_large_party                        object\n",
       "Phone_minutes_10_years                           float64\n",
       "Avg_size_per_room                                float64\n",
       "Weighted_education_rank                          float64\n",
       "%_satisfaction_financial_policy                  float64\n",
       "Avg_monthly_income_all_years                     float64\n",
       "Last_school_grades                               float64\n",
       "Age_group                                         object\n",
       "Number_of_differnt_parties_voted_for             float64\n",
       "Political_interest_Total_Score                   float64\n",
       "Number_of_valued_Kneset_members                  float64\n",
       "Main_transportation                               object\n",
       "Occupation                                        object\n",
       "Overall_happiness_score                          float64\n",
       "Num_of_kids_born_last_10_years                   float64\n",
       "Financial_agenda_matters                          object\n",
       "dtype: object"
      ]
     },
     "execution_count": 27,
     "metadata": {},
     "output_type": "execute_result"
    }
   ],
   "source": [
    "data.dtypes"
   ]
  },
  {
   "cell_type": "code",
   "execution_count": 28,
   "metadata": {},
   "outputs": [
    {
     "name": "stdout",
     "output_type": "stream",
     "text": [
      "Vote: ['Purples' 'Greens' 'Browns' 'Pinks' 'Blues' 'Oranges' 'Yellows' 'Whites'\n",
      " 'Reds' 'Greys']\n",
      "Most_Important_Issue: ['Healthcare' 'Environment' 'Social' 'Military' 'Financial' 'Education'\n",
      " 'Other' 'Foreign_Affairs' nan]\n",
      "Looking_at_poles_results: ['No' 'Yes' nan]\n",
      "Married: ['Yes' 'No' nan]\n",
      "Gender: ['Male' 'Female' nan]\n",
      "Voting_Time: ['After_16:00' 'By_16:00' nan]\n",
      "Will_vote_only_large_party: ['No' 'Yes' 'Maybe' nan]\n",
      "Age_group: ['45_and_up' '30-45' 'Below_30' nan]\n",
      "Main_transportation: ['Public_or_other' 'Motorcycle_or_truck' 'Foot_or_bicycle' 'Car' nan]\n",
      "Occupation: ['Hightech' 'Public_Sector' 'Services_or_Retail' 'Student_or_Unemployed'\n",
      " 'Industry_or_other' nan]\n",
      "Financial_agenda_matters: ['No' 'Yes' nan]\n"
     ]
    }
   ],
   "source": [
    "non_float_data = data.select_dtypes(exclude=['floating'])\n",
    "non_float_data.describe()\n",
    "for column in non_float_data:\n",
    "    print(str(column)+\": \"+str(data[column].unique()))"
   ]
  },
  {
   "cell_type": "code",
   "execution_count": 31,
   "metadata": {},
   "outputs": [
    {
     "data": {
      "text/html": [
       "<div>\n",
       "<style>\n",
       "    .dataframe thead tr:only-child th {\n",
       "        text-align: right;\n",
       "    }\n",
       "\n",
       "    .dataframe thead th {\n",
       "        text-align: left;\n",
       "    }\n",
       "\n",
       "    .dataframe tbody tr th {\n",
       "        vertical-align: top;\n",
       "    }\n",
       "</style>\n",
       "<table border=\"1\" class=\"dataframe\">\n",
       "  <thead>\n",
       "    <tr style=\"text-align: right;\">\n",
       "      <th>Looking_at_poles_results</th>\n",
       "      <th>No</th>\n",
       "      <th>Yes</th>\n",
       "    </tr>\n",
       "    <tr>\n",
       "      <th>Looking_at_poles_results_int</th>\n",
       "      <th></th>\n",
       "      <th></th>\n",
       "    </tr>\n",
       "  </thead>\n",
       "  <tbody>\n",
       "    <tr>\n",
       "      <th>0</th>\n",
       "      <td>8480</td>\n",
       "      <td>0</td>\n",
       "    </tr>\n",
       "    <tr>\n",
       "      <th>1</th>\n",
       "      <td>0</td>\n",
       "      <td>1429</td>\n",
       "    </tr>\n",
       "  </tbody>\n",
       "</table>\n",
       "</div>"
      ],
      "text/plain": [
       "Looking_at_poles_results        No   Yes\n",
       "Looking_at_poles_results_int            \n",
       "0                             8480     0\n",
       "1                                0  1429"
      ]
     },
     "execution_count": 31,
     "metadata": {},
     "output_type": "execute_result"
    }
   ],
   "source": [
    "data['Looking_at_poles_results_int'] = data['Looking_at_poles_results'].map( {'No':0, 'Yes':1, np.nan:-1}).astype(int)\n",
    "pd.crosstab(data.Looking_at_poles_results_int, data.Looking_at_poles_results, rownames=['Looking_at_poles_results_int'], colnames=['Looking_at_poles_results'])"
   ]
  },
  {
   "cell_type": "code",
   "execution_count": 32,
   "metadata": {},
   "outputs": [
    {
     "data": {
      "text/html": [
       "<div>\n",
       "<style>\n",
       "    .dataframe thead tr:only-child th {\n",
       "        text-align: right;\n",
       "    }\n",
       "\n",
       "    .dataframe thead th {\n",
       "        text-align: left;\n",
       "    }\n",
       "\n",
       "    .dataframe tbody tr th {\n",
       "        vertical-align: top;\n",
       "    }\n",
       "</style>\n",
       "<table border=\"1\" class=\"dataframe\">\n",
       "  <thead>\n",
       "    <tr style=\"text-align: right;\">\n",
       "      <th>Married</th>\n",
       "      <th>No</th>\n",
       "      <th>Yes</th>\n",
       "    </tr>\n",
       "    <tr>\n",
       "      <th>Married_int</th>\n",
       "      <th></th>\n",
       "      <th></th>\n",
       "    </tr>\n",
       "  </thead>\n",
       "  <tbody>\n",
       "    <tr>\n",
       "      <th>0</th>\n",
       "      <td>1892</td>\n",
       "      <td>0</td>\n",
       "    </tr>\n",
       "    <tr>\n",
       "      <th>1</th>\n",
       "      <td>0</td>\n",
       "      <td>8037</td>\n",
       "    </tr>\n",
       "  </tbody>\n",
       "</table>\n",
       "</div>"
      ],
      "text/plain": [
       "Married        No   Yes\n",
       "Married_int            \n",
       "0            1892     0\n",
       "1               0  8037"
      ]
     },
     "execution_count": 32,
     "metadata": {},
     "output_type": "execute_result"
    }
   ],
   "source": [
    "data['Married_int'] = data['Married'].map( {'No':0, 'Yes':1, np.nan:-1}).astype(int)\n",
    "pd.crosstab(data.Married_int, data.Married, rownames=['Married_int'], colnames=['Married'])"
   ]
  },
  {
   "cell_type": "code",
   "execution_count": 33,
   "metadata": {},
   "outputs": [
    {
     "data": {
      "text/html": [
       "<div>\n",
       "<style>\n",
       "    .dataframe thead tr:only-child th {\n",
       "        text-align: right;\n",
       "    }\n",
       "\n",
       "    .dataframe thead th {\n",
       "        text-align: left;\n",
       "    }\n",
       "\n",
       "    .dataframe tbody tr th {\n",
       "        vertical-align: top;\n",
       "    }\n",
       "</style>\n",
       "<table border=\"1\" class=\"dataframe\">\n",
       "  <thead>\n",
       "    <tr style=\"text-align: right;\">\n",
       "      <th>Gender</th>\n",
       "      <th>Female</th>\n",
       "      <th>Male</th>\n",
       "    </tr>\n",
       "    <tr>\n",
       "      <th>Gender_int</th>\n",
       "      <th></th>\n",
       "      <th></th>\n",
       "    </tr>\n",
       "  </thead>\n",
       "  <tbody>\n",
       "    <tr>\n",
       "      <th>0</th>\n",
       "      <td>0</td>\n",
       "      <td>4912</td>\n",
       "    </tr>\n",
       "    <tr>\n",
       "      <th>1</th>\n",
       "      <td>5016</td>\n",
       "      <td>0</td>\n",
       "    </tr>\n",
       "  </tbody>\n",
       "</table>\n",
       "</div>"
      ],
      "text/plain": [
       "Gender      Female  Male\n",
       "Gender_int              \n",
       "0                0  4912\n",
       "1             5016     0"
      ]
     },
     "execution_count": 33,
     "metadata": {},
     "output_type": "execute_result"
    }
   ],
   "source": [
    "data['Gender_int'] = data['Gender'].map( {'Male':0, 'Female':1, np.nan:-1}).astype(int)\n",
    "pd.crosstab(data.Gender_int, data.Gender, rownames=['Gender_int'], colnames=['Gender'])"
   ]
  },
  {
   "cell_type": "code",
   "execution_count": 34,
   "metadata": {},
   "outputs": [
    {
     "data": {
      "text/html": [
       "<div>\n",
       "<style>\n",
       "    .dataframe thead tr:only-child th {\n",
       "        text-align: right;\n",
       "    }\n",
       "\n",
       "    .dataframe thead th {\n",
       "        text-align: left;\n",
       "    }\n",
       "\n",
       "    .dataframe tbody tr th {\n",
       "        vertical-align: top;\n",
       "    }\n",
       "</style>\n",
       "<table border=\"1\" class=\"dataframe\">\n",
       "  <thead>\n",
       "    <tr style=\"text-align: right;\">\n",
       "      <th>Voting_Time</th>\n",
       "      <th>After_16:00</th>\n",
       "      <th>By_16:00</th>\n",
       "    </tr>\n",
       "    <tr>\n",
       "      <th>Voting_Time_int</th>\n",
       "      <th></th>\n",
       "      <th></th>\n",
       "    </tr>\n",
       "  </thead>\n",
       "  <tbody>\n",
       "    <tr>\n",
       "      <th>0</th>\n",
       "      <td>0</td>\n",
       "      <td>4859</td>\n",
       "    </tr>\n",
       "    <tr>\n",
       "      <th>1</th>\n",
       "      <td>5044</td>\n",
       "      <td>0</td>\n",
       "    </tr>\n",
       "  </tbody>\n",
       "</table>\n",
       "</div>"
      ],
      "text/plain": [
       "Voting_Time      After_16:00  By_16:00\n",
       "Voting_Time_int                       \n",
       "0                          0      4859\n",
       "1                       5044         0"
      ]
     },
     "execution_count": 34,
     "metadata": {},
     "output_type": "execute_result"
    }
   ],
   "source": [
    "data['Voting_Time_int'] = data['Voting_Time'].map( {'By_16:00':0, 'After_16:00':1, np.nan:-1}).astype(int)\n",
    "pd.crosstab(data.Voting_Time_int, data.Voting_Time, rownames=['Voting_Time_int'], colnames=['Voting_Time'])"
   ]
  },
  {
   "cell_type": "code",
   "execution_count": 35,
   "metadata": {},
   "outputs": [
    {
     "data": {
      "text/html": [
       "<div>\n",
       "<style>\n",
       "    .dataframe thead tr:only-child th {\n",
       "        text-align: right;\n",
       "    }\n",
       "\n",
       "    .dataframe thead th {\n",
       "        text-align: left;\n",
       "    }\n",
       "\n",
       "    .dataframe tbody tr th {\n",
       "        vertical-align: top;\n",
       "    }\n",
       "</style>\n",
       "<table border=\"1\" class=\"dataframe\">\n",
       "  <thead>\n",
       "    <tr style=\"text-align: right;\">\n",
       "      <th>Financial_agenda_matters</th>\n",
       "      <th>No</th>\n",
       "      <th>Yes</th>\n",
       "    </tr>\n",
       "    <tr>\n",
       "      <th>Financial_agenda_matters_int</th>\n",
       "      <th></th>\n",
       "      <th></th>\n",
       "    </tr>\n",
       "  </thead>\n",
       "  <tbody>\n",
       "    <tr>\n",
       "      <th>0</th>\n",
       "      <td>4892</td>\n",
       "      <td>0</td>\n",
       "    </tr>\n",
       "    <tr>\n",
       "      <th>1</th>\n",
       "      <td>0</td>\n",
       "      <td>5015</td>\n",
       "    </tr>\n",
       "  </tbody>\n",
       "</table>\n",
       "</div>"
      ],
      "text/plain": [
       "Financial_agenda_matters        No   Yes\n",
       "Financial_agenda_matters_int            \n",
       "0                             4892     0\n",
       "1                                0  5015"
      ]
     },
     "execution_count": 35,
     "metadata": {},
     "output_type": "execute_result"
    }
   ],
   "source": [
    "data['Financial_agenda_matters_int'] = data['Financial_agenda_matters'].map( {'No':0, 'Yes':1, np.nan:-1}).astype(int)\n",
    "pd.crosstab(data.Financial_agenda_matters_int, data.Financial_agenda_matters, rownames=['Financial_agenda_matters_int'], colnames=['Financial_agenda_matters'])"
   ]
  },
  {
   "cell_type": "code",
   "execution_count": 36,
   "metadata": {
    "collapsed": true
   },
   "outputs": [],
   "source": [
    "data['Most_Important_Issue_cat'] = data['Most_Important_Issue'].astype(\"category\")\n",
    "data['Most_Important_Issue_int'] = data['Most_Important_Issue_cat'].cat.rename_categories(range(data['Most_Important_Issue_cat'].nunique())).astype(int)\n",
    "\n",
    "data['Age_group_cat'] = data['Age_group'].astype(\"category\")\n",
    "data['Age_group_int'] = data['Age_group_cat'].cat.rename_categories(range(data['Age_group_cat'].nunique())).astype(int)\n",
    "\n",
    "data['Will_vote_only_large_party_cat'] = data['Will_vote_only_large_party'].astype(\"category\")\n",
    "data['Will_vote_only_large_party_int'] = data['Will_vote_only_large_party_cat'].cat.rename_categories(range(data['Will_vote_only_large_party_cat'].nunique())).astype(int)\n",
    "\n",
    "data['Main_transportation_cat'] = data['Main_transportation'].astype(\"category\")\n",
    "data['Main_transportation_int'] = data['Main_transportation_cat'].cat.rename_categories(range(data['Main_transportation_cat'].nunique())).astype(int)\n",
    "\n",
    "data['Occupation_cat'] = data['Occupation'].astype(\"category\")\n",
    "data['Occupation_int'] = data['Occupation_cat'].cat.rename_categories(range(data['Occupation_cat'].nunique())).astype(int)\n",
    "\n"
   ]
  },
  {
   "cell_type": "code",
   "execution_count": 37,
   "metadata": {
    "collapsed": true
   },
   "outputs": [],
   "source": [
    "data = data.drop(['Looking_at_poles_results','Married','Gender','Voting_Time','Financial_agenda_matters','Most_Important_Issue','Most_Important_Issue_cat','Age_group','Age_group_cat','Will_vote_only_large_party','Will_vote_only_large_party_cat','Main_transportation','Will_vote_only_large_party_cat','Main_transportation','Main_transportation_cat','Occupation','Occupation_cat'], axis=1) "
   ]
  },
  {
   "cell_type": "code",
   "execution_count": 17,
   "metadata": {},
   "outputs": [
    {
     "data": {
      "text/html": [
       "<div>\n",
       "<style>\n",
       "    .dataframe thead tr:only-child th {\n",
       "        text-align: right;\n",
       "    }\n",
       "\n",
       "    .dataframe thead th {\n",
       "        text-align: left;\n",
       "    }\n",
       "\n",
       "    .dataframe tbody tr th {\n",
       "        vertical-align: top;\n",
       "    }\n",
       "</style>\n",
       "<table border=\"1\" class=\"dataframe\">\n",
       "  <thead>\n",
       "    <tr style=\"text-align: right;\">\n",
       "      <th></th>\n",
       "      <th>Occupation_Satisfaction</th>\n",
       "      <th>Avg_monthly_expense_when_under_age_21</th>\n",
       "      <th>AVG_lottary_expanses</th>\n",
       "      <th>Avg_Satisfaction_with_previous_vote</th>\n",
       "      <th>Garden_sqr_meter_per_person_in_residancy_area</th>\n",
       "      <th>Financial_balance_score_(0-1)</th>\n",
       "      <th>%Of_Household_Income</th>\n",
       "      <th>Avg_government_satisfaction</th>\n",
       "      <th>Avg_education_importance</th>\n",
       "      <th>Avg_environmental_importance</th>\n",
       "      <th>...</th>\n",
       "      <th>Looking_at_poles_results_int</th>\n",
       "      <th>Married_int</th>\n",
       "      <th>Gender_int</th>\n",
       "      <th>Voting_Time_int</th>\n",
       "      <th>Financial_agenda_matters_int</th>\n",
       "      <th>Most_Important_Issue_int</th>\n",
       "      <th>Age_group_int</th>\n",
       "      <th>Will_vote_only_large_party_int</th>\n",
       "      <th>Main_transportation_int</th>\n",
       "      <th>Occupation_int</th>\n",
       "    </tr>\n",
       "  </thead>\n",
       "  <tbody>\n",
       "    <tr>\n",
       "      <th>count</th>\n",
       "      <td>9809.000000</td>\n",
       "      <td>9809.000000</td>\n",
       "      <td>9818.000000</td>\n",
       "      <td>9829.000000</td>\n",
       "      <td>9794.000000</td>\n",
       "      <td>9810.000000</td>\n",
       "      <td>9813.000000</td>\n",
       "      <td>9806.000000</td>\n",
       "      <td>9823.000000</td>\n",
       "      <td>9783.000000</td>\n",
       "      <td>...</td>\n",
       "      <td>10000.000000</td>\n",
       "      <td>10000.000000</td>\n",
       "      <td>10000.000000</td>\n",
       "      <td>10000.000000</td>\n",
       "      <td>10000.000000</td>\n",
       "      <td>1.000000e+04</td>\n",
       "      <td>1.000000e+04</td>\n",
       "      <td>1.000000e+04</td>\n",
       "      <td>1.000000e+04</td>\n",
       "      <td>1.000000e+04</td>\n",
       "    </tr>\n",
       "    <tr>\n",
       "      <th>mean</th>\n",
       "      <td>5.511367</td>\n",
       "      <td>507.643792</td>\n",
       "      <td>67380.919408</td>\n",
       "      <td>169.002686</td>\n",
       "      <td>402.579462</td>\n",
       "      <td>0.500668</td>\n",
       "      <td>0.500361</td>\n",
       "      <td>4.987585</td>\n",
       "      <td>5.007205</td>\n",
       "      <td>5.003874</td>\n",
       "      <td>...</td>\n",
       "      <td>0.133800</td>\n",
       "      <td>0.796600</td>\n",
       "      <td>0.494400</td>\n",
       "      <td>0.494700</td>\n",
       "      <td>0.492200</td>\n",
       "      <td>-8.393269e+16</td>\n",
       "      <td>-7.747633e+16</td>\n",
       "      <td>-5.718491e+16</td>\n",
       "      <td>-7.839866e+16</td>\n",
       "      <td>-9.223372e+16</td>\n",
       "    </tr>\n",
       "    <tr>\n",
       "      <th>std</th>\n",
       "      <td>2.855781</td>\n",
       "      <td>433.518917</td>\n",
       "      <td>69473.844694</td>\n",
       "      <td>144.476593</td>\n",
       "      <td>133.557107</td>\n",
       "      <td>0.288094</td>\n",
       "      <td>0.286215</td>\n",
       "      <td>2.895290</td>\n",
       "      <td>2.885800</td>\n",
       "      <td>2.893176</td>\n",
       "      <td>...</td>\n",
       "      <td>0.366212</td>\n",
       "      <td>0.419817</td>\n",
       "      <td>0.514194</td>\n",
       "      <td>0.519036</td>\n",
       "      <td>0.518234</td>\n",
       "      <td>8.758849e+17</td>\n",
       "      <td>8.418202e+17</td>\n",
       "      <td>7.240304e+17</td>\n",
       "      <td>8.467735e+17</td>\n",
       "      <td>9.177598e+17</td>\n",
       "    </tr>\n",
       "    <tr>\n",
       "      <th>min</th>\n",
       "      <td>1.000000</td>\n",
       "      <td>-855.714730</td>\n",
       "      <td>-166375.186748</td>\n",
       "      <td>-285.238243</td>\n",
       "      <td>1.511957</td>\n",
       "      <td>0.000078</td>\n",
       "      <td>0.000413</td>\n",
       "      <td>0.000001</td>\n",
       "      <td>0.000048</td>\n",
       "      <td>0.000591</td>\n",
       "      <td>...</td>\n",
       "      <td>-1.000000</td>\n",
       "      <td>-1.000000</td>\n",
       "      <td>-1.000000</td>\n",
       "      <td>-1.000000</td>\n",
       "      <td>-1.000000</td>\n",
       "      <td>-9.223372e+18</td>\n",
       "      <td>-9.223372e+18</td>\n",
       "      <td>-9.223372e+18</td>\n",
       "      <td>-9.223372e+18</td>\n",
       "      <td>-9.223372e+18</td>\n",
       "    </tr>\n",
       "    <tr>\n",
       "      <th>25%</th>\n",
       "      <td>3.000000</td>\n",
       "      <td>199.225499</td>\n",
       "      <td>24420.519122</td>\n",
       "      <td>66.121900</td>\n",
       "      <td>307.042438</td>\n",
       "      <td>0.248523</td>\n",
       "      <td>0.255014</td>\n",
       "      <td>2.467898</td>\n",
       "      <td>2.524549</td>\n",
       "      <td>2.497779</td>\n",
       "      <td>...</td>\n",
       "      <td>0.000000</td>\n",
       "      <td>1.000000</td>\n",
       "      <td>0.000000</td>\n",
       "      <td>0.000000</td>\n",
       "      <td>0.000000</td>\n",
       "      <td>1.000000e+00</td>\n",
       "      <td>0.000000e+00</td>\n",
       "      <td>1.000000e+00</td>\n",
       "      <td>0.000000e+00</td>\n",
       "      <td>1.000000e+00</td>\n",
       "    </tr>\n",
       "    <tr>\n",
       "      <th>50%</th>\n",
       "      <td>6.000000</td>\n",
       "      <td>387.469720</td>\n",
       "      <td>48410.029203</td>\n",
       "      <td>128.670084</td>\n",
       "      <td>389.081350</td>\n",
       "      <td>0.500569</td>\n",
       "      <td>0.503486</td>\n",
       "      <td>4.996661</td>\n",
       "      <td>5.039814</td>\n",
       "      <td>4.958118</td>\n",
       "      <td>...</td>\n",
       "      <td>0.000000</td>\n",
       "      <td>1.000000</td>\n",
       "      <td>1.000000</td>\n",
       "      <td>1.000000</td>\n",
       "      <td>1.000000</td>\n",
       "      <td>2.000000e+00</td>\n",
       "      <td>1.000000e+00</td>\n",
       "      <td>1.000000e+00</td>\n",
       "      <td>1.000000e+00</td>\n",
       "      <td>2.000000e+00</td>\n",
       "    </tr>\n",
       "    <tr>\n",
       "      <th>75%</th>\n",
       "      <td>8.000000</td>\n",
       "      <td>708.293034</td>\n",
       "      <td>86099.873686</td>\n",
       "      <td>235.848891</td>\n",
       "      <td>479.527037</td>\n",
       "      <td>0.746059</td>\n",
       "      <td>0.743708</td>\n",
       "      <td>7.492286</td>\n",
       "      <td>7.467005</td>\n",
       "      <td>7.502315</td>\n",
       "      <td>...</td>\n",
       "      <td>0.000000</td>\n",
       "      <td>1.000000</td>\n",
       "      <td>1.000000</td>\n",
       "      <td>1.000000</td>\n",
       "      <td>1.000000</td>\n",
       "      <td>5.000000e+00</td>\n",
       "      <td>2.000000e+00</td>\n",
       "      <td>1.000000e+00</td>\n",
       "      <td>2.000000e+00</td>\n",
       "      <td>3.000000e+00</td>\n",
       "    </tr>\n",
       "    <tr>\n",
       "      <th>max</th>\n",
       "      <td>10.000000</td>\n",
       "      <td>2305.237140</td>\n",
       "      <td>560309.089996</td>\n",
       "      <td>768.412380</td>\n",
       "      <td>855.997552</td>\n",
       "      <td>0.999887</td>\n",
       "      <td>0.999597</td>\n",
       "      <td>9.999719</td>\n",
       "      <td>9.997036</td>\n",
       "      <td>9.999264</td>\n",
       "      <td>...</td>\n",
       "      <td>1.000000</td>\n",
       "      <td>1.000000</td>\n",
       "      <td>1.000000</td>\n",
       "      <td>1.000000</td>\n",
       "      <td>1.000000</td>\n",
       "      <td>7.000000e+00</td>\n",
       "      <td>2.000000e+00</td>\n",
       "      <td>2.000000e+00</td>\n",
       "      <td>3.000000e+00</td>\n",
       "      <td>4.000000e+00</td>\n",
       "    </tr>\n",
       "  </tbody>\n",
       "</table>\n",
       "<p>8 rows × 37 columns</p>\n",
       "</div>"
      ],
      "text/plain": [
       "       Occupation_Satisfaction  Avg_monthly_expense_when_under_age_21  \\\n",
       "count              9809.000000                            9809.000000   \n",
       "mean                  5.511367                             507.643792   \n",
       "std                   2.855781                             433.518917   \n",
       "min                   1.000000                            -855.714730   \n",
       "25%                   3.000000                             199.225499   \n",
       "50%                   6.000000                             387.469720   \n",
       "75%                   8.000000                             708.293034   \n",
       "max                  10.000000                            2305.237140   \n",
       "\n",
       "       AVG_lottary_expanses  Avg_Satisfaction_with_previous_vote  \\\n",
       "count           9818.000000                          9829.000000   \n",
       "mean           67380.919408                           169.002686   \n",
       "std            69473.844694                           144.476593   \n",
       "min          -166375.186748                          -285.238243   \n",
       "25%            24420.519122                            66.121900   \n",
       "50%            48410.029203                           128.670084   \n",
       "75%            86099.873686                           235.848891   \n",
       "max           560309.089996                           768.412380   \n",
       "\n",
       "       Garden_sqr_meter_per_person_in_residancy_area  \\\n",
       "count                                    9794.000000   \n",
       "mean                                      402.579462   \n",
       "std                                       133.557107   \n",
       "min                                         1.511957   \n",
       "25%                                       307.042438   \n",
       "50%                                       389.081350   \n",
       "75%                                       479.527037   \n",
       "max                                       855.997552   \n",
       "\n",
       "       Financial_balance_score_(0-1)  %Of_Household_Income  \\\n",
       "count                    9810.000000           9813.000000   \n",
       "mean                        0.500668              0.500361   \n",
       "std                         0.288094              0.286215   \n",
       "min                         0.000078              0.000413   \n",
       "25%                         0.248523              0.255014   \n",
       "50%                         0.500569              0.503486   \n",
       "75%                         0.746059              0.743708   \n",
       "max                         0.999887              0.999597   \n",
       "\n",
       "       Avg_government_satisfaction  Avg_education_importance  \\\n",
       "count                  9806.000000               9823.000000   \n",
       "mean                      4.987585                  5.007205   \n",
       "std                       2.895290                  2.885800   \n",
       "min                       0.000001                  0.000048   \n",
       "25%                       2.467898                  2.524549   \n",
       "50%                       4.996661                  5.039814   \n",
       "75%                       7.492286                  7.467005   \n",
       "max                       9.999719                  9.997036   \n",
       "\n",
       "       Avg_environmental_importance       ...        \\\n",
       "count                   9783.000000       ...         \n",
       "mean                       5.003874       ...         \n",
       "std                        2.893176       ...         \n",
       "min                        0.000591       ...         \n",
       "25%                        2.497779       ...         \n",
       "50%                        4.958118       ...         \n",
       "75%                        7.502315       ...         \n",
       "max                        9.999264       ...         \n",
       "\n",
       "       Looking_at_poles_results_int   Married_int    Gender_int  \\\n",
       "count                  10000.000000  10000.000000  10000.000000   \n",
       "mean                       0.133800      0.796600      0.494400   \n",
       "std                        0.366212      0.419817      0.514194   \n",
       "min                       -1.000000     -1.000000     -1.000000   \n",
       "25%                        0.000000      1.000000      0.000000   \n",
       "50%                        0.000000      1.000000      1.000000   \n",
       "75%                        0.000000      1.000000      1.000000   \n",
       "max                        1.000000      1.000000      1.000000   \n",
       "\n",
       "       Voting_Time_int  Financial_agenda_matters_int  \\\n",
       "count     10000.000000                  10000.000000   \n",
       "mean          0.494700                      0.492200   \n",
       "std           0.519036                      0.518234   \n",
       "min          -1.000000                     -1.000000   \n",
       "25%           0.000000                      0.000000   \n",
       "50%           1.000000                      1.000000   \n",
       "75%           1.000000                      1.000000   \n",
       "max           1.000000                      1.000000   \n",
       "\n",
       "       Most_Important_Issue_int  Age_group_int  \\\n",
       "count              1.000000e+04   1.000000e+04   \n",
       "mean              -8.393269e+16  -7.747633e+16   \n",
       "std                8.758849e+17   8.418202e+17   \n",
       "min               -9.223372e+18  -9.223372e+18   \n",
       "25%                1.000000e+00   0.000000e+00   \n",
       "50%                2.000000e+00   1.000000e+00   \n",
       "75%                5.000000e+00   2.000000e+00   \n",
       "max                7.000000e+00   2.000000e+00   \n",
       "\n",
       "       Will_vote_only_large_party_int  Main_transportation_int  Occupation_int  \n",
       "count                    1.000000e+04             1.000000e+04    1.000000e+04  \n",
       "mean                    -5.718491e+16            -7.839866e+16   -9.223372e+16  \n",
       "std                      7.240304e+17             8.467735e+17    9.177598e+17  \n",
       "min                     -9.223372e+18            -9.223372e+18   -9.223372e+18  \n",
       "25%                      1.000000e+00             0.000000e+00    1.000000e+00  \n",
       "50%                      1.000000e+00             1.000000e+00    2.000000e+00  \n",
       "75%                      1.000000e+00             2.000000e+00    3.000000e+00  \n",
       "max                      2.000000e+00             3.000000e+00    4.000000e+00  \n",
       "\n",
       "[8 rows x 37 columns]"
      ]
     },
     "execution_count": 17,
     "metadata": {},
     "output_type": "execute_result"
    }
   ],
   "source": [
    "data.describe()"
   ]
  },
  {
   "cell_type": "markdown",
   "metadata": {},
   "source": [
    "## Data preperation:"
   ]
  },
  {
   "cell_type": "markdown",
   "metadata": {},
   "source": [
    "### Data exploration:"
   ]
  },
  {
   "cell_type": "code",
   "execution_count": 52,
   "metadata": {},
   "outputs": [
    {
     "data": {
      "text/plain": [
       "array([                   0,                    2,                    3,\n",
       "                          4,                    1, -9223372036854775808])"
      ]
     },
     "execution_count": 52,
     "metadata": {},
     "output_type": "execute_result"
    }
   ],
   "source": [
    "data['Occupation_int'].unique()"
   ]
  },
  {
   "cell_type": "code",
   "execution_count": 47,
   "metadata": {},
   "outputs": [
    {
     "data": {
      "text/plain": [
       "count    9783.000000\n",
       "mean        5.003874\n",
       "std         2.893176\n",
       "min         0.000591\n",
       "25%         2.497779\n",
       "50%         4.958118\n",
       "75%         7.502315\n",
       "max         9.999264\n",
       "Name: Avg_environmental_importance, dtype: float64"
      ]
     },
     "execution_count": 47,
     "metadata": {},
     "output_type": "execute_result"
    },
    {
     "data": {
      "image/png": "[encoded data removed]",
      "text/plain": [
       "<matplotlib.figure.Figure at 0x109aa0050>"
      ]
     },
     "metadata": {},
     "output_type": "display_data"
    }
   ],
   "source": [
    "data['Avg_environmental_importance'].hist()\n",
    "data['Avg_environmental_importance'].describe()"
   ]
  },
  {
   "cell_type": "code",
   "execution_count": 46,
   "metadata": {},
   "outputs": [
    {
     "data": {
      "text/plain": [
       "count    9790.000000\n",
       "mean     6497.836874\n",
       "std      2003.184707\n",
       "min      3000.000000\n",
       "25%      4791.250000\n",
       "50%      6491.000000\n",
       "75%      8225.000000\n",
       "max      9999.000000\n",
       "Name: Yearly_ExpensesK, dtype: float64"
      ]
     },
     "execution_count": 46,
     "metadata": {},
     "output_type": "execute_result"
    },
    {
     "data": {
      "image/png": "[encoded data removed]",
      "text/plain": [
       "<matplotlib.figure.Figure at 0x116333710>"
      ]
     },
     "metadata": {},
     "output_type": "display_data"
    }
   ],
   "source": [
    "data['Yearly_ExpensesK'].hist()\n",
    "data['Yearly_ExpensesK'].describe()"
   ]
  },
  {
   "cell_type": "code",
   "execution_count": 53,
   "metadata": {},
   "outputs": [
    {
     "data": {
      "text/plain": [
       "count    9794.000000\n",
       "mean      402.579462\n",
       "std       133.557107\n",
       "min         1.511957\n",
       "25%       307.042438\n",
       "50%       389.081350\n",
       "75%       479.527037\n",
       "max       855.997552\n",
       "Name: Garden_sqr_meter_per_person_in_residancy_area, dtype: float64"
      ]
     },
     "execution_count": 53,
     "metadata": {},
     "output_type": "execute_result"
    },
    {
     "data": {
      "image/png": "[encoded data removed]",
      "text/plain": [
       "<matplotlib.figure.Figure at 0x1164bc9d0>"
      ]
     },
     "metadata": {},
     "output_type": "display_data"
    }
   ],
   "source": [
    "data['Garden_sqr_meter_per_person_in_residancy_area'].hist()\n",
    "data['Garden_sqr_meter_per_person_in_residancy_area'].describe()"
   ]
  },
  {
   "cell_type": "code",
   "execution_count": 55,
   "metadata": {},
   "outputs": [
    {
     "data": {
      "text/plain": [
       "count    9795.000000\n",
       "mean        0.662685\n",
       "std         1.039230\n",
       "min         0.000000\n",
       "25%         0.000000\n",
       "50%         0.000000\n",
       "75%         1.000000\n",
       "max        10.000000\n",
       "Name: Num_of_kids_born_last_10_years, dtype: float64"
      ]
     },
     "execution_count": 55,
     "metadata": {},
     "output_type": "execute_result"
    },
    {
     "data": {
      "image/png": "[encoded data removed]",
      "text/plain": [
       "<matplotlib.figure.Figure at 0x116fe5150>"
      ]
     },
     "metadata": {},
     "output_type": "display_data"
    }
   ],
   "source": [
    "data['Num_of_kids_born_last_10_years'].hist()\n",
    "data['Num_of_kids_born_last_10_years'].describe()"
   ]
  },
  {
   "cell_type": "code",
   "execution_count": 56,
   "metadata": {},
   "outputs": [
    {
     "data": {
      "text/plain": [
       "count    9795.000000\n",
       "mean       50.485939\n",
       "std        29.089206\n",
       "min         0.005870\n",
       "25%        24.948666\n",
       "50%        50.628891\n",
       "75%        75.849041\n",
       "max        99.996897\n",
       "Name: %Time_invested_in_work, dtype: float64"
      ]
     },
     "execution_count": 56,
     "metadata": {},
     "output_type": "execute_result"
    },
    {
     "data": {
      "image/png": "[encoded data removed]",
      "text/plain": [
       "<matplotlib.figure.Figure at 0x116ff0e50>"
      ]
     },
     "metadata": {},
     "output_type": "display_data"
    }
   ],
   "source": [
    "data['%Time_invested_in_work'].hist()\n",
    "data['%Time_invested_in_work'].describe()"
   ]
  },
  {
   "cell_type": "code",
   "execution_count": 57,
   "metadata": {},
   "outputs": [
    {
     "data": {
      "text/plain": [
       "count    9797.000000\n",
       "mean      209.321953\n",
       "std       108.067552\n",
       "min         7.141800\n",
       "25%       130.719573\n",
       "50%       210.695887\n",
       "75%       262.212294\n",
       "max       822.382848\n",
       "Name: Weighted_education_rank, dtype: float64"
      ]
     },
     "execution_count": 57,
     "metadata": {},
     "output_type": "execute_result"
    },
    {
     "data": {
      "image/png": "[encoded data removed]",
      "text/plain": [
       "<matplotlib.figure.Figure at 0x117130bd0>"
      ]
     },
     "metadata": {},
     "output_type": "display_data"
    }
   ],
   "source": [
    "data['Weighted_education_rank'].hist()\n",
    "data['Weighted_education_rank'].describe()"
   ]
  },
  {
   "cell_type": "code",
   "execution_count": null,
   "metadata": {
    "collapsed": true
   },
   "outputs": [],
   "source": [
    "data['Avg_monthly_expense_on_pets_or_plants'].hist()\n",
    "data['Avg_monthly_expense_on_pets_or_plants'].describe()"
   ]
  },
  {
   "cell_type": "code",
   "execution_count": null,
   "metadata": {
    "collapsed": true
   },
   "outputs": [],
   "source": [
    "data['%_satisfaction_financial_policy'].hist()\n",
    "data['%_satisfaction_financial_policy'].describe()"
   ]
  },
  {
   "cell_type": "code",
   "execution_count": null,
   "metadata": {
    "collapsed": true
   },
   "outputs": [],
   "source": [
    "data['Political_interest_Total_Score'].hist()\n",
    "data['Political_interest_Total_Score'].describe()"
   ]
  },
  {
   "cell_type": "code",
   "execution_count": null,
   "metadata": {
    "collapsed": true
   },
   "outputs": [],
   "source": [
    "data['Avg_size_per_room'].hist()\n",
    "data['Avg_size_per_room'].describe()"
   ]
  },
  {
   "cell_type": "code",
   "execution_count": null,
   "metadata": {
    "collapsed": true
   },
   "outputs": [],
   "source": [
    "data['Avg_government_satisfaction'].hist()\n",
    "data['Avg_government_satisfaction'].describe()"
   ]
  },
  {
   "cell_type": "code",
   "execution_count": null,
   "metadata": {
    "collapsed": true
   },
   "outputs": [],
   "source": [
    "data['Occupation_Satisfaction'].hist()\n",
    "data['Occupation_Satisfaction'].describe()"
   ]
  },
  {
   "cell_type": "code",
   "execution_count": null,
   "metadata": {
    "collapsed": true
   },
   "outputs": [],
   "source": [
    "data['Avg_monthly_expense_when_under_age_21'].hist()\n",
    "data['Avg_monthly_expense_when_under_age_21'].describe()"
   ]
  },
  {
   "cell_type": "code",
   "execution_count": null,
   "metadata": {
    "collapsed": true
   },
   "outputs": [],
   "source": [
    "data['Financial_balance_score_(0-1)'].hist()\n",
    "data['Financial_balance_score_(0-1)'].describe()"
   ]
  },
  {
   "cell_type": "code",
   "execution_count": null,
   "metadata": {
    "collapsed": true
   },
   "outputs": [],
   "source": [
    "data['Avg_monthly_household_cost'].hist()\n",
    "data['Avg_monthly_household_cost'].describe()"
   ]
  },
  {
   "cell_type": "code",
   "execution_count": null,
   "metadata": {
    "collapsed": true
   },
   "outputs": [],
   "source": [
    "data['Yearly_IncomeK'].hist()\n",
    "data['Yearly_IncomeK'].describe()"
   ]
  },
  {
   "cell_type": "code",
   "execution_count": null,
   "metadata": {
    "collapsed": true
   },
   "outputs": [],
   "source": [
    "data['%Of_Household_Income'].hist()\n",
    "data['%Of_Household_Income'].describe()"
   ]
  },
  {
   "cell_type": "code",
   "execution_count": null,
   "metadata": {
    "collapsed": true
   },
   "outputs": [],
   "source": [
    "data['Number_of_valued_Kneset_members'].hist()\n",
    "data['Number_of_valued_Kneset_members'].describe()"
   ]
  },
  {
   "cell_type": "code",
   "execution_count": null,
   "metadata": {
    "collapsed": true
   },
   "outputs": [],
   "source": [
    "data['AVG_lottary_expanses'].hist()\n",
    "data['AVG_lottary_expanses'].describe()"
   ]
  },
  {
   "cell_type": "code",
   "execution_count": null,
   "metadata": {
    "collapsed": true
   },
   "outputs": [],
   "source": [
    "data['Overall_happiness_score'].hist()\n",
    "data['Overall_happiness_score'].describe()"
   ]
  },
  {
   "cell_type": "code",
   "execution_count": null,
   "metadata": {
    "collapsed": true
   },
   "outputs": [],
   "source": [
    "data['Phone_minutes_10_years'].hist()\n",
    "data['Phone_minutes_10_years'].describe()"
   ]
  },
  {
   "cell_type": "code",
   "execution_count": null,
   "metadata": {
    "collapsed": true
   },
   "outputs": [],
   "source": [
    "data['Avg_Residancy_Altitude'].hist()\n",
    "data['Avg_Residancy_Altitude'].describe()"
   ]
  },
  {
   "cell_type": "code",
   "execution_count": null,
   "metadata": {
    "collapsed": true
   },
   "outputs": [],
   "source": [
    "data['Avg_monthly_income_all_years'].hist()\n",
    "data['Avg_monthly_income_all_years'].describe()"
   ]
  },
  {
   "cell_type": "code",
   "execution_count": null,
   "metadata": {
    "collapsed": true
   },
   "outputs": [],
   "source": [
    "data['Avg_Satisfaction_with_previous_vote'].hist()\n",
    "data['Avg_Satisfaction_with_previous_vote'].describe()"
   ]
  },
  {
   "cell_type": "code",
   "execution_count": null,
   "metadata": {
    "collapsed": true
   },
   "outputs": [],
   "source": [
    "data['Last_school_grades'].hist()\n",
    "data['Last_school_grades'].describe()"
   ]
  },
  {
   "cell_type": "code",
   "execution_count": null,
   "metadata": {
    "collapsed": true
   },
   "outputs": [],
   "source": [
    "data['Number_of_differnt_parties_voted_for'].hist()\n",
    "data['Number_of_differnt_parties_voted_for'].describe()"
   ]
  },
  {
   "cell_type": "code",
   "execution_count": null,
   "metadata": {
    "collapsed": true
   },
   "outputs": [],
   "source": [
    "data['Occupation_int'].hist()\n",
    "data['Occupation_int'].unique()"
   ]
  },
  {
   "cell_type": "code",
   "execution_count": null,
   "metadata": {
    "collapsed": true
   },
   "outputs": [],
   "source": [
    "data['Main_transportation_int'].hist()\n",
    "data['Main_transportation_int'].unique()"
   ]
  },
  {
   "cell_type": "code",
   "execution_count": null,
   "metadata": {
    "collapsed": true
   },
   "outputs": [],
   "source": [
    "data['Looking_at_poles_results_int'].hist()\n",
    "data['Looking_at_poles_results_int'].unique()"
   ]
  },
  {
   "cell_type": "code",
   "execution_count": null,
   "metadata": {
    "collapsed": true
   },
   "outputs": [],
   "source": [
    "data['Married_int'].hist()\n",
    "data['Married_int'].unique()"
   ]
  },
  {
   "cell_type": "code",
   "execution_count": null,
   "metadata": {
    "collapsed": true
   },
   "outputs": [],
   "source": [
    "data['Married_int'].hist()\n",
    "data['Married_int'].unique()"
   ]
  },
  {
   "cell_type": "code",
   "execution_count": null,
   "metadata": {
    "collapsed": true
   },
   "outputs": [],
   "source": [
    "data['Married_int'].hist()\n",
    "data['Married_int'].unique()"
   ]
  },
  {
   "cell_type": "code",
   "execution_count": null,
   "metadata": {
    "collapsed": true
   },
   "outputs": [],
   "source": [
    "data['Married_int'].hist()\n",
    "data['Married_int'].unique()"
   ]
  },
  {
   "cell_type": "code",
   "execution_count": null,
   "metadata": {
    "collapsed": true
   },
   "outputs": [],
   "source": [
    "data['Married_int'].hist()\n",
    "data['Married_int'].unique()"
   ]
  },
  {
   "cell_type": "code",
   "execution_count": null,
   "metadata": {
    "collapsed": true
   },
   "outputs": [],
   "source": [
    "data['Married_int'].hist()\n",
    "data['Married_int'].unique()"
   ]
  },
  {
   "cell_type": "markdown",
   "metadata": {},
   "source": [
    "### Imputation:"
   ]
  },
  {
   "cell_type": "code",
   "execution_count": null,
   "metadata": {
    "collapsed": true
   },
   "outputs": [],
   "source": []
  },
  {
   "cell_type": "code",
   "execution_count": 18,
   "metadata": {},
   "outputs": [
    {
     "data": {
      "text/plain": [
       "Avg_environmental_importance                     217\n",
       "Yearly_ExpensesK                                 210\n",
       "Garden_sqr_meter_per_person_in_residancy_area    206\n",
       "Num_of_kids_born_last_10_years                   205\n",
       "%Time_invested_in_work                           205\n",
       "Weighted_education_rank                          203\n",
       "Avg_monthly_expense_on_pets_or_plants            198\n",
       "%_satisfaction_financial_policy                  198\n",
       "Political_interest_Total_Score                   195\n",
       "Avg_size_per_room                                194\n",
       "Avg_government_satisfaction                      194\n",
       "Occupation_Satisfaction                          191\n",
       "Avg_monthly_expense_when_under_age_21            191\n",
       "Financial_balance_score_(0-1)                    190\n",
       "Avg_monthly_household_cost                       188\n",
       "Yearly_IncomeK                                   188\n",
       "%Of_Household_Income                             187\n",
       "Number_of_valued_Kneset_members                  184\n",
       "AVG_lottary_expanses                             182\n",
       "Overall_happiness_score                          178\n",
       "Phone_minutes_10_years                           178\n",
       "Avg_Residancy_Altitude                           177\n",
       "Avg_education_importance                         177\n",
       "Avg_monthly_income_all_years                     176\n",
       "Avg_Satisfaction_with_previous_vote              171\n",
       "Last_school_grades                               165\n",
       "Number_of_differnt_parties_voted_for             165\n",
       "Occupation_int                                     0\n",
       "Main_transportation_int                            0\n",
       "Looking_at_poles_results_int                       0\n",
       "Married_int                                        0\n",
       "Gender_int                                         0\n",
       "Voting_Time_int                                    0\n",
       "Financial_agenda_matters_int                       0\n",
       "Most_Important_Issue_int                           0\n",
       "Age_group_int                                      0\n",
       "Will_vote_only_large_party_int                     0\n",
       "Vote                                               0\n",
       "dtype: int64"
      ]
     },
     "execution_count": 18,
     "metadata": {},
     "output_type": "execute_result"
    }
   ],
   "source": [
    "data.isnull().sum().sort_values(ascending=False)"
   ]
  },
  {
   "cell_type": "code",
   "execution_count": null,
   "metadata": {
    "collapsed": true
   },
   "outputs": [],
   "source": []
  },
  {
   "cell_type": "markdown",
   "metadata": {},
   "source": [
    "Data Cleansing:"
   ]
  },
  {
   "cell_type": "markdown",
   "metadata": {},
   "source": [
    "Normalization:"
   ]
  },
  {
   "cell_type": "markdown",
   "metadata": {},
   "source": [
    "Feature Selection:"
   ]
  },
  {
   "cell_type": "markdown",
   "metadata": {},
   "source": [
    "## Split data to train, test and validation:"
   ]
  },
  {
   "cell_type": "code",
   "execution_count": 52,
   "metadata": {
    "collapsed": true
   },
   "outputs": [],
   "source": [
    "train, validate, test = np.split(data.sample(frac=1), [int(.6*len(data)), int(.8*len(data))])"
   ]
  },
  {
   "cell_type": "markdown",
   "metadata": {},
   "source": [
    "## Save to csv:"
   ]
  },
  {
   "cell_type": "code",
   "execution_count": 54,
   "metadata": {
    "collapsed": true
   },
   "outputs": [],
   "source": [
    "train.to_csv(\"train.csv\", index=False)\n",
    "test.to_csv(\"test.csv\", index=False)\n",
    "validate.to_csv(\"validate.csv\", index=False)"
   ]
  },
  {
   "cell_type": "code",
   "execution_count": null,
   "metadata": {
    "collapsed": true
   },
   "outputs": [],
   "source": []
  }
 ],
 "metadata": {
  "kernelspec": {
   "display_name": "Python 2",
   "language": "python",
   "name": "python2"
  },
  "language_info": {
   "codemirror_mode": {
    "name": "ipython",
    "version": 2
   },
   "file_extension": ".py",
   "mimetype": "text/x-python",
   "name": "python",
   "nbconvert_exporter": "python",
   "pygments_lexer": "ipython2",
   "version": "2.7.13"
  }
 },
 "nbformat": 4,
 "nbformat_minor": 2
}
