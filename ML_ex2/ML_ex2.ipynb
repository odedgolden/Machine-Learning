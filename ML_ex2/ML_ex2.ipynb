{
 "cells": [
  {
   "cell_type": "code",
   "execution_count": 27,
   "metadata": {
    "collapsed": true
   },
   "outputs": [],
   "source": [
    "import matplotlib.pyplot as plt\n",
    "%matplotlib inline\n",
    "import numpy as np\n",
    "import pandas as pd\n",
    "from sklearn.neighbors import NearestNeighbors"
   ]
  },
  {
   "cell_type": "markdown",
   "metadata": {},
   "source": [
    "## Load data:"
   ]
  },
  {
   "cell_type": "code",
   "execution_count": 28,
   "metadata": {
    "collapsed": true
   },
   "outputs": [],
   "source": [
    "data = pd.read_csv(\"ElectionsData.csv\", header=0)"
   ]
  },
  {
   "cell_type": "markdown",
   "metadata": {},
   "source": [
    "## Data exploration - Identify and set the correct type:"
   ]
  },
  {
   "cell_type": "code",
   "execution_count": 29,
   "metadata": {
    "scrolled": true
   },
   "outputs": [
    {
     "name": "stdout",
     "output_type": "stream",
     "text": [
      "Number of features: 38\n"
     ]
    },
    {
     "data": {
      "text/plain": [
       "Vote                                              object\n",
       "Occupation_Satisfaction                          float64\n",
       "Avg_monthly_expense_when_under_age_21            float64\n",
       "AVG_lottary_expanses                             float64\n",
       "Most_Important_Issue                              object\n",
       "Avg_Satisfaction_with_previous_vote              float64\n",
       "Looking_at_poles_results                          object\n",
       "Garden_sqr_meter_per_person_in_residancy_area    float64\n",
       "Married                                           object\n",
       "Gender                                            object\n",
       "Voting_Time                                       object\n",
       "Financial_balance_score_(0-1)                    float64\n",
       "%Of_Household_Income                             float64\n",
       "Avg_government_satisfaction                      float64\n",
       "Avg_education_importance                         float64\n",
       "Avg_environmental_importance                     float64\n",
       "Avg_Residancy_Altitude                           float64\n",
       "Yearly_ExpensesK                                 float64\n",
       "%Time_invested_in_work                           float64\n",
       "Yearly_IncomeK                                   float64\n",
       "Avg_monthly_expense_on_pets_or_plants            float64\n",
       "Avg_monthly_household_cost                       float64\n",
       "Will_vote_only_large_party                        object\n",
       "Phone_minutes_10_years                           float64\n",
       "Avg_size_per_room                                float64\n",
       "Weighted_education_rank                          float64\n",
       "%_satisfaction_financial_policy                  float64\n",
       "Avg_monthly_income_all_years                     float64\n",
       "Last_school_grades                               float64\n",
       "Age_group                                         object\n",
       "Number_of_differnt_parties_voted_for             float64\n",
       "Political_interest_Total_Score                   float64\n",
       "Number_of_valued_Kneset_members                  float64\n",
       "Main_transportation                               object\n",
       "Occupation                                        object\n",
       "Overall_happiness_score                          float64\n",
       "Num_of_kids_born_last_10_years                   float64\n",
       "Financial_agenda_matters                          object\n",
       "dtype: object"
      ]
     },
     "execution_count": 29,
     "metadata": {},
     "output_type": "execute_result"
    }
   ],
   "source": [
    "print('Number of features: '+str(len(data.columns.values)))\n",
    "data.dtypes"
   ]
  },
  {
   "cell_type": "code",
   "execution_count": 30,
   "metadata": {},
   "outputs": [
    {
     "name": "stdout",
     "output_type": "stream",
     "text": [
      "Vote: \n",
      "['Purples' 'Greens' 'Browns' 'Pinks' 'Blues' 'Oranges' 'Yellows' 'Whites'\n",
      " 'Reds' 'Greys']\n",
      "Most_Important_Issue: \n",
      "['Healthcare' 'Environment' 'Social' 'Military' 'Financial' 'Education'\n",
      " 'Other' 'Foreign_Affairs' nan]\n",
      "Looking_at_poles_results: \n",
      "['No' 'Yes' nan]\n",
      "Married: \n",
      "['Yes' 'No' nan]\n",
      "Gender: \n",
      "['Male' 'Female' nan]\n",
      "Voting_Time: \n",
      "['After_16:00' 'By_16:00' nan]\n",
      "Will_vote_only_large_party: \n",
      "['No' 'Yes' 'Maybe' nan]\n",
      "Age_group: \n",
      "['45_and_up' '30-45' 'Below_30' nan]\n",
      "Main_transportation: \n",
      "['Public_or_other' 'Motorcycle_or_truck' 'Foot_or_bicycle' 'Car' nan]\n",
      "Occupation: \n",
      "['Hightech' 'Public_Sector' 'Services_or_Retail' 'Student_or_Unemployed'\n",
      " 'Industry_or_other' nan]\n",
      "Financial_agenda_matters: \n",
      "['No' 'Yes' nan]\n"
     ]
    }
   ],
   "source": [
    "non_float_data = data.select_dtypes(exclude=['floating','int'])\n",
    "non_float_data.describe()\n",
    "for column in non_float_data:\n",
    "    print(str(column)+\": \\n\"+str(data[column].unique()))"
   ]
  },
  {
   "cell_type": "code",
   "execution_count": 31,
   "metadata": {},
   "outputs": [
    {
     "name": "stdout",
     "output_type": "stream",
     "text": [
      "Null values: 91\n",
      "Unique values: [ 0  1 -1]\n"
     ]
    },
    {
     "data": {
      "text/html": [
       "<div>\n",
       "<style>\n",
       "    .dataframe thead tr:only-child th {\n",
       "        text-align: right;\n",
       "    }\n",
       "\n",
       "    .dataframe thead th {\n",
       "        text-align: left;\n",
       "    }\n",
       "\n",
       "    .dataframe tbody tr th {\n",
       "        vertical-align: top;\n",
       "    }\n",
       "</style>\n",
       "<table border=\"1\" class=\"dataframe\">\n",
       "  <thead>\n",
       "    <tr style=\"text-align: right;\">\n",
       "      <th>Looking_at_poles_results</th>\n",
       "      <th>No</th>\n",
       "      <th>Yes</th>\n",
       "    </tr>\n",
       "    <tr>\n",
       "      <th>Looking_at_poles_results_int</th>\n",
       "      <th></th>\n",
       "      <th></th>\n",
       "    </tr>\n",
       "  </thead>\n",
       "  <tbody>\n",
       "    <tr>\n",
       "      <th>0</th>\n",
       "      <td>8480</td>\n",
       "      <td>0</td>\n",
       "    </tr>\n",
       "    <tr>\n",
       "      <th>1</th>\n",
       "      <td>0</td>\n",
       "      <td>1429</td>\n",
       "    </tr>\n",
       "  </tbody>\n",
       "</table>\n",
       "</div>"
      ],
      "text/plain": [
       "Looking_at_poles_results        No   Yes\n",
       "Looking_at_poles_results_int            \n",
       "0                             8480     0\n",
       "1                                0  1429"
      ]
     },
     "execution_count": 31,
     "metadata": {},
     "output_type": "execute_result"
    },
    {
     "data": {
      "image/png": "[encoded data removed]",
      "text/plain": [
       "<matplotlib.figure.Figure at 0x1166e7490>"
      ]
     },
     "metadata": {},
     "output_type": "display_data"
    }
   ],
   "source": [
    "data['Looking_at_poles_results'].value_counts().plot(kind='bar')\n",
    "print('Null values: '+str(data['Looking_at_poles_results'].isnull().sum()))\n",
    "data['Looking_at_poles_results_int'] = data['Looking_at_poles_results'].map( {'No':0, 'Yes':1, np.nan:-1}).astype(int)\n",
    "print('Unique values: '+str(data['Looking_at_poles_results_int'].unique()))\n",
    "pd.crosstab(data.Looking_at_poles_results_int, data.Looking_at_poles_results, rownames=['Looking_at_poles_results_int'], colnames=['Looking_at_poles_results'])"
   ]
  },
  {
   "cell_type": "code",
   "execution_count": 32,
   "metadata": {},
   "outputs": [
    {
     "name": "stdout",
     "output_type": "stream",
     "text": [
      "Null values: 71\n",
      "Unique values: [ 1  0 -1]\n"
     ]
    },
    {
     "data": {
      "text/html": [
       "<div>\n",
       "<style>\n",
       "    .dataframe thead tr:only-child th {\n",
       "        text-align: right;\n",
       "    }\n",
       "\n",
       "    .dataframe thead th {\n",
       "        text-align: left;\n",
       "    }\n",
       "\n",
       "    .dataframe tbody tr th {\n",
       "        vertical-align: top;\n",
       "    }\n",
       "</style>\n",
       "<table border=\"1\" class=\"dataframe\">\n",
       "  <thead>\n",
       "    <tr style=\"text-align: right;\">\n",
       "      <th>Married</th>\n",
       "      <th>No</th>\n",
       "      <th>Yes</th>\n",
       "    </tr>\n",
       "    <tr>\n",
       "      <th>Married_int</th>\n",
       "      <th></th>\n",
       "      <th></th>\n",
       "    </tr>\n",
       "  </thead>\n",
       "  <tbody>\n",
       "    <tr>\n",
       "      <th>0</th>\n",
       "      <td>1892</td>\n",
       "      <td>0</td>\n",
       "    </tr>\n",
       "    <tr>\n",
       "      <th>1</th>\n",
       "      <td>0</td>\n",
       "      <td>8037</td>\n",
       "    </tr>\n",
       "  </tbody>\n",
       "</table>\n",
       "</div>"
      ],
      "text/plain": [
       "Married        No   Yes\n",
       "Married_int            \n",
       "0            1892     0\n",
       "1               0  8037"
      ]
     },
     "execution_count": 32,
     "metadata": {},
     "output_type": "execute_result"
    },
    {
     "data": {
      "image/png": "[encoded data removed]",
      "text/plain": [
       "<matplotlib.figure.Figure at 0x112c69150>"
      ]
     },
     "metadata": {},
     "output_type": "display_data"
    }
   ],
   "source": [
    "data['Married'].value_counts().plot(kind='bar')\n",
    "print('Null values: '+str(data['Married'].isnull().sum()))\n",
    "data['Married_int'] = data['Married'].map( {'No':0, 'Yes':1, np.nan:-1}).astype(int)\n",
    "print('Unique values: '+str(data['Married_int'].unique()))\n",
    "pd.crosstab(data.Married_int, data.Married, rownames=['Married_int'], colnames=['Married'])\n"
   ]
  },
  {
   "cell_type": "code",
   "execution_count": 33,
   "metadata": {},
   "outputs": [
    {
     "name": "stdout",
     "output_type": "stream",
     "text": [
      "Null values: 72\n",
      "Unique values: [ 0  1 -1]\n"
     ]
    },
    {
     "data": {
      "text/html": [
       "<div>\n",
       "<style>\n",
       "    .dataframe thead tr:only-child th {\n",
       "        text-align: right;\n",
       "    }\n",
       "\n",
       "    .dataframe thead th {\n",
       "        text-align: left;\n",
       "    }\n",
       "\n",
       "    .dataframe tbody tr th {\n",
       "        vertical-align: top;\n",
       "    }\n",
       "</style>\n",
       "<table border=\"1\" class=\"dataframe\">\n",
       "  <thead>\n",
       "    <tr style=\"text-align: right;\">\n",
       "      <th>Gender</th>\n",
       "      <th>Female</th>\n",
       "      <th>Male</th>\n",
       "    </tr>\n",
       "    <tr>\n",
       "      <th>Gender_int</th>\n",
       "      <th></th>\n",
       "      <th></th>\n",
       "    </tr>\n",
       "  </thead>\n",
       "  <tbody>\n",
       "    <tr>\n",
       "      <th>0</th>\n",
       "      <td>0</td>\n",
       "      <td>4912</td>\n",
       "    </tr>\n",
       "    <tr>\n",
       "      <th>1</th>\n",
       "      <td>5016</td>\n",
       "      <td>0</td>\n",
       "    </tr>\n",
       "  </tbody>\n",
       "</table>\n",
       "</div>"
      ],
      "text/plain": [
       "Gender      Female  Male\n",
       "Gender_int              \n",
       "0                0  4912\n",
       "1             5016     0"
      ]
     },
     "execution_count": 33,
     "metadata": {},
     "output_type": "execute_result"
    },
    {
     "data": {
      "image/png": "[encoded data removed]",
      "text/plain": [
       "<matplotlib.figure.Figure at 0x112c69b10>"
      ]
     },
     "metadata": {},
     "output_type": "display_data"
    }
   ],
   "source": [
    "data['Gender'].value_counts().plot(kind='bar')\n",
    "print('Null values: '+str(data['Gender'].isnull().sum()))\n",
    "data['Gender_int'] = data['Gender'].map( {'Male':0, 'Female':1, np.nan:-1}).astype(int)\n",
    "print('Unique values: '+str(data['Gender_int'].unique()))\n",
    "pd.crosstab(data.Gender_int, data.Gender, rownames=['Gender_int'], colnames=['Gender'])"
   ]
  },
  {
   "cell_type": "code",
   "execution_count": 34,
   "metadata": {},
   "outputs": [
    {
     "name": "stdout",
     "output_type": "stream",
     "text": [
      "Null values: 97\n",
      "Unique values: [ 1  0 -1]\n"
     ]
    },
    {
     "data": {
      "text/html": [
       "<div>\n",
       "<style>\n",
       "    .dataframe thead tr:only-child th {\n",
       "        text-align: right;\n",
       "    }\n",
       "\n",
       "    .dataframe thead th {\n",
       "        text-align: left;\n",
       "    }\n",
       "\n",
       "    .dataframe tbody tr th {\n",
       "        vertical-align: top;\n",
       "    }\n",
       "</style>\n",
       "<table border=\"1\" class=\"dataframe\">\n",
       "  <thead>\n",
       "    <tr style=\"text-align: right;\">\n",
       "      <th>Voting_Time</th>\n",
       "      <th>After_16:00</th>\n",
       "      <th>By_16:00</th>\n",
       "    </tr>\n",
       "    <tr>\n",
       "      <th>Voting_Time_int</th>\n",
       "      <th></th>\n",
       "      <th></th>\n",
       "    </tr>\n",
       "  </thead>\n",
       "  <tbody>\n",
       "    <tr>\n",
       "      <th>0</th>\n",
       "      <td>0</td>\n",
       "      <td>4859</td>\n",
       "    </tr>\n",
       "    <tr>\n",
       "      <th>1</th>\n",
       "      <td>5044</td>\n",
       "      <td>0</td>\n",
       "    </tr>\n",
       "  </tbody>\n",
       "</table>\n",
       "</div>"
      ],
      "text/plain": [
       "Voting_Time      After_16:00  By_16:00\n",
       "Voting_Time_int                       \n",
       "0                          0      4859\n",
       "1                       5044         0"
      ]
     },
     "execution_count": 34,
     "metadata": {},
     "output_type": "execute_result"
    },
    {
     "data": {
      "image/png": "[encoded data removed]",
      "text/plain": [
       "<matplotlib.figure.Figure at 0x1160512d0>"
      ]
     },
     "metadata": {},
     "output_type": "display_data"
    }
   ],
   "source": [
    "data['Voting_Time'].value_counts().plot(kind='bar')\n",
    "print('Null values: '+str(data['Voting_Time'].isnull().sum()))\n",
    "data['Voting_Time_int'] = data['Voting_Time'].map( {'By_16:00':0, 'After_16:00':1, np.nan:-1}).astype(int)\n",
    "print('Unique values: '+str(data['Voting_Time_int'].unique()))\n",
    "pd.crosstab(data.Voting_Time_int, data.Voting_Time, rownames=['Voting_Time_int'], colnames=['Voting_Time'])"
   ]
  },
  {
   "cell_type": "code",
   "execution_count": 35,
   "metadata": {},
   "outputs": [
    {
     "name": "stdout",
     "output_type": "stream",
     "text": [
      "Null values: 93\n",
      "Unique values: [ 0  1 -1]\n"
     ]
    },
    {
     "data": {
      "text/html": [
       "<div>\n",
       "<style>\n",
       "    .dataframe thead tr:only-child th {\n",
       "        text-align: right;\n",
       "    }\n",
       "\n",
       "    .dataframe thead th {\n",
       "        text-align: left;\n",
       "    }\n",
       "\n",
       "    .dataframe tbody tr th {\n",
       "        vertical-align: top;\n",
       "    }\n",
       "</style>\n",
       "<table border=\"1\" class=\"dataframe\">\n",
       "  <thead>\n",
       "    <tr style=\"text-align: right;\">\n",
       "      <th>Financial_agenda_matters</th>\n",
       "      <th>No</th>\n",
       "      <th>Yes</th>\n",
       "    </tr>\n",
       "    <tr>\n",
       "      <th>Financial_agenda_matters_int</th>\n",
       "      <th></th>\n",
       "      <th></th>\n",
       "    </tr>\n",
       "  </thead>\n",
       "  <tbody>\n",
       "    <tr>\n",
       "      <th>0</th>\n",
       "      <td>4892</td>\n",
       "      <td>0</td>\n",
       "    </tr>\n",
       "    <tr>\n",
       "      <th>1</th>\n",
       "      <td>0</td>\n",
       "      <td>5015</td>\n",
       "    </tr>\n",
       "  </tbody>\n",
       "</table>\n",
       "</div>"
      ],
      "text/plain": [
       "Financial_agenda_matters        No   Yes\n",
       "Financial_agenda_matters_int            \n",
       "0                             4892     0\n",
       "1                                0  5015"
      ]
     },
     "execution_count": 35,
     "metadata": {},
     "output_type": "execute_result"
    },
    {
     "data": {
      "image/png": "[encoded data removed]",
      "text/plain": [
       "<matplotlib.figure.Figure at 0x1166b9fd0>"
      ]
     },
     "metadata": {},
     "output_type": "display_data"
    }
   ],
   "source": [
    "data['Financial_agenda_matters'].value_counts().plot(kind='bar')\n",
    "print('Null values: '+str(data['Financial_agenda_matters'].isnull().sum()))\n",
    "data['Financial_agenda_matters_int'] = data['Financial_agenda_matters'].map( {'No':0, 'Yes':1, np.nan:-1}).astype(int)\n",
    "print('Unique values: '+str(data['Financial_agenda_matters_int'].unique()))\n",
    "pd.crosstab(data.Financial_agenda_matters_int, data.Financial_agenda_matters, rownames=['Financial_agenda_matters_int'], colnames=['Financial_agenda_matters'])"
   ]
  },
  {
   "cell_type": "code",
   "execution_count": 36,
   "metadata": {},
   "outputs": [
    {
     "name": "stdout",
     "output_type": "stream",
     "text": [
      "Null values: 91\n",
      "Unique values: [                   4                    1                    7\n",
      "                    5                    2                    0\n",
      "                    6                    3 -9223372036854775808]\n"
     ]
    },
    {
     "data": {
      "image/png": "[encoded data removed]",
      "text/plain": [
       "<matplotlib.figure.Figure at 0x112923a90>"
      ]
     },
     "metadata": {},
     "output_type": "display_data"
    }
   ],
   "source": [
    "data['Most_Important_Issue'].value_counts().plot(kind='bar')\n",
    "print('Null values: '+str(data['Most_Important_Issue'].isnull().sum()))\n",
    "data['Most_Important_Issue_cat'] = data['Most_Important_Issue'].astype(\"category\")\n",
    "data['Most_Important_Issue_int'] = data['Most_Important_Issue_cat'].cat.rename_categories(range(data['Most_Important_Issue_cat'].nunique())).astype(int)\n",
    "print('Unique values: '+str(data['Most_Important_Issue_int'].unique()))"
   ]
  },
  {
   "cell_type": "code",
   "execution_count": 37,
   "metadata": {},
   "outputs": [
    {
     "name": "stdout",
     "output_type": "stream",
     "text": [
      "Null values: 84\n",
      "Unique values: [                   1                    0                    2\n",
      " -9223372036854775808]\n"
     ]
    },
    {
     "data": {
      "image/png": "[encoded data removed]",
      "text/plain": [
       "<matplotlib.figure.Figure at 0x112697bd0>"
      ]
     },
     "metadata": {},
     "output_type": "display_data"
    }
   ],
   "source": [
    "data['Age_group'].value_counts().plot(kind='bar')\n",
    "print('Null values: '+str(data['Age_group'].isnull().sum()))\n",
    "data['Age_group_cat'] = data['Age_group'].astype(\"category\")\n",
    "data['Age_group_int'] = data['Age_group_cat'].cat.rename_categories(range(data['Age_group_cat'].nunique())).astype(int)\n",
    "print('Unique values: '+str(data['Age_group_int'].unique()))"
   ]
  },
  {
   "cell_type": "code",
   "execution_count": 38,
   "metadata": {
    "scrolled": true
   },
   "outputs": [
    {
     "name": "stdout",
     "output_type": "stream",
     "text": [
      "Null values: 62\n",
      "Unique values: [                   1                    2                    0\n",
      " -9223372036854775808]\n"
     ]
    },
    {
     "data": {
      "image/png": "[encoded data removed]",
      "text/plain": [
       "<matplotlib.figure.Figure at 0x10d2ee110>"
      ]
     },
     "metadata": {},
     "output_type": "display_data"
    }
   ],
   "source": [
    "data['Will_vote_only_large_party'].value_counts().plot(kind='bar')\n",
    "print('Null values: '+str(data['Will_vote_only_large_party'].isnull().sum()))\n",
    "data['Will_vote_only_large_party_cat'] = data['Will_vote_only_large_party'].astype(\"category\")\n",
    "data['Will_vote_only_large_party_int'] = data['Will_vote_only_large_party_cat'].cat.rename_categories(range(data['Will_vote_only_large_party_cat'].nunique())).astype(int)\n",
    "print('Unique values: '+str(data['Will_vote_only_large_party_int'].unique()))"
   ]
  },
  {
   "cell_type": "code",
   "execution_count": 39,
   "metadata": {},
   "outputs": [
    {
     "name": "stdout",
     "output_type": "stream",
     "text": [
      "Null values: 85\n",
      "Unique values: [                   3                    2                    1\n",
      "                    0 -9223372036854775808]\n"
     ]
    },
    {
     "data": {
      "image/png": "[encoded data removed]",
      "text/plain": [
       "<matplotlib.figure.Figure at 0x1166b0610>"
      ]
     },
     "metadata": {},
     "output_type": "display_data"
    }
   ],
   "source": [
    "data['Main_transportation'].value_counts().plot(kind='bar')\n",
    "print('Null values: '+str(data['Main_transportation'].isnull().sum()))\n",
    "data['Main_transportation_cat'] = data['Main_transportation'].astype(\"category\")\n",
    "data['Main_transportation_int'] = data['Main_transportation_cat'].cat.rename_categories(range(data['Main_transportation_cat'].nunique())).astype(int)\n",
    "print('Unique values: '+str(data['Main_transportation_int'].unique()))"
   ]
  },
  {
   "cell_type": "code",
   "execution_count": 40,
   "metadata": {},
   "outputs": [
    {
     "name": "stdout",
     "output_type": "stream",
     "text": [
      "Null values: 100\n",
      "Unique values: [                   0                    2                    3\n",
      "                    4                    1 -9223372036854775808]\n"
     ]
    },
    {
     "data": {
      "image/png": "[encoded data removed]",
      "text/plain": [
       "<matplotlib.figure.Figure at 0x116920c50>"
      ]
     },
     "metadata": {},
     "output_type": "display_data"
    }
   ],
   "source": [
    "data['Occupation'].value_counts().plot(kind='bar')\n",
    "print('Null values: '+str(data['Occupation'].isnull().sum()))\n",
    "data['Occupation_cat'] = data['Occupation'].astype(\"category\")\n",
    "data['Occupation_int'] = data['Occupation_cat'].cat.rename_categories(range(data['Occupation_cat'].nunique())).astype(int)\n",
    "print('Unique values: '+str(data['Occupation_int'].unique()))"
   ]
  },
  {
   "cell_type": "code",
   "execution_count": 45,
   "metadata": {
    "collapsed": true
   },
   "outputs": [],
   "source": [
    "data = data.drop(['Looking_at_poles_results','Married','Gender','Voting_Time','Financial_agenda_matters','Most_Important_Issue','Most_Important_Issue_cat','Age_group','Age_group_cat','Will_vote_only_large_party','Will_vote_only_large_party_cat','Main_transportation','Will_vote_only_large_party_cat','Main_transportation','Main_transportation_cat','Occupation','Occupation_cat'], axis=1) "
   ]
  },
  {
   "cell_type": "code",
   "execution_count": 46,
   "metadata": {},
   "outputs": [
    {
     "data": {
      "text/html": [
       "<div>\n",
       "<style>\n",
       "    .dataframe thead tr:only-child th {\n",
       "        text-align: right;\n",
       "    }\n",
       "\n",
       "    .dataframe thead th {\n",
       "        text-align: left;\n",
       "    }\n",
       "\n",
       "    .dataframe tbody tr th {\n",
       "        vertical-align: top;\n",
       "    }\n",
       "</style>\n",
       "<table border=\"1\" class=\"dataframe\">\n",
       "  <thead>\n",
       "    <tr style=\"text-align: right;\">\n",
       "      <th></th>\n",
       "      <th>Occupation_Satisfaction</th>\n",
       "      <th>Avg_monthly_expense_when_under_age_21</th>\n",
       "      <th>AVG_lottary_expanses</th>\n",
       "      <th>Avg_Satisfaction_with_previous_vote</th>\n",
       "      <th>Garden_sqr_meter_per_person_in_residancy_area</th>\n",
       "      <th>Financial_balance_score_(0-1)</th>\n",
       "      <th>%Of_Household_Income</th>\n",
       "      <th>Avg_government_satisfaction</th>\n",
       "      <th>Avg_education_importance</th>\n",
       "      <th>Avg_environmental_importance</th>\n",
       "      <th>...</th>\n",
       "      <th>Married_int</th>\n",
       "      <th>Gender_int</th>\n",
       "      <th>Voting_Time_int</th>\n",
       "      <th>Financial_agenda_matters_int</th>\n",
       "      <th>Most_Important_Issue_int</th>\n",
       "      <th>Age_group_int</th>\n",
       "      <th>Will_vote_only_large_party_int</th>\n",
       "      <th>Main_transportation_int</th>\n",
       "      <th>Occupation_int</th>\n",
       "      <th>Avg_environmental_importance_isNull</th>\n",
       "    </tr>\n",
       "  </thead>\n",
       "  <tbody>\n",
       "    <tr>\n",
       "      <th>count</th>\n",
       "      <td>9809.000000</td>\n",
       "      <td>9809.000000</td>\n",
       "      <td>9818.000000</td>\n",
       "      <td>9829.000000</td>\n",
       "      <td>9794.000000</td>\n",
       "      <td>9810.000000</td>\n",
       "      <td>9813.000000</td>\n",
       "      <td>9806.000000</td>\n",
       "      <td>9823.000000</td>\n",
       "      <td>10000.000000</td>\n",
       "      <td>...</td>\n",
       "      <td>10000.000000</td>\n",
       "      <td>10000.000000</td>\n",
       "      <td>10000.000000</td>\n",
       "      <td>10000.000000</td>\n",
       "      <td>1.000000e+04</td>\n",
       "      <td>1.000000e+04</td>\n",
       "      <td>1.000000e+04</td>\n",
       "      <td>1.000000e+04</td>\n",
       "      <td>1.000000e+04</td>\n",
       "      <td>10000.000000</td>\n",
       "    </tr>\n",
       "    <tr>\n",
       "      <th>mean</th>\n",
       "      <td>5.511367</td>\n",
       "      <td>507.643792</td>\n",
       "      <td>67380.919408</td>\n",
       "      <td>169.002686</td>\n",
       "      <td>402.579462</td>\n",
       "      <td>0.500668</td>\n",
       "      <td>0.500361</td>\n",
       "      <td>4.987585</td>\n",
       "      <td>5.007205</td>\n",
       "      <td>5.002009</td>\n",
       "      <td>...</td>\n",
       "      <td>0.796600</td>\n",
       "      <td>0.494400</td>\n",
       "      <td>0.494700</td>\n",
       "      <td>0.492200</td>\n",
       "      <td>-8.393269e+16</td>\n",
       "      <td>-7.747633e+16</td>\n",
       "      <td>-5.718491e+16</td>\n",
       "      <td>-7.839866e+16</td>\n",
       "      <td>-9.223372e+16</td>\n",
       "      <td>0.021700</td>\n",
       "    </tr>\n",
       "    <tr>\n",
       "      <th>std</th>\n",
       "      <td>2.855781</td>\n",
       "      <td>433.518917</td>\n",
       "      <td>69473.844694</td>\n",
       "      <td>144.476593</td>\n",
       "      <td>133.557107</td>\n",
       "      <td>0.288094</td>\n",
       "      <td>0.286215</td>\n",
       "      <td>2.895290</td>\n",
       "      <td>2.885800</td>\n",
       "      <td>2.874799</td>\n",
       "      <td>...</td>\n",
       "      <td>0.419817</td>\n",
       "      <td>0.514194</td>\n",
       "      <td>0.519036</td>\n",
       "      <td>0.518234</td>\n",
       "      <td>8.758849e+17</td>\n",
       "      <td>8.418202e+17</td>\n",
       "      <td>7.240304e+17</td>\n",
       "      <td>8.467735e+17</td>\n",
       "      <td>9.177598e+17</td>\n",
       "      <td>0.145709</td>\n",
       "    </tr>\n",
       "    <tr>\n",
       "      <th>min</th>\n",
       "      <td>1.000000</td>\n",
       "      <td>-855.714730</td>\n",
       "      <td>-166375.186748</td>\n",
       "      <td>-285.238243</td>\n",
       "      <td>1.511957</td>\n",
       "      <td>0.000078</td>\n",
       "      <td>0.000413</td>\n",
       "      <td>0.000001</td>\n",
       "      <td>0.000048</td>\n",
       "      <td>0.000591</td>\n",
       "      <td>...</td>\n",
       "      <td>-1.000000</td>\n",
       "      <td>-1.000000</td>\n",
       "      <td>-1.000000</td>\n",
       "      <td>-1.000000</td>\n",
       "      <td>-9.223372e+18</td>\n",
       "      <td>-9.223372e+18</td>\n",
       "      <td>-9.223372e+18</td>\n",
       "      <td>-9.223372e+18</td>\n",
       "      <td>-9.223372e+18</td>\n",
       "      <td>0.000000</td>\n",
       "    </tr>\n",
       "    <tr>\n",
       "      <th>25%</th>\n",
       "      <td>3.000000</td>\n",
       "      <td>199.225499</td>\n",
       "      <td>24420.519122</td>\n",
       "      <td>66.121900</td>\n",
       "      <td>307.042438</td>\n",
       "      <td>0.248523</td>\n",
       "      <td>0.255014</td>\n",
       "      <td>2.467898</td>\n",
       "      <td>2.524549</td>\n",
       "      <td>2.536499</td>\n",
       "      <td>...</td>\n",
       "      <td>1.000000</td>\n",
       "      <td>0.000000</td>\n",
       "      <td>0.000000</td>\n",
       "      <td>0.000000</td>\n",
       "      <td>1.000000e+00</td>\n",
       "      <td>0.000000e+00</td>\n",
       "      <td>1.000000e+00</td>\n",
       "      <td>0.000000e+00</td>\n",
       "      <td>1.000000e+00</td>\n",
       "      <td>0.000000</td>\n",
       "    </tr>\n",
       "    <tr>\n",
       "      <th>50%</th>\n",
       "      <td>6.000000</td>\n",
       "      <td>387.469720</td>\n",
       "      <td>48410.029203</td>\n",
       "      <td>128.670084</td>\n",
       "      <td>389.081350</td>\n",
       "      <td>0.500569</td>\n",
       "      <td>0.503486</td>\n",
       "      <td>4.996661</td>\n",
       "      <td>5.039814</td>\n",
       "      <td>4.966008</td>\n",
       "      <td>...</td>\n",
       "      <td>1.000000</td>\n",
       "      <td>1.000000</td>\n",
       "      <td>1.000000</td>\n",
       "      <td>1.000000</td>\n",
       "      <td>2.000000e+00</td>\n",
       "      <td>1.000000e+00</td>\n",
       "      <td>1.000000e+00</td>\n",
       "      <td>1.000000e+00</td>\n",
       "      <td>2.000000e+00</td>\n",
       "      <td>0.000000</td>\n",
       "    </tr>\n",
       "    <tr>\n",
       "      <th>75%</th>\n",
       "      <td>8.000000</td>\n",
       "      <td>708.293034</td>\n",
       "      <td>86099.873686</td>\n",
       "      <td>235.848891</td>\n",
       "      <td>479.527037</td>\n",
       "      <td>0.746059</td>\n",
       "      <td>0.743708</td>\n",
       "      <td>7.492286</td>\n",
       "      <td>7.467005</td>\n",
       "      <td>7.463591</td>\n",
       "      <td>...</td>\n",
       "      <td>1.000000</td>\n",
       "      <td>1.000000</td>\n",
       "      <td>1.000000</td>\n",
       "      <td>1.000000</td>\n",
       "      <td>5.000000e+00</td>\n",
       "      <td>2.000000e+00</td>\n",
       "      <td>1.000000e+00</td>\n",
       "      <td>2.000000e+00</td>\n",
       "      <td>3.000000e+00</td>\n",
       "      <td>0.000000</td>\n",
       "    </tr>\n",
       "    <tr>\n",
       "      <th>max</th>\n",
       "      <td>10.000000</td>\n",
       "      <td>2305.237140</td>\n",
       "      <td>560309.089996</td>\n",
       "      <td>768.412380</td>\n",
       "      <td>855.997552</td>\n",
       "      <td>0.999887</td>\n",
       "      <td>0.999597</td>\n",
       "      <td>9.999719</td>\n",
       "      <td>9.997036</td>\n",
       "      <td>9.999264</td>\n",
       "      <td>...</td>\n",
       "      <td>1.000000</td>\n",
       "      <td>1.000000</td>\n",
       "      <td>1.000000</td>\n",
       "      <td>1.000000</td>\n",
       "      <td>7.000000e+00</td>\n",
       "      <td>2.000000e+00</td>\n",
       "      <td>2.000000e+00</td>\n",
       "      <td>3.000000e+00</td>\n",
       "      <td>4.000000e+00</td>\n",
       "      <td>1.000000</td>\n",
       "    </tr>\n",
       "  </tbody>\n",
       "</table>\n",
       "<p>8 rows × 38 columns</p>\n",
       "</div>"
      ],
      "text/plain": [
       "       Occupation_Satisfaction  Avg_monthly_expense_when_under_age_21  \\\n",
       "count              9809.000000                            9809.000000   \n",
       "mean                  5.511367                             507.643792   \n",
       "std                   2.855781                             433.518917   \n",
       "min                   1.000000                            -855.714730   \n",
       "25%                   3.000000                             199.225499   \n",
       "50%                   6.000000                             387.469720   \n",
       "75%                   8.000000                             708.293034   \n",
       "max                  10.000000                            2305.237140   \n",
       "\n",
       "       AVG_lottary_expanses  Avg_Satisfaction_with_previous_vote  \\\n",
       "count           9818.000000                          9829.000000   \n",
       "mean           67380.919408                           169.002686   \n",
       "std            69473.844694                           144.476593   \n",
       "min          -166375.186748                          -285.238243   \n",
       "25%            24420.519122                            66.121900   \n",
       "50%            48410.029203                           128.670084   \n",
       "75%            86099.873686                           235.848891   \n",
       "max           560309.089996                           768.412380   \n",
       "\n",
       "       Garden_sqr_meter_per_person_in_residancy_area  \\\n",
       "count                                    9794.000000   \n",
       "mean                                      402.579462   \n",
       "std                                       133.557107   \n",
       "min                                         1.511957   \n",
       "25%                                       307.042438   \n",
       "50%                                       389.081350   \n",
       "75%                                       479.527037   \n",
       "max                                       855.997552   \n",
       "\n",
       "       Financial_balance_score_(0-1)  %Of_Household_Income  \\\n",
       "count                    9810.000000           9813.000000   \n",
       "mean                        0.500668              0.500361   \n",
       "std                         0.288094              0.286215   \n",
       "min                         0.000078              0.000413   \n",
       "25%                         0.248523              0.255014   \n",
       "50%                         0.500569              0.503486   \n",
       "75%                         0.746059              0.743708   \n",
       "max                         0.999887              0.999597   \n",
       "\n",
       "       Avg_government_satisfaction  Avg_education_importance  \\\n",
       "count                  9806.000000               9823.000000   \n",
       "mean                      4.987585                  5.007205   \n",
       "std                       2.895290                  2.885800   \n",
       "min                       0.000001                  0.000048   \n",
       "25%                       2.467898                  2.524549   \n",
       "50%                       4.996661                  5.039814   \n",
       "75%                       7.492286                  7.467005   \n",
       "max                       9.999719                  9.997036   \n",
       "\n",
       "       Avg_environmental_importance                 ...                   \\\n",
       "count                  10000.000000                 ...                    \n",
       "mean                       5.002009                 ...                    \n",
       "std                        2.874799                 ...                    \n",
       "min                        0.000591                 ...                    \n",
       "25%                        2.536499                 ...                    \n",
       "50%                        4.966008                 ...                    \n",
       "75%                        7.463591                 ...                    \n",
       "max                        9.999264                 ...                    \n",
       "\n",
       "        Married_int    Gender_int  Voting_Time_int  \\\n",
       "count  10000.000000  10000.000000     10000.000000   \n",
       "mean       0.796600      0.494400         0.494700   \n",
       "std        0.419817      0.514194         0.519036   \n",
       "min       -1.000000     -1.000000        -1.000000   \n",
       "25%        1.000000      0.000000         0.000000   \n",
       "50%        1.000000      1.000000         1.000000   \n",
       "75%        1.000000      1.000000         1.000000   \n",
       "max        1.000000      1.000000         1.000000   \n",
       "\n",
       "       Financial_agenda_matters_int  Most_Important_Issue_int  Age_group_int  \\\n",
       "count                  10000.000000              1.000000e+04   1.000000e+04   \n",
       "mean                       0.492200             -8.393269e+16  -7.747633e+16   \n",
       "std                        0.518234              8.758849e+17   8.418202e+17   \n",
       "min                       -1.000000             -9.223372e+18  -9.223372e+18   \n",
       "25%                        0.000000              1.000000e+00   0.000000e+00   \n",
       "50%                        1.000000              2.000000e+00   1.000000e+00   \n",
       "75%                        1.000000              5.000000e+00   2.000000e+00   \n",
       "max                        1.000000              7.000000e+00   2.000000e+00   \n",
       "\n",
       "       Will_vote_only_large_party_int  Main_transportation_int  \\\n",
       "count                    1.000000e+04             1.000000e+04   \n",
       "mean                    -5.718491e+16            -7.839866e+16   \n",
       "std                      7.240304e+17             8.467735e+17   \n",
       "min                     -9.223372e+18            -9.223372e+18   \n",
       "25%                      1.000000e+00             0.000000e+00   \n",
       "50%                      1.000000e+00             1.000000e+00   \n",
       "75%                      1.000000e+00             2.000000e+00   \n",
       "max                      2.000000e+00             3.000000e+00   \n",
       "\n",
       "       Occupation_int  Avg_environmental_importance_isNull  \n",
       "count    1.000000e+04                         10000.000000  \n",
       "mean    -9.223372e+16                             0.021700  \n",
       "std      9.177598e+17                             0.145709  \n",
       "min     -9.223372e+18                             0.000000  \n",
       "25%      1.000000e+00                             0.000000  \n",
       "50%      2.000000e+00                             0.000000  \n",
       "75%      3.000000e+00                             0.000000  \n",
       "max      4.000000e+00                             1.000000  \n",
       "\n",
       "[8 rows x 38 columns]"
      ]
     },
     "execution_count": 46,
     "metadata": {},
     "output_type": "execute_result"
    }
   ],
   "source": [
    "data.describe()"
   ]
  },
  {
   "cell_type": "code",
   "execution_count": 47,
   "metadata": {
    "scrolled": true
   },
   "outputs": [
    {
     "name": "stdout",
     "output_type": "stream",
     "text": [
      "Number of nulls after exploration: 4896\n"
     ]
    }
   ],
   "source": [
    "print(\"Number of nulls after exploration: \"+str(data.isnull().sum().sum()))"
   ]
  },
  {
   "cell_type": "code",
   "execution_count": 48,
   "metadata": {},
   "outputs": [
    {
     "data": {
      "text/html": [
       "<div>\n",
       "<style>\n",
       "    .dataframe thead tr:only-child th {\n",
       "        text-align: right;\n",
       "    }\n",
       "\n",
       "    .dataframe thead th {\n",
       "        text-align: left;\n",
       "    }\n",
       "\n",
       "    .dataframe tbody tr th {\n",
       "        vertical-align: top;\n",
       "    }\n",
       "</style>\n",
       "<table border=\"1\" class=\"dataframe\">\n",
       "  <thead>\n",
       "    <tr style=\"text-align: right;\">\n",
       "      <th></th>\n",
       "      <th>Vote</th>\n",
       "    </tr>\n",
       "  </thead>\n",
       "  <tbody>\n",
       "    <tr>\n",
       "      <th>count</th>\n",
       "      <td>10000</td>\n",
       "    </tr>\n",
       "    <tr>\n",
       "      <th>unique</th>\n",
       "      <td>10</td>\n",
       "    </tr>\n",
       "    <tr>\n",
       "      <th>top</th>\n",
       "      <td>Purples</td>\n",
       "    </tr>\n",
       "    <tr>\n",
       "      <th>freq</th>\n",
       "      <td>2067</td>\n",
       "    </tr>\n",
       "  </tbody>\n",
       "</table>\n",
       "</div>"
      ],
      "text/plain": [
       "           Vote\n",
       "count     10000\n",
       "unique       10\n",
       "top     Purples\n",
       "freq       2067"
      ]
     },
     "execution_count": 48,
     "metadata": {},
     "output_type": "execute_result"
    }
   ],
   "source": [
    "data.select_dtypes(exclude=['floating','int']).describe()"
   ]
  },
  {
   "cell_type": "markdown",
   "metadata": {},
   "source": [
    "## Data preperation:"
   ]
  },
  {
   "cell_type": "markdown",
   "metadata": {},
   "source": [
    "### Data Imputation:"
   ]
  },
  {
   "cell_type": "code",
   "execution_count": 44,
   "metadata": {},
   "outputs": [
    {
     "name": "stdout",
     "output_type": "stream",
     "text": [
      "Null values: 217 out of: 9783\n",
      "Null values after imputation: 0\n"
     ]
    },
    {
     "data": {
      "image/png": "[encoded data removed]",
      "text/plain": [
       "<matplotlib.figure.Figure at 0x1129e08d0>"
      ]
     },
     "metadata": {},
     "output_type": "display_data"
    }
   ],
   "source": [
    "print('Null values: '+str(data['Avg_environmental_importance'].isnull().sum())+' out of: '+str(data['Avg_environmental_importance'].notnull().sum()))\n",
    "data['Avg_environmental_importance'].hist()\n",
    "data['Avg_environmental_importance'].describe()\n",
    "data['Avg_environmental_importance_isNull'] = pd.isnull(data.Avg_environmental_importance).astype(int)\n",
    "data['Avg_environmental_importance'] = data['Avg_environmental_importance'].interpolate()\n",
    "print('Null values after imputation: '+str(data['Avg_environmental_importance'].isnull().sum()))"
   ]
  },
  {
   "cell_type": "markdown",
   "metadata": {},
   "source": [
    "The data is distributed pretty much uniformly, so I will use interpolation here."
   ]
  },
  {
   "cell_type": "code",
   "execution_count": 50,
   "metadata": {},
   "outputs": [
    {
     "name": "stdout",
     "output_type": "stream",
     "text": [
      "Null values: 0\n",
      "Null values after imputation: 0\n"
     ]
    },
    {
     "data": {
      "image/png": "[encoded data removed]",
      "text/plain": [
       "<matplotlib.figure.Figure at 0x112b464d0>"
      ]
     },
     "metadata": {},
     "output_type": "display_data"
    }
   ],
   "source": [
    "print('Null values: '+str(data['Yearly_ExpensesK'].isnull().sum()))\n",
    "data['Yearly_ExpensesK'].hist()\n",
    "data['Yearly_ExpensesK'].describe()\n",
    "data['Yearly_ExpensesK_isNull'] = pd.isnull(data.Yearly_ExpensesK).astype(int)\n",
    "data['Yearly_ExpensesK'] = data['Yearly_ExpensesK'].interpolate()\n",
    "print('Null values after imputation: '+str(data['Yearly_ExpensesK'].isnull().sum()))\n"
   ]
  },
  {
   "cell_type": "markdown",
   "metadata": {},
   "source": [
    "The data is distributed pretty much uniformly, so I will use interpolation here."
   ]
  },
  {
   "cell_type": "code",
   "execution_count": 53,
   "metadata": {},
   "outputs": [
    {
     "name": "stdout",
     "output_type": "stream",
     "text": [
      "Null values: 206\n",
      "Null values after imputation: 0\n"
     ]
    },
    {
     "data": {
      "image/png": "[encoded data removed]",
      "text/plain": [
       "<matplotlib.figure.Figure at 0x115fa8ad0>"
      ]
     },
     "metadata": {},
     "output_type": "display_data"
    }
   ],
   "source": [
    "print('Null values: '+str(data['Garden_sqr_meter_per_person_in_residancy_area'].isnull().sum()))\n",
    "data['Garden_sqr_meter_per_person_in_residancy_area'].hist()\n",
    "data['Garden_sqr_meter_per_person_in_residancy_area'].describe()\n",
    "data['Garden_sqr_meter_per_person_in_residancy_area_isNull'] = pd.isnull(data.Garden_sqr_meter_per_person_in_residancy_area).astype(int)\n",
    "avg = data['Garden_sqr_meter_per_person_in_residancy_area'].mean()\n",
    "data['Garden_sqr_meter_per_person_in_residancy_area'] = data['Garden_sqr_meter_per_person_in_residancy_area'].fillna(value = avg)\n",
    "print('Null values after imputation: '+str(data['Garden_sqr_meter_per_person_in_residancy_area'].isnull().sum()))"
   ]
  },
  {
   "cell_type": "markdown",
   "metadata": {},
   "source": [
    "The data is distributed close enough to normal, so I will use mean."
   ]
  },
  {
   "cell_type": "code",
   "execution_count": 55,
   "metadata": {},
   "outputs": [
    {
     "name": "stdout",
     "output_type": "stream",
     "text": [
      "Null values: 0\n",
      "Null values after imputation: 0\n"
     ]
    },
    {
     "data": {
      "image/png": "[encoded data removed]",
      "text/plain": [
       "<matplotlib.figure.Figure at 0x1126811d0>"
      ]
     },
     "metadata": {},
     "output_type": "display_data"
    }
   ],
   "source": [
    "print('Null values: '+str(data['Num_of_kids_born_last_10_years'].isnull().sum()))\n",
    "data['Num_of_kids_born_last_10_years'].hist()\n",
    "data['Num_of_kids_born_last_10_years'].describe()\n",
    "data['Num_of_kids_born_last_10_years_isNull'] = pd.isnull(data.Garden_sqr_meter_per_person_in_residancy_area).astype(int)\n",
    "med = data['Num_of_kids_born_last_10_years'].median()\n",
    "data['Num_of_kids_born_last_10_years'] = data['Num_of_kids_born_last_10_years'].fillna(value = med)\n",
    "print('Null values after imputation: '+str(data['Num_of_kids_born_last_10_years'].isnull().sum()))"
   ]
  },
  {
   "cell_type": "markdown",
   "metadata": {},
   "source": [
    "The data is distributed pretty much as I expected, with left bias, so I may want to use the median here."
   ]
  },
  {
   "cell_type": "code",
   "execution_count": 57,
   "metadata": {},
   "outputs": [
    {
     "name": "stdout",
     "output_type": "stream",
     "text": [
      "Null values: 0\n",
      "Null values after imputation: 0\n"
     ]
    },
    {
     "data": {
      "image/png": "[encoded data removed]",
      "text/plain": [
       "<matplotlib.figure.Figure at 0x112bf8d90>"
      ]
     },
     "metadata": {},
     "output_type": "display_data"
    }
   ],
   "source": [
    "print('Null values: '+str(data['%Time_invested_in_work'].isnull().sum()))\n",
    "data['%Time_invested_in_work'].hist()\n",
    "data['%Time_invested_in_work'].describe()\n",
    "data['%Time_invested_in_work_isNull'] = pd.isnull(data.Yearly_ExpensesK).astype(int)\n",
    "data['%Time_invested_in_work'] = data['%Time_invested_in_work'].interpolate()\n",
    "print('Null values after imputation: '+str(data['%Time_invested_in_work'].isnull().sum()))\n"
   ]
  },
  {
   "cell_type": "markdown",
   "metadata": {},
   "source": [
    "The data is distributed pretty much uniformly, so I may want to use EM."
   ]
  },
  {
   "cell_type": "code",
   "execution_count": 153,
   "metadata": {},
   "outputs": [
    {
     "name": "stdout",
     "output_type": "stream",
     "text": [
      "Null values: 203\n"
     ]
    },
    {
     "data": {
      "text/plain": [
       "count    9797.000000\n",
       "mean      209.321953\n",
       "std       108.067552\n",
       "min         7.141800\n",
       "25%       130.719573\n",
       "50%       210.695887\n",
       "75%       262.212294\n",
       "max       822.382848\n",
       "Name: Weighted_education_rank, dtype: float64"
      ]
     },
     "execution_count": 153,
     "metadata": {},
     "output_type": "execute_result"
    },
    {
     "data": {
      "image/png": "[encoded data removed]",
      "text/plain": [
       "<matplotlib.figure.Figure at 0x117ddb390>"
      ]
     },
     "metadata": {},
     "output_type": "display_data"
    }
   ],
   "source": [
    "print('Null values: '+str(data['Weighted_education_rank'].isnull().sum()))\n",
    "data['Weighted_education_rank'].hist()\n",
    "data['Weighted_education_rank'].describe()"
   ]
  },
  {
   "cell_type": "markdown",
   "metadata": {},
   "source": [
    "The data is distributed pretty much as I expected, with left bias, so I may want to use the median here."
   ]
  },
  {
   "cell_type": "code",
   "execution_count": 154,
   "metadata": {},
   "outputs": [
    {
     "name": "stdout",
     "output_type": "stream",
     "text": [
      "Null values: 198\n"
     ]
    },
    {
     "data": {
      "text/plain": [
       "count    9802.000000\n",
       "mean     4903.513229\n",
       "std      1403.175058\n",
       "min        22.935633\n",
       "25%      3932.797969\n",
       "50%      4709.669212\n",
       "75%      5646.993685\n",
       "max      9284.400211\n",
       "Name: Avg_monthly_expense_on_pets_or_plants, dtype: float64"
      ]
     },
     "execution_count": 154,
     "metadata": {},
     "output_type": "execute_result"
    },
    {
     "data": {
      "image/png": "[encoded data removed]",
      "text/plain": [
       "<matplotlib.figure.Figure at 0x108f8f050>"
      ]
     },
     "metadata": {},
     "output_type": "display_data"
    }
   ],
   "source": [
    "print('Null values: '+str(data['Avg_monthly_expense_on_pets_or_plants'].isnull().sum()))\n",
    "data['Avg_monthly_expense_on_pets_or_plants'].hist()\n",
    "data['Avg_monthly_expense_on_pets_or_plants'].describe()"
   ]
  },
  {
   "cell_type": "markdown",
   "metadata": {},
   "source": [
    "The data distribution is pretty surprising , it looks pretty much normal, so I may want to use the mean here."
   ]
  },
  {
   "cell_type": "code",
   "execution_count": 115,
   "metadata": {},
   "outputs": [
    {
     "name": "stdout",
     "output_type": "stream",
     "text": [
      "Null values: 198\n"
     ]
    },
    {
     "data": {
      "text/plain": [
       "count    9802.000000\n",
       "mean       49.823139\n",
       "std        29.111249\n",
       "min         0.012620\n",
       "25%        24.468975\n",
       "50%        49.709433\n",
       "75%        75.281457\n",
       "max        99.984046\n",
       "Name: %_satisfaction_financial_policy, dtype: float64"
      ]
     },
     "execution_count": 115,
     "metadata": {},
     "output_type": "execute_result"
    },
    {
     "data": {
      "image/png": "[encoded data removed]",
      "text/plain": [
       "<matplotlib.figure.Figure at 0x117ca3d10>"
      ]
     },
     "metadata": {},
     "output_type": "display_data"
    }
   ],
   "source": [
    "print('Null values: '+str(data['%_satisfaction_financial_policy'].isnull().sum()))\n",
    "data['%_satisfaction_financial_policy'].hist()\n",
    "data['%_satisfaction_financial_policy'].describe()"
   ]
  },
  {
   "cell_type": "markdown",
   "metadata": {},
   "source": [
    "The data is distributed pretty much uniformly, so I may want to use EM."
   ]
  },
  {
   "cell_type": "code",
   "execution_count": 155,
   "metadata": {},
   "outputs": [
    {
     "name": "stdout",
     "output_type": "stream",
     "text": [
      "Null values: 195\n"
     ]
    },
    {
     "data": {
      "text/plain": [
       "count    9805.000000\n",
       "mean      679.246658\n",
       "std       126.580099\n",
       "min        26.670526\n",
       "25%       603.732611\n",
       "50%       672.463176\n",
       "75%       767.770344\n",
       "max      1060.929552\n",
       "Name: Political_interest_Total_Score, dtype: float64"
      ]
     },
     "execution_count": 155,
     "metadata": {},
     "output_type": "execute_result"
    },
    {
     "data": {
      "image/png": "[encoded data removed]",
      "text/plain": [
       "<matplotlib.figure.Figure at 0x116a2b750>"
      ]
     },
     "metadata": {},
     "output_type": "display_data"
    }
   ],
   "source": [
    "print('Null values: '+str(data['Political_interest_Total_Score'].isnull().sum()))\n",
    "data['Political_interest_Total_Score'].hist()\n",
    "data['Political_interest_Total_Score'].describe()"
   ]
  },
  {
   "cell_type": "markdown",
   "metadata": {},
   "source": [
    "The data is distributed with a right bias, so I may want to use the median here."
   ]
  },
  {
   "cell_type": "code",
   "execution_count": 117,
   "metadata": {},
   "outputs": [
    {
     "name": "stdout",
     "output_type": "stream",
     "text": [
      "Null values: 194\n"
     ]
    },
    {
     "data": {
      "text/plain": [
       "count    9806.000000\n",
       "mean       20.737681\n",
       "std         2.847497\n",
       "min         1.092153\n",
       "25%        19.506124\n",
       "50%        20.779797\n",
       "75%        22.268272\n",
       "max        28.671832\n",
       "Name: Avg_size_per_room, dtype: float64"
      ]
     },
     "execution_count": 117,
     "metadata": {},
     "output_type": "execute_result"
    },
    {
     "data": {
      "image/png": "[encoded data removed]",
      "text/plain": [
       "<matplotlib.figure.Figure at 0x117284610>"
      ]
     },
     "metadata": {},
     "output_type": "display_data"
    }
   ],
   "source": [
    "print('Null values: '+str(data['Avg_size_per_room'].isnull().sum()))\n",
    "data['Avg_size_per_room'].hist()\n",
    "data['Avg_size_per_room'].describe()"
   ]
  },
  {
   "cell_type": "markdown",
   "metadata": {},
   "source": [
    "The data is distributed with a right bias, so I may want to use the median here."
   ]
  },
  {
   "cell_type": "code",
   "execution_count": 118,
   "metadata": {},
   "outputs": [
    {
     "name": "stdout",
     "output_type": "stream",
     "text": [
      "Null values: 194\n"
     ]
    },
    {
     "data": {
      "text/plain": [
       "count    9806.000000\n",
       "mean        4.987585\n",
       "std         2.895290\n",
       "min         0.000001\n",
       "25%         2.467898\n",
       "50%         4.996661\n",
       "75%         7.492286\n",
       "max         9.999719\n",
       "Name: Avg_government_satisfaction, dtype: float64"
      ]
     },
     "execution_count": 118,
     "metadata": {},
     "output_type": "execute_result"
    },
    {
     "data": {
      "image/png": "[encoded data removed]",
      "text/plain": [
       "<matplotlib.figure.Figure at 0x117873090>"
      ]
     },
     "metadata": {},
     "output_type": "display_data"
    }
   ],
   "source": [
    "print('Null values: '+str(data['Avg_government_satisfaction'].isnull().sum()))\n",
    "data['Avg_government_satisfaction'].hist()\n",
    "data['Avg_government_satisfaction'].describe()"
   ]
  },
  {
   "cell_type": "markdown",
   "metadata": {},
   "source": [
    "The data is distributed pretty much uniformly, so I may want to use EM."
   ]
  },
  {
   "cell_type": "code",
   "execution_count": 119,
   "metadata": {},
   "outputs": [
    {
     "name": "stdout",
     "output_type": "stream",
     "text": [
      "Null values: 191\n"
     ]
    },
    {
     "data": {
      "text/plain": [
       "count    9809.000000\n",
       "mean        5.511367\n",
       "std         2.855781\n",
       "min         1.000000\n",
       "25%         3.000000\n",
       "50%         6.000000\n",
       "75%         8.000000\n",
       "max        10.000000\n",
       "Name: Occupation_Satisfaction, dtype: float64"
      ]
     },
     "execution_count": 119,
     "metadata": {},
     "output_type": "execute_result"
    },
    {
     "data": {
      "image/png": "[encoded data removed]",
      "text/plain": [
       "<matplotlib.figure.Figure at 0x116fe9690>"
      ]
     },
     "metadata": {},
     "output_type": "display_data"
    }
   ],
   "source": [
    "print('Null values: '+str(data['Occupation_Satisfaction'].isnull().sum()))\n",
    "data['Occupation_Satisfaction'].hist()\n",
    "data['Occupation_Satisfaction'].describe()"
   ]
  },
  {
   "cell_type": "markdown",
   "metadata": {},
   "source": [
    "This result is rather disappointing, it means that people's opinion about the occupation is somewhat random... I go with EM."
   ]
  },
  {
   "cell_type": "code",
   "execution_count": 120,
   "metadata": {},
   "outputs": [
    {
     "name": "stdout",
     "output_type": "stream",
     "text": [
      "Null values: 191\n"
     ]
    },
    {
     "data": {
      "text/plain": [
       "count    9809.000000\n",
       "mean      507.643792\n",
       "std       433.518917\n",
       "min      -855.714730\n",
       "25%       199.225499\n",
       "50%       387.469720\n",
       "75%       708.293034\n",
       "max      2305.237140\n",
       "Name: Avg_monthly_expense_when_under_age_21, dtype: float64"
      ]
     },
     "execution_count": 120,
     "metadata": {},
     "output_type": "execute_result"
    },
    {
     "data": {
      "image/png": "[encoded data removed]",
      "text/plain": [
       "<matplotlib.figure.Figure at 0x117570e50>"
      ]
     },
     "metadata": {},
     "output_type": "display_data"
    }
   ],
   "source": [
    "print('Null values: '+str(data['Avg_monthly_expense_when_under_age_21'].isnull().sum()))\n",
    "data['Avg_monthly_expense_when_under_age_21'].hist()\n",
    "data['Avg_monthly_expense_when_under_age_21'].describe()"
   ]
  },
  {
   "cell_type": "markdown",
   "metadata": {},
   "source": [
    "The data is distributed close enough to normal, so I may want to use mean."
   ]
  },
  {
   "cell_type": "code",
   "execution_count": 121,
   "metadata": {},
   "outputs": [
    {
     "name": "stdout",
     "output_type": "stream",
     "text": [
      "Null values: 190\n"
     ]
    },
    {
     "data": {
      "text/plain": [
       "count    9810.000000\n",
       "mean        0.500668\n",
       "std         0.288094\n",
       "min         0.000078\n",
       "25%         0.248523\n",
       "50%         0.500569\n",
       "75%         0.746059\n",
       "max         0.999887\n",
       "Name: Financial_balance_score_(0-1), dtype: float64"
      ]
     },
     "execution_count": 121,
     "metadata": {},
     "output_type": "execute_result"
    },
    {
     "data": {
      "image/png": "[encoded data removed]",
      "text/plain": [
       "<matplotlib.figure.Figure at 0x116fe9a90>"
      ]
     },
     "metadata": {},
     "output_type": "display_data"
    }
   ],
   "source": [
    "print('Null values: '+str(data['Financial_balance_score_(0-1)'].isnull().sum()))\n",
    "data['Financial_balance_score_(0-1)'].hist()\n",
    "data['Financial_balance_score_(0-1)'].describe()"
   ]
  },
  {
   "cell_type": "markdown",
   "metadata": {},
   "source": [
    "The data is distributed pretty much uniformly, so I may want to use EM."
   ]
  },
  {
   "cell_type": "code",
   "execution_count": 124,
   "metadata": {},
   "outputs": [
    {
     "name": "stdout",
     "output_type": "stream",
     "text": [
      "Null values: 188\n"
     ]
    },
    {
     "data": {
      "text/plain": [
       "count     9812.000000\n",
       "mean     53123.228956\n",
       "std      10176.177268\n",
       "min       2033.869585\n",
       "25%      47228.700051\n",
       "50%      52987.621064\n",
       "75%      58619.115582\n",
       "max      84501.359760\n",
       "Name: Avg_monthly_household_cost, dtype: float64"
      ]
     },
     "execution_count": 124,
     "metadata": {},
     "output_type": "execute_result"
    },
    {
     "data": {
      "image/png": "[encoded data removed]",
      "text/plain": [
       "<matplotlib.figure.Figure at 0x117075910>"
      ]
     },
     "metadata": {},
     "output_type": "display_data"
    }
   ],
   "source": [
    "print('Null values: '+str(data['Avg_monthly_household_cost'].isnull().sum()))\n",
    "data['Avg_monthly_household_cost'].hist()\n",
    "data['Avg_monthly_household_cost'].describe()"
   ]
  },
  {
   "cell_type": "markdown",
   "metadata": {},
   "source": [
    "The data is distributed close enough to normal, so I may want to use mean."
   ]
  },
  {
   "cell_type": "code",
   "execution_count": 125,
   "metadata": {},
   "outputs": [
    {
     "name": "stdout",
     "output_type": "stream",
     "text": [
      "Null values: 188\n"
     ]
    },
    {
     "data": {
      "text/plain": [
       "count    9812.000000\n",
       "mean      438.067689\n",
       "std       104.906893\n",
       "min         1.192798\n",
       "25%       380.418268\n",
       "50%       431.929888\n",
       "75%       495.842797\n",
       "max       822.073937\n",
       "Name: Yearly_IncomeK, dtype: float64"
      ]
     },
     "execution_count": 125,
     "metadata": {},
     "output_type": "execute_result"
    },
    {
     "data": {
      "image/png": "[encoded data removed]",
      "text/plain": [
       "<matplotlib.figure.Figure at 0x1187deb50>"
      ]
     },
     "metadata": {},
     "output_type": "display_data"
    }
   ],
   "source": [
    "print('Null values: '+str(data['Yearly_IncomeK'].isnull().sum()))\n",
    "data['Yearly_IncomeK'].hist()\n",
    "data['Yearly_IncomeK'].describe()"
   ]
  },
  {
   "cell_type": "markdown",
   "metadata": {},
   "source": [
    "The data is distributed close enough to normal, so I may want to use mean."
   ]
  },
  {
   "cell_type": "code",
   "execution_count": 68,
   "metadata": {},
   "outputs": [
    {
     "data": {
      "text/plain": [
       "count    9813.000000\n",
       "mean        0.500361\n",
       "std         0.286215\n",
       "min         0.000413\n",
       "25%         0.255014\n",
       "50%         0.503486\n",
       "75%         0.743708\n",
       "max         0.999597\n",
       "Name: %Of_Household_Income, dtype: float64"
      ]
     },
     "execution_count": 68,
     "metadata": {},
     "output_type": "execute_result"
    },
    {
     "data": {
      "image/png": "[encoded data removed]",
      "text/plain": [
       "<matplotlib.figure.Figure at 0x117f52b50>"
      ]
     },
     "metadata": {},
     "output_type": "display_data"
    }
   ],
   "source": [
    "print('Null values: '+str(data['%Of_Household_Income'].isnull().sum()))\n",
    "data['%Of_Household_Income'].hist()\n",
    "data['%Of_Household_Income'].describe()"
   ]
  },
  {
   "cell_type": "markdown",
   "metadata": {},
   "source": [
    "The data is distributed pretty much uniformly, so I may want to use EM."
   ]
  },
  {
   "cell_type": "code",
   "execution_count": 69,
   "metadata": {},
   "outputs": [
    {
     "data": {
      "text/plain": [
       "count    9816.000000\n",
       "mean       10.003362\n",
       "std         2.775684\n",
       "min         5.000000\n",
       "25%         8.000000\n",
       "50%        10.000000\n",
       "75%        12.000000\n",
       "max        16.000000\n",
       "Name: Number_of_valued_Kneset_members, dtype: float64"
      ]
     },
     "execution_count": 69,
     "metadata": {},
     "output_type": "execute_result"
    },
    {
     "data": {
      "image/png": "[encoded data removed]",
      "text/plain": [
       "<matplotlib.figure.Figure at 0x117dbc710>"
      ]
     },
     "metadata": {},
     "output_type": "display_data"
    }
   ],
   "source": [
    "print('Null values: '+str(data['Number_of_valued_Kneset_members'].isnull().sum()))\n",
    "data['Number_of_valued_Kneset_members'].hist()\n",
    "data['Number_of_valued_Kneset_members'].describe()"
   ]
  },
  {
   "cell_type": "markdown",
   "metadata": {},
   "source": [
    "The data is distributed pretty much uniformly, so I may want to use EM."
   ]
  },
  {
   "cell_type": "code",
   "execution_count": 126,
   "metadata": {},
   "outputs": [
    {
     "name": "stdout",
     "output_type": "stream",
     "text": [
      "Null values: 182\n"
     ]
    },
    {
     "data": {
      "text/plain": [
       "count      9818.000000\n",
       "mean      67380.919408\n",
       "std       69473.844694\n",
       "min     -166375.186748\n",
       "25%       24420.519122\n",
       "50%       48410.029203\n",
       "75%       86099.873686\n",
       "max      560309.089996\n",
       "Name: AVG_lottary_expanses, dtype: float64"
      ]
     },
     "execution_count": 126,
     "metadata": {},
     "output_type": "execute_result"
    },
    {
     "data": {
      "image/png": "[encoded data removed]",
      "text/plain": [
       "<matplotlib.figure.Figure at 0x11877bc10>"
      ]
     },
     "metadata": {},
     "output_type": "display_data"
    }
   ],
   "source": [
    "print('Null values: '+str(data['AVG_lottary_expanses'].isnull().sum()))\n",
    "data['AVG_lottary_expanses'].hist()\n",
    "data['AVG_lottary_expanses'].describe()"
   ]
  },
  {
   "cell_type": "markdown",
   "metadata": {},
   "source": [
    "The data is distributed with a left bias, so I may want to use the median here. Also, it seems that there are negative outliars."
   ]
  },
  {
   "cell_type": "code",
   "execution_count": 128,
   "metadata": {},
   "outputs": [
    {
     "name": "stdout",
     "output_type": "stream",
     "text": [
      "Null values: 178\n"
     ]
    },
    {
     "data": {
      "text/plain": [
       "count    9822.000000\n",
       "mean      489.970994\n",
       "std       114.889986\n",
       "min         1.641626\n",
       "25%       420.440579\n",
       "50%       484.003063\n",
       "75%       562.308711\n",
       "max       810.486075\n",
       "Name: Overall_happiness_score, dtype: float64"
      ]
     },
     "execution_count": 128,
     "metadata": {},
     "output_type": "execute_result"
    },
    {
     "data": {
      "image/png": "[encoded data removed]",
      "text/plain": [
       "<matplotlib.figure.Figure at 0x117ea35d0>"
      ]
     },
     "metadata": {},
     "output_type": "display_data"
    }
   ],
   "source": [
    "print('Null values: '+str(data['Overall_happiness_score'].isnull().sum()))\n",
    "data['Overall_happiness_score'].hist()\n",
    "data['Overall_happiness_score'].describe()"
   ]
  },
  {
   "cell_type": "markdown",
   "metadata": {},
   "source": [
    "    The data is distributed close enough to normal, so I may want to use mean."
   ]
  },
  {
   "cell_type": "code",
   "execution_count": 72,
   "metadata": {},
   "outputs": [
    {
     "data": {
      "text/plain": [
       "count      9822.000000\n",
       "mean     179865.608911\n",
       "std      119407.132412\n",
       "min           2.286014\n",
       "25%       94209.852375\n",
       "50%      151463.700276\n",
       "75%      229946.179636\n",
       "max      732731.809380\n",
       "Name: Phone_minutes_10_years, dtype: float64"
      ]
     },
     "execution_count": 72,
     "metadata": {},
     "output_type": "execute_result"
    },
    {
     "data": {
      "image/png": "[encoded data removed]",
      "text/plain": [
       "<matplotlib.figure.Figure at 0x116713310>"
      ]
     },
     "metadata": {},
     "output_type": "display_data"
    }
   ],
   "source": [
    "print('Null values: '+str(data['Phone_minutes_10_years'].isnull().sum()))\n",
    "data['Phone_minutes_10_years'].hist()\n",
    "data['Phone_minutes_10_years'].describe()"
   ]
  },
  {
   "cell_type": "markdown",
   "metadata": {},
   "source": [
    "The data is distributed with a left bias, so I may want to use the median here."
   ]
  },
  {
   "cell_type": "code",
   "execution_count": 130,
   "metadata": {},
   "outputs": [
    {
     "name": "stdout",
     "output_type": "stream",
     "text": [
      "Null values: 177\n"
     ]
    },
    {
     "data": {
      "text/plain": [
       "count    9823.000000\n",
       "mean        4.972167\n",
       "std         2.890531\n",
       "min         0.001093\n",
       "25%         2.442561\n",
       "50%         4.988862\n",
       "75%         7.505488\n",
       "max         9.999959\n",
       "Name: Avg_Residancy_Altitude, dtype: float64"
      ]
     },
     "execution_count": 130,
     "metadata": {},
     "output_type": "execute_result"
    },
    {
     "data": {
      "image/png": "[encoded data removed]",
      "text/plain": [
       "<matplotlib.figure.Figure at 0x1179b6690>"
      ]
     },
     "metadata": {},
     "output_type": "display_data"
    }
   ],
   "source": [
    "print('Null values: '+str(data['Avg_Residancy_Altitude'].isnull().sum()))\n",
    "data['Avg_Residancy_Altitude'].hist()\n",
    "data['Avg_Residancy_Altitude'].describe()"
   ]
  },
  {
   "cell_type": "markdown",
   "metadata": {},
   "source": [
    "The data is distributed pretty much uniformly, so I may want to use EM."
   ]
  },
  {
   "cell_type": "code",
   "execution_count": 74,
   "metadata": {},
   "outputs": [
    {
     "data": {
      "text/plain": [
       "count      9824.000000\n",
       "mean      49720.908740\n",
       "std       84550.825549\n",
       "min           9.832899\n",
       "25%        4637.836638\n",
       "50%       17013.740107\n",
       "75%       56112.165912\n",
       "max      591235.998174\n",
       "Name: Avg_monthly_income_all_years, dtype: float64"
      ]
     },
     "execution_count": 74,
     "metadata": {},
     "output_type": "execute_result"
    },
    {
     "data": {
      "image/png": "[encoded data removed]",
      "text/plain": [
       "<matplotlib.figure.Figure at 0x117a23110>"
      ]
     },
     "metadata": {},
     "output_type": "display_data"
    }
   ],
   "source": [
    "print('Null values: '+str(data['Avg_monthly_income_all_years'].isnull().sum()))\n",
    "data['Avg_monthly_income_all_years'].hist()\n",
    "data['Avg_monthly_income_all_years'].describe()"
   ]
  },
  {
   "cell_type": "markdown",
   "metadata": {},
   "source": [
    "The data is distributed with a left bias, so I may want to use the median here."
   ]
  },
  {
   "cell_type": "code",
   "execution_count": 75,
   "metadata": {},
   "outputs": [
    {
     "data": {
      "text/plain": [
       "count    9829.000000\n",
       "mean      169.002686\n",
       "std       144.476593\n",
       "min      -285.238243\n",
       "25%        66.121900\n",
       "50%       128.670084\n",
       "75%       235.848891\n",
       "max       768.412380\n",
       "Name: Avg_Satisfaction_with_previous_vote, dtype: float64"
      ]
     },
     "execution_count": 75,
     "metadata": {},
     "output_type": "execute_result"
    },
    {
     "data": {
      "image/png": "[encoded data removed]",
      "text/plain": [
       "<matplotlib.figure.Figure at 0x117f7c4d0>"
      ]
     },
     "metadata": {},
     "output_type": "display_data"
    }
   ],
   "source": [
    "print('Null values: '+str(data['Avg_Satisfaction_with_previous_vote'].isnull().sum()))\n",
    "data['Avg_Satisfaction_with_previous_vote'].hist()\n",
    "data['Avg_Satisfaction_with_previous_vote'].describe()"
   ]
  },
  {
   "cell_type": "markdown",
   "metadata": {},
   "source": [
    "The data is distributed with a left bias, so I may want to use the median here."
   ]
  },
  {
   "cell_type": "code",
   "execution_count": 76,
   "metadata": {},
   "outputs": [
    {
     "data": {
      "text/plain": [
       "count    9835.000000\n",
       "mean       73.415353\n",
       "std        20.021796\n",
       "min        30.000000\n",
       "25%        60.000000\n",
       "50%        70.000000\n",
       "75%        90.000000\n",
       "max       100.000000\n",
       "Name: Last_school_grades, dtype: float64"
      ]
     },
     "execution_count": 76,
     "metadata": {},
     "output_type": "execute_result"
    },
    {
     "data": {
      "image/png": "[encoded data removed]",
      "text/plain": [
       "<matplotlib.figure.Figure at 0x117137e10>"
      ]
     },
     "metadata": {},
     "output_type": "display_data"
    }
   ],
   "source": [
    "print('Null values: '+str(data['Last_school_grades'].isnull().sum()))\n",
    "data['Last_school_grades'].hist()\n",
    "data['Last_school_grades'].describe()"
   ]
  },
  {
   "cell_type": "code",
   "execution_count": 77,
   "metadata": {},
   "outputs": [
    {
     "data": {
      "text/plain": [
       "count    9835.000000\n",
       "mean        1.998983\n",
       "std         1.252778\n",
       "min         0.000000\n",
       "25%         1.000000\n",
       "50%         2.000000\n",
       "75%         3.000000\n",
       "max         7.000000\n",
       "Name: Number_of_differnt_parties_voted_for, dtype: float64"
      ]
     },
     "execution_count": 77,
     "metadata": {},
     "output_type": "execute_result"
    },
    {
     "data": {
      "image/png": "[encoded data removed]",
      "text/plain": [
       "<matplotlib.figure.Figure at 0x1175ea690>"
      ]
     },
     "metadata": {},
     "output_type": "display_data"
    }
   ],
   "source": [
    "print('Null values: '+str(data['Number_of_differnt_parties_voted_for'].isnull().sum()))\n",
    "data['Number_of_differnt_parties_voted_for'].hist()\n",
    "data['Number_of_differnt_parties_voted_for'].describe()"
   ]
  },
  {
   "cell_type": "code",
   "execution_count": 135,
   "metadata": {},
   "outputs": [
    {
     "name": "stdout",
     "output_type": "stream",
     "text": [
      "Null values: 0\n"
     ]
    },
    {
     "data": {
      "text/plain": [
       "array([0, 2, 3, 4, 1, 5])"
      ]
     },
     "execution_count": 135,
     "metadata": {},
     "output_type": "execute_result"
    },
    {
     "data": {
      "image/png": "[encoded data removed]",
      "text/plain": [
       "<matplotlib.figure.Figure at 0x117c4bb50>"
      ]
     },
     "metadata": {},
     "output_type": "display_data"
    }
   ],
   "source": [
    "print('Null values: '+str(data['Occupation_int'].isnull().sum()))\n",
    "data['Occupation_int'].replace(to_replace=-9223372036854775808, value=5, inplace=True)\n",
    "data['Occupation_int'].hist()\n",
    "data['Occupation_int'].unique()"
   ]
  },
  {
   "cell_type": "code",
   "execution_count": 134,
   "metadata": {},
   "outputs": [
    {
     "name": "stdout",
     "output_type": "stream",
     "text": [
      "Null values: 0\n"
     ]
    },
    {
     "data": {
      "text/plain": [
       "array([3, 2, 1, 0, 4])"
      ]
     },
     "execution_count": 134,
     "metadata": {},
     "output_type": "execute_result"
    },
    {
     "data": {
      "image/png": "[encoded data removed]",
      "text/plain": [
       "<matplotlib.figure.Figure at 0x11762ba90>"
      ]
     },
     "metadata": {},
     "output_type": "display_data"
    }
   ],
   "source": [
    "print('Null values: '+str(data['Main_transportation_int'].isnull().sum()))\n",
    "data['Main_transportation_int'].replace(to_replace=-9223372036854775808, value=4, inplace=True)\n",
    "data['Main_transportation_int'].hist()\n",
    "data['Main_transportation_int'].unique()"
   ]
  },
  {
   "cell_type": "code",
   "execution_count": 80,
   "metadata": {},
   "outputs": [
    {
     "data": {
      "text/plain": [
       "array([ 0,  1, -1])"
      ]
     },
     "execution_count": 80,
     "metadata": {},
     "output_type": "execute_result"
    },
    {
     "data": {
      "image/png": "[encoded data removed]",
      "text/plain": [
       "<matplotlib.figure.Figure at 0x117509810>"
      ]
     },
     "metadata": {},
     "output_type": "display_data"
    }
   ],
   "source": [
    "print('Null values: '+str(data['Looking_at_poles_results_int'].isnull().sum()))\n",
    "data['Looking_at_poles_results_int'].hist()\n",
    "data['Looking_at_poles_results_int'].unique()"
   ]
  },
  {
   "cell_type": "code",
   "execution_count": 81,
   "metadata": {},
   "outputs": [
    {
     "data": {
      "text/plain": [
       "array([ 1,  0, -1])"
      ]
     },
     "execution_count": 81,
     "metadata": {},
     "output_type": "execute_result"
    },
    {
     "data": {
      "image/png": "[encoded data removed]",
      "text/plain": [
       "<matplotlib.figure.Figure at 0x11766dc90>"
      ]
     },
     "metadata": {},
     "output_type": "display_data"
    }
   ],
   "source": [
    "print('Null values: '+str(data['Married_int'].isnull().sum()))\n",
    "data['Married_int'].hist()\n",
    "data['Married_int'].unique()"
   ]
  },
  {
   "cell_type": "code",
   "execution_count": 82,
   "metadata": {},
   "outputs": [
    {
     "data": {
      "text/plain": [
       "array([ 0,  1, -1])"
      ]
     },
     "execution_count": 82,
     "metadata": {},
     "output_type": "execute_result"
    },
    {
     "data": {
      "image/png": "[encoded data removed]",
      "text/plain": [
       "<matplotlib.figure.Figure at 0x117494f90>"
      ]
     },
     "metadata": {},
     "output_type": "display_data"
    }
   ],
   "source": [
    "print('Null values: '+str(data['Gender_int'].isnull().sum()))\n",
    "data['Gender_int'].hist()\n",
    "data['Gender_int'].unique()"
   ]
  },
  {
   "cell_type": "code",
   "execution_count": 83,
   "metadata": {},
   "outputs": [
    {
     "data": {
      "text/plain": [
       "array([ 1,  0, -1])"
      ]
     },
     "execution_count": 83,
     "metadata": {},
     "output_type": "execute_result"
    },
    {
     "data": {
      "image/png": "[encoded data removed]",
      "text/plain": [
       "<matplotlib.figure.Figure at 0x117984490>"
      ]
     },
     "metadata": {},
     "output_type": "display_data"
    }
   ],
   "source": [
    "print('Null values: '+str(data['Voting_Time_int'].isnull().sum()))\n",
    "data['Voting_Time_int'].hist()\n",
    "data['Voting_Time_int'].unique()"
   ]
  },
  {
   "cell_type": "code",
   "execution_count": 84,
   "metadata": {},
   "outputs": [
    {
     "data": {
      "text/plain": [
       "array([ 0,  1, -1])"
      ]
     },
     "execution_count": 84,
     "metadata": {},
     "output_type": "execute_result"
    },
    {
     "data": {
      "image/png": "[encoded data removed]",
      "text/plain": [
       "<matplotlib.figure.Figure at 0x11798ead0>"
      ]
     },
     "metadata": {},
     "output_type": "display_data"
    }
   ],
   "source": [
    "print('Null values: '+str(data['Financial_agenda_matters_int'].isnull().sum()))\n",
    "data['Financial_agenda_matters_int'].hist()\n",
    "data['Financial_agenda_matters_int'].unique()"
   ]
  },
  {
   "cell_type": "code",
   "execution_count": 133,
   "metadata": {},
   "outputs": [
    {
     "name": "stdout",
     "output_type": "stream",
     "text": [
      "Null values: 0\n"
     ]
    },
    {
     "data": {
      "text/plain": [
       "array([4, 1, 7, 5, 2, 0, 6, 3, 8])"
      ]
     },
     "execution_count": 133,
     "metadata": {},
     "output_type": "execute_result"
    },
    {
     "data": {
      "image/png": "[encoded data removed]",
      "text/plain": [
       "<matplotlib.figure.Figure at 0x10ea5e790>"
      ]
     },
     "metadata": {},
     "output_type": "display_data"
    }
   ],
   "source": [
    "print('Null values: '+str(data['Most_Important_Issue_int'].isnull().sum()))\n",
    "data['Most_Important_Issue_int'].replace(to_replace=-9223372036854775808, value=8, inplace=True)\n",
    "data['Most_Important_Issue_int'].hist()\n",
    "data['Most_Important_Issue_int'].unique()"
   ]
  },
  {
   "cell_type": "code",
   "execution_count": 132,
   "metadata": {},
   "outputs": [
    {
     "name": "stdout",
     "output_type": "stream",
     "text": [
      "Null values: 0\n"
     ]
    },
    {
     "data": {
      "text/plain": [
       "array([1, 0, 2, 3])"
      ]
     },
     "execution_count": 132,
     "metadata": {},
     "output_type": "execute_result"
    },
    {
     "data": {
      "image/png": "[encoded data removed]",
      "text/plain": [
       "<matplotlib.figure.Figure at 0x117eee510>"
      ]
     },
     "metadata": {},
     "output_type": "display_data"
    }
   ],
   "source": [
    "print('Null values: '+str(data['Age_group_int'].isnull().sum()))\n",
    "data['Age_group_int'].replace(to_replace=-9223372036854775808, value=3, inplace=True)\n",
    "data['Age_group_int'].hist()\n",
    "data['Age_group_int'].unique()"
   ]
  },
  {
   "cell_type": "code",
   "execution_count": 176,
   "metadata": {},
   "outputs": [
    {
     "name": "stdout",
     "output_type": "stream",
     "text": [
      "Null values: 0\n"
     ]
    },
    {
     "data": {
      "text/plain": [
       "array([1, 2, 0, 3])"
      ]
     },
     "execution_count": 176,
     "metadata": {},
     "output_type": "execute_result"
    },
    {
     "data": {
      "image/png": "[encoded data removed]",
      "text/plain": [
       "<matplotlib.figure.Figure at 0x116a64dd0>"
      ]
     },
     "metadata": {},
     "output_type": "display_data"
    }
   ],
   "source": [
    "print('Null values: '+str(data['Will_vote_only_large_party_int'].isnull().sum()))\n",
    "data['Will_vote_only_large_party_int'].replace(to_replace=-9223372036854775808, value=3, inplace=True)\n",
    "data['Will_vote_only_large_party_int'].hist()\n",
    "data['Will_vote_only_large_party_int'].unique()"
   ]
  },
  {
   "cell_type": "code",
   "execution_count": null,
   "metadata": {
    "collapsed": true
   },
   "outputs": [],
   "source": []
  },
  {
   "cell_type": "code",
   "execution_count": null,
   "metadata": {
    "collapsed": true
   },
   "outputs": [],
   "source": []
  },
  {
   "cell_type": "code",
   "execution_count": 156,
   "metadata": {},
   "outputs": [
    {
     "data": {
      "text/plain": [
       "Avg_environmental_importance                     217\n",
       "Yearly_ExpensesK                                 210\n",
       "Garden_sqr_meter_per_person_in_residancy_area    206\n",
       "Num_of_kids_born_last_10_years                   205\n",
       "%Time_invested_in_work                           205\n",
       "Weighted_education_rank                          203\n",
       "Avg_monthly_expense_on_pets_or_plants            198\n",
       "%_satisfaction_financial_policy                  198\n",
       "Political_interest_Total_Score                   195\n",
       "Avg_size_per_room                                194\n",
       "Avg_government_satisfaction                      194\n",
       "Occupation_Satisfaction                          191\n",
       "Avg_monthly_expense_when_under_age_21            191\n",
       "Financial_balance_score_(0-1)                    190\n",
       "Avg_monthly_household_cost                       188\n",
       "Yearly_IncomeK                                   188\n",
       "%Of_Household_Income                             187\n",
       "Number_of_valued_Kneset_members                  184\n",
       "AVG_lottary_expanses                             182\n",
       "Overall_happiness_score                          178\n",
       "Phone_minutes_10_years                           178\n",
       "Avg_Residancy_Altitude                           177\n",
       "Avg_education_importance                         177\n",
       "Avg_monthly_income_all_years                     176\n",
       "Avg_Satisfaction_with_previous_vote              171\n",
       "Last_school_grades                               165\n",
       "Number_of_differnt_parties_voted_for             165\n",
       "Occupation_int                                     0\n",
       "Main_transportation_int                            0\n",
       "Looking_at_poles_results_int                       0\n",
       "Married_int                                        0\n",
       "Gender_int                                         0\n",
       "Voting_Time_int                                    0\n",
       "Financial_agenda_matters_int                       0\n",
       "Most_Important_Issue_int                           0\n",
       "Age_group_int                                      0\n",
       "Will_vote_only_large_party_int                     0\n",
       "Vote                                               0\n",
       "dtype: int64"
      ]
     },
     "execution_count": 156,
     "metadata": {},
     "output_type": "execute_result"
    }
   ],
   "source": [
    "data.isnull().sum().sort_values(ascending=False)"
   ]
  },
  {
   "cell_type": "code",
   "execution_count": null,
   "metadata": {
    "collapsed": true
   },
   "outputs": [],
   "source": []
  },
  {
   "cell_type": "markdown",
   "metadata": {},
   "source": [
    "Data Cleansing:"
   ]
  },
  {
   "cell_type": "markdown",
   "metadata": {},
   "source": [
    "Normalization:"
   ]
  },
  {
   "cell_type": "markdown",
   "metadata": {},
   "source": [
    "Feature Selection:"
   ]
  },
  {
   "cell_type": "markdown",
   "metadata": {},
   "source": [
    "## Split data to train, test and validation:"
   ]
  },
  {
   "cell_type": "code",
   "execution_count": 52,
   "metadata": {
    "collapsed": true
   },
   "outputs": [],
   "source": [
    "train, validate, test = np.split(data.sample(frac=1), [int(.6*len(data)), int(.8*len(data))])"
   ]
  },
  {
   "cell_type": "markdown",
   "metadata": {},
   "source": [
    "## Save to csv:"
   ]
  },
  {
   "cell_type": "code",
   "execution_count": 54,
   "metadata": {
    "collapsed": true
   },
   "outputs": [],
   "source": [
    "train.to_csv(\"train.csv\", index=False)\n",
    "test.to_csv(\"test.csv\", index=False)\n",
    "validate.to_csv(\"validate.csv\", index=False)"
   ]
  },
  {
   "cell_type": "code",
   "execution_count": null,
   "metadata": {
    "collapsed": true
   },
   "outputs": [],
   "source": []
  }
 ],
 "metadata": {
  "kernelspec": {
   "display_name": "Python 2",
   "language": "python",
   "name": "python2"
  },
  "language_info": {
   "codemirror_mode": {
    "name": "ipython",
    "version": 2
   },
   "file_extension": ".py",
   "mimetype": "text/x-python",
   "name": "python",
   "nbconvert_exporter": "python",
   "pygments_lexer": "ipython2",
   "version": "2.7.13"
  }
 },
 "nbformat": 4,
 "nbformat_minor": 2
}
