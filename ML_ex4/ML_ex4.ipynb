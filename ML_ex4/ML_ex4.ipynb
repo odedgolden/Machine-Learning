{
 "cells": [
  {
   "cell_type": "code",
   "execution_count": 1,
   "metadata": {
    "collapsed": true
   },
   "outputs": [],
   "source": [
    "import numpy as np\n",
    "import pandas as pd\n",
    "import matplotlib.pyplot as plt\n",
    "%matplotlib inline\n",
    "from matplotlib.colors import ListedColormap\n",
    "from mpl_toolkits.mplot3d import Axes3D\n",
    "from sklearn import datasets\n",
    "from sklearn.decomposition import PCA\n",
    "from sklearn.feature_selection import SelectKBest, chi2, f_classif\n",
    "from sklearn import preprocessing\n",
    "from sklearn.model_selection import cross_val_score, train_test_split\n",
    "from sklearn.cluster import KMeans\n",
    "from sklearn.naive_bayes import GaussianNB\n",
    "from sklearn.tree import DecisionTreeClassifier\n",
    "from sklearn.linear_model import Perceptron\n",
    "from sklearn.svm import SVC, LinearSVC\n",
    "from sklearn.neural_network import MLPClassifier\n",
    "from sklearn.metrics import confusion_matrix\n",
    "from collections import OrderedDict\n",
    "from sklearn.ensemble import RandomForestRegressor\n",
    "from sklearn.naive_bayes import GaussianNB\n",
    "from sklearn import mixture\n"
   ]
  },
  {
   "cell_type": "markdown",
   "metadata": {
    "collapsed": true
   },
   "source": [
    "# Load the prepared training set"
   ]
  },
  {
   "cell_type": "code",
   "execution_count": 2,
   "metadata": {
    "collapsed": true
   },
   "outputs": [],
   "source": [
    "train = pd.read_csv(\"train.csv\", header=0)\n",
    "test = pd.read_csv(\"test.csv\", header=0)\n",
    "validate = pd.read_csv(\"validate.csv\", header=0)"
   ]
  },
  {
   "cell_type": "markdown",
   "metadata": {},
   "source": [
    "### Arrange the data sets"
   ]
  },
  {
   "cell_type": "code",
   "execution_count": 24,
   "metadata": {
    "collapsed": true
   },
   "outputs": [],
   "source": [
    "X_train = train.drop(['Vote'],1)\n",
    "Y_train = train.Vote\n",
    "# X_train = test.drop(['Vote'],1)\n",
    "# Y_train = test.Vote\n",
    "# X_train = validate.drop(['Vote'],1)\n",
    "# Y_train = validate.Vote"
   ]
  },
  {
   "cell_type": "markdown",
   "metadata": {},
   "source": [
    "Please see the comment regarding the test data sets in the en"
   ]
  },
  {
   "cell_type": "markdown",
   "metadata": {},
   "source": [
    "# Train at least one generative model and one clustering model"
   ]
  },
  {
   "cell_type": "markdown",
   "metadata": {},
   "source": [
    "My mission is to find the most stable\\strong coalision. That is, find p parties that will represnt at least 51% of the votes, and will have the following properties: relatively homogeneous with respect to the\n",
    "participating parties, and very much different from the opposition."
   ]
  },
  {
   "cell_type": "markdown",
   "metadata": {},
   "source": [
    "### First step - clustering using KMeans and GMM for data exploration"
   ]
  },
  {
   "cell_type": "markdown",
   "metadata": {},
   "source": [
    "Since I need p parties with more than 51% of the vote, I will start with k=2. (I will later find that Weighted_education_rank is a very siginificant feature and will uncomment the line in order to check it)"
   ]
  },
  {
   "cell_type": "markdown",
   "metadata": {},
   "source": [
    "After trying both GMM and Kmeans, investigating the results of the Kmeans seemed to make more sense to me, since the sizes of the cluster and the semantics were more reasonable to me."
   ]
  },
  {
   "cell_type": "code",
   "execution_count": 4,
   "metadata": {},
   "outputs": [],
   "source": [
    "# X_train = X_train.drop(['Weighted_education_rank'],1)\n",
    "# X_train['Weighted_education_rank'] = X_train['Weighted_education_rank']+ X_train['Weighted_education_rank_isNull']\n",
    "kmeans = KMeans(n_clusters=2, random_state=0).fit(X_train)\n",
    "gmm = mixture.GaussianMixture(n_components=2, covariance_type='tied').fit(X_train)\n"
   ]
  },
  {
   "cell_type": "code",
   "execution_count": 5,
   "metadata": {},
   "outputs": [],
   "source": [
    "gmm_labels = gmm.predict(X_train)"
   ]
  },
  {
   "cell_type": "code",
   "execution_count": 6,
   "metadata": {},
   "outputs": [
    {
     "data": {
      "text/plain": [
       "array([0, 0, 0, ..., 0, 1, 1], dtype=int32)"
      ]
     },
     "execution_count": 6,
     "metadata": {},
     "output_type": "execute_result"
    }
   ],
   "source": [
    "kmeans.labels_"
   ]
  },
  {
   "cell_type": "markdown",
   "metadata": {},
   "source": [
    "Calculate the size of every party in each cluster:"
   ]
  },
  {
   "cell_type": "code",
   "execution_count": 7,
   "metadata": {
    "collapsed": true
   },
   "outputs": [],
   "source": [
    "cluster_a = {'Purples':0, 'Browns':0, 'Greens':0, 'Blues':0, 'Whites':0, 'Pinks':0, 'Reds':0,\n",
    "       'Oranges':0, 'Yellows':0, 'Greys':0}\n",
    "cluster_b = {'Purples':0, 'Browns':0, 'Greens':0, 'Blues':0, 'Whites':0, 'Pinks':0, 'Reds':0,\n",
    "       'Oranges':0, 'Yellows':0, 'Greys':0}\n",
    "total_votes = {'Purples':0, 'Browns':0, 'Greens':0, 'Blues':0, 'Whites':0, 'Pinks':0, 'Reds':0,\n",
    "       'Oranges':0, 'Yellows':0, 'Greys':0}\n",
    "parties = Y_train.unique()"
   ]
  },
  {
   "cell_type": "code",
   "execution_count": 8,
   "metadata": {
    "collapsed": true
   },
   "outputs": [],
   "source": [
    "for i in range(len(Y_train)):\n",
    "    for party in parties:\n",
    "        if Y_train[i]==party:\n",
    "            total_votes[party] = total_votes[party]+1\n",
    "            if kmeans.labels_[i]==1:\n",
    "#             if gmm_labels[i]==1:\n",
    "                cluster_a[party]= cluster_a[party]+1\n",
    "            else:\n",
    "                cluster_b[party]= cluster_b[party]+1\n",
    "                "
   ]
  },
  {
   "cell_type": "markdown",
   "metadata": {},
   "source": [
    "Plot the 2 clusters:"
   ]
  },
  {
   "cell_type": "code",
   "execution_count": 9,
   "metadata": {},
   "outputs": [
    {
     "data": {
      "image/png": "[encoded data removed]",
      "text/plain": [
       "<matplotlib.figure.Figure at 0x111d744d0>"
      ]
     },
     "metadata": {},
     "output_type": "display_data"
    }
   ],
   "source": [
    "labels_a = cluster_a.keys()\n",
    "sizes_a = cluster_a.values()\n",
    "\n",
    "fig1, ax1 = plt.subplots()\n",
    "ax1.pie(sizes_a, explode=[0]*len(sizes_a), labels=labels_a, autopct='%1.1f%%',\n",
    "        shadow=True, startangle=90)\n",
    "ax1.axis('equal')  # Equal aspect ratio ensures that pie is drawn as a circle.\n",
    "\n",
    "plt.show()"
   ]
  },
  {
   "cell_type": "code",
   "execution_count": 10,
   "metadata": {},
   "outputs": [
    {
     "data": {
      "image/png": "[encoded data removed]",
      "text/plain": [
       "<matplotlib.figure.Figure at 0x111d74890>"
      ]
     },
     "metadata": {},
     "output_type": "display_data"
    }
   ],
   "source": [
    "labels_b = cluster_b.keys()\n",
    "sizes_b = cluster_b.values()\n",
    "\n",
    "fig1, ax1 = plt.subplots()\n",
    "ax1.pie(sizes_b, explode=[0]*len(sizes_b), labels=labels_b, autopct='%1.1f%%',\n",
    "        shadow=True, startangle=90)\n",
    "ax1.axis('equal')  # Equal aspect ratio ensures that pie is drawn as a circle.\n",
    "\n",
    "plt.show()"
   ]
  },
  {
   "cell_type": "code",
   "execution_count": 11,
   "metadata": {},
   "outputs": [
    {
     "data": {
      "text/plain": [
       "OrderedDict([('Purples', 1241),\n",
       "             ('Browns', 1091),\n",
       "             ('Blues', 353),\n",
       "             ('Oranges', 335),\n",
       "             ('Greys', 325),\n",
       "             ('Reds', 303),\n",
       "             ('Pinks', 244),\n",
       "             ('Whites', 200),\n",
       "             ('Yellows', 155),\n",
       "             ('Greens', 11)])"
      ]
     },
     "execution_count": 11,
     "metadata": {},
     "output_type": "execute_result"
    }
   ],
   "source": [
    "od_a = OrderedDict(sorted(cluster_a.items(), key=lambda x:x[1], reverse=True))\n",
    "od_a"
   ]
  },
  {
   "cell_type": "code",
   "execution_count": 12,
   "metadata": {},
   "outputs": [
    {
     "data": {
      "text/plain": [
       "OrderedDict([('Greens', 1004),\n",
       "             ('Pinks', 364),\n",
       "             ('Blues', 201),\n",
       "             ('Yellows', 164),\n",
       "             ('Purples', 8),\n",
       "             ('Whites', 1),\n",
       "             ('Reds', 0),\n",
       "             ('Oranges', 0),\n",
       "             ('Browns', 0),\n",
       "             ('Greys', 0)])"
      ]
     },
     "execution_count": 12,
     "metadata": {},
     "output_type": "execute_result"
    }
   ],
   "source": [
    "od_b = OrderedDict(sorted(cluster_b.items(), key=lambda x:x[1], reverse=True))\n",
    "od_b"
   ]
  },
  {
   "cell_type": "code",
   "execution_count": 13,
   "metadata": {},
   "outputs": [
    {
     "data": {
      "text/plain": [
       "4258"
      ]
     },
     "execution_count": 13,
     "metadata": {},
     "output_type": "execute_result"
    }
   ],
   "source": [
    "total_a = sum(cluster_a.values())\n",
    "total_a"
   ]
  },
  {
   "cell_type": "code",
   "execution_count": 14,
   "metadata": {},
   "outputs": [
    {
     "data": {
      "text/plain": [
       "1742"
      ]
     },
     "execution_count": 14,
     "metadata": {},
     "output_type": "execute_result"
    }
   ],
   "source": [
    "total_b = sum(cluster_b.values())\n",
    "total_b"
   ]
  },
  {
   "cell_type": "code",
   "execution_count": 15,
   "metadata": {},
   "outputs": [
    {
     "data": {
      "text/plain": [
       "-2516"
      ]
     },
     "execution_count": 15,
     "metadata": {},
     "output_type": "execute_result"
    }
   ],
   "source": [
    "total_b - total_a"
   ]
  },
  {
   "cell_type": "code",
   "execution_count": 16,
   "metadata": {},
   "outputs": [
    {
     "data": {
      "text/plain": [
       "OrderedDict([('Purples', 1249),\n",
       "             ('Browns', 1091),\n",
       "             ('Greens', 1015),\n",
       "             ('Pinks', 608),\n",
       "             ('Blues', 554),\n",
       "             ('Oranges', 335),\n",
       "             ('Greys', 325),\n",
       "             ('Yellows', 319),\n",
       "             ('Reds', 303),\n",
       "             ('Whites', 201)])"
      ]
     },
     "execution_count": 16,
     "metadata": {},
     "output_type": "execute_result"
    }
   ],
   "source": [
    "total_votes_ordered = OrderedDict(sorted(total_votes.items(), key=lambda x:x[1], reverse=True))\n",
    "total_votes_ordered"
   ]
  },
  {
   "cell_type": "markdown",
   "metadata": {},
   "source": [
    "An optional coalition could include: Purples, Browns, Greys, Reds, Oranges"
   ]
  },
  {
   "cell_type": "code",
   "execution_count": 17,
   "metadata": {},
   "outputs": [
    {
     "data": {
      "text/plain": [
       "55"
      ]
     },
     "execution_count": 17,
     "metadata": {},
     "output_type": "execute_result"
    }
   ],
   "source": [
    "total = sum(total_votes.values())\n",
    "(total_votes['Purples'] + total_votes['Browns'] + total_votes['Greys']+ total_votes['Reds']+ total_votes['Oranges'])*100/total"
   ]
  },
  {
   "cell_type": "markdown",
   "metadata": {},
   "source": [
    "It seems that it's a close call, With only 380 votes in favor of the Greens' coalition.\n",
    "Also, it seems like the Browns are equaly likely to end up in both coalitions.\n",
    "However, when examening the total results, the Purples seem more likely to succeed in building the coalition."
   ]
  },
  {
   "cell_type": "markdown",
   "metadata": {},
   "source": [
    "### Second step - Identify the leading features for each party"
   ]
  },
  {
   "cell_type": "code",
   "execution_count": 18,
   "metadata": {},
   "outputs": [
    {
     "data": {
      "text/plain": [
       "Number_of_valued_Kneset_members                         float64\n",
       "Yearly_IncomeK                                          float64\n",
       "Overall_happiness_score                                 float64\n",
       "Avg_Satisfaction_with_previous_vote                     float64\n",
       "Garden_sqr_meter_per_person_in_residancy_area           float64\n",
       "Weighted_education_rank                                 float64\n",
       "Number_of_valued_Kneset_members_isNull                    int64\n",
       "Yearly_IncomeK_isNull                                     int64\n",
       "Overall_happiness_score_isNull                            int64\n",
       "Avg_Satisfaction_with_previous_vote_isNull                int64\n",
       "Garden_sqr_meter_per_person_in_residancy_area_isNull      int64\n",
       "Weighted_education_rank_isNull                            int64\n",
       "Most_Important_Issue_int                                  int64\n",
       "Will_vote_only_large_party_int                            int64\n",
       "dtype: object"
      ]
     },
     "execution_count": 18,
     "metadata": {},
     "output_type": "execute_result"
    }
   ],
   "source": [
    "X_train.dtypes"
   ]
  },
  {
   "cell_type": "code",
   "execution_count": 19,
   "metadata": {
    "collapsed": true
   },
   "outputs": [],
   "source": [
    "features_means = {'Number_of_valued_Kneset_members':0, 'Yearly_IncomeK':0, 'Overall_happiness_score':0, 'Avg_Satisfaction_with_previous_vote':0, 'Garden_sqr_meter_per_person_in_residancy_area':0, 'Weighted_education_rank':0, 'Most_Important_Issue_int':0}"
   ]
  },
  {
   "cell_type": "markdown",
   "metadata": {},
   "source": [
    "I now need to calculate the what features are unique for each party. That is, statisticaly speaking, what features are relatively extreme."
   ]
  },
  {
   "cell_type": "markdown",
   "metadata": {},
   "source": [
    "### Third Step - Identify the factor most likely to change the winner"
   ]
  },
  {
   "cell_type": "code",
   "execution_count": 20,
   "metadata": {
    "scrolled": true
   },
   "outputs": [
    {
     "data": {
      "text/plain": [
       "array([ 0.,  0.,  0.,  0.,  0.,  1.,  0.,  0.,  0.,  0.,  0.,  0.,  0.,  0.])"
      ]
     },
     "execution_count": 20,
     "metadata": {},
     "output_type": "execute_result"
    }
   ],
   "source": [
    "regr = RandomForestRegressor(max_depth=2, random_state=0)\n",
    "regr.fit(X_train, kmeans.labels_)\n",
    "regr.feature_importances_"
   ]
  },
  {
   "cell_type": "markdown",
   "metadata": {},
   "source": [
    "It seems that Weighted_education_rank is the factoer we are looking for, so I will now run again the model without the education factor."
   ]
  },
  {
   "cell_type": "markdown",
   "metadata": {},
   "source": [
    "### Last step - Identify a group of factors for strengthening the coalition"
   ]
  },
  {
   "cell_type": "markdown",
   "metadata": {},
   "source": [
    "I will now explore the features importences for each class:"
   ]
  },
  {
   "cell_type": "code",
   "execution_count": 21,
   "metadata": {},
   "outputs": [
    {
     "data": {
      "text/plain": [
       "array(['Greens', 'Blues', 'Browns', 'Purples', 'Reds', 'Oranges', 'Greys',\n",
       "       'Pinks', 'Whites', 'Yellows'], dtype=object)"
      ]
     },
     "execution_count": 21,
     "metadata": {},
     "output_type": "execute_result"
    }
   ],
   "source": [
    "Y_train.unique()"
   ]
  },
  {
   "cell_type": "code",
   "execution_count": 22,
   "metadata": {},
   "outputs": [
    {
     "data": {
      "text/plain": [
       "Index([u'Number_of_valued_Kneset_members', u'Yearly_IncomeK',\n",
       "       u'Overall_happiness_score', u'Avg_Satisfaction_with_previous_vote',\n",
       "       u'Garden_sqr_meter_per_person_in_residancy_area',\n",
       "       u'Weighted_education_rank', u'Number_of_valued_Kneset_members_isNull',\n",
       "       u'Yearly_IncomeK_isNull', u'Overall_happiness_score_isNull',\n",
       "       u'Avg_Satisfaction_with_previous_vote_isNull',\n",
       "       u'Garden_sqr_meter_per_person_in_residancy_area_isNull',\n",
       "       u'Weighted_education_rank_isNull', u'Most_Important_Issue_int',\n",
       "       u'Will_vote_only_large_party_int'],\n",
       "      dtype='object')"
      ]
     },
     "execution_count": 22,
     "metadata": {},
     "output_type": "execute_result"
    }
   ],
   "source": [
    "X_train.dtypes.keys()"
   ]
  },
  {
   "cell_type": "code",
   "execution_count": 23,
   "metadata": {},
   "outputs": [
    {
     "name": "stdout",
     "output_type": "stream",
     "text": [
      "Greens: \n",
      "['Number_of_valued_Kneset_members: 0.0', 'Yearly_IncomeK: 0.0', 'Overall_happiness_score: 0.77146478271', 'Avg_Satisfaction_with_previous_vote: 0.0', 'Garden_sqr_meter_per_person_in_residancy_area: 0.0', 'Weighted_education_rank: 0.0', 'Number_of_valued_Kneset_members_isNull: 0.0', 'Yearly_IncomeK_isNull: 0.0', 'Overall_happiness_score_isNull: 0.0', 'Avg_Satisfaction_with_previous_vote_isNull: 0.0', 'Garden_sqr_meter_per_person_in_residancy_area_isNull: 0.0', 'Weighted_education_rank_isNull: 0.0', 'Most_Important_Issue_int: 0.0', 'Will_vote_only_large_party_int: 0.22853521729']\n",
      "\n",
      "\n",
      "Blues: \n",
      "['Number_of_valued_Kneset_members: 0.0', 'Yearly_IncomeK: 0.00436011878575', 'Overall_happiness_score: 0.014205302712', 'Avg_Satisfaction_with_previous_vote: 0.958613287809', 'Garden_sqr_meter_per_person_in_residancy_area: 0.0', 'Weighted_education_rank: 0.0228212906936', 'Number_of_valued_Kneset_members_isNull: 0.0', 'Yearly_IncomeK_isNull: 0.0', 'Overall_happiness_score_isNull: 0.0', 'Avg_Satisfaction_with_previous_vote_isNull: 0.0', 'Garden_sqr_meter_per_person_in_residancy_area_isNull: 0.0', 'Weighted_education_rank_isNull: 0.0', 'Most_Important_Issue_int: 0.0', 'Will_vote_only_large_party_int: 0.0']\n",
      "\n",
      "\n",
      "Browns: \n",
      "['Number_of_valued_Kneset_members: 0.501501216568', 'Yearly_IncomeK: 0.0', 'Overall_happiness_score: 0.249033471962', 'Avg_Satisfaction_with_previous_vote: 0.0', 'Garden_sqr_meter_per_person_in_residancy_area: 0.0', 'Weighted_education_rank: 0.0288555634069', 'Number_of_valued_Kneset_members_isNull: 0.000273024745002', 'Yearly_IncomeK_isNull: 0.0', 'Overall_happiness_score_isNull: 0.0', 'Avg_Satisfaction_with_previous_vote_isNull: 0.0', 'Garden_sqr_meter_per_person_in_residancy_area_isNull: 0.0', 'Weighted_education_rank_isNull: 0.0', 'Most_Important_Issue_int: 0.0', 'Will_vote_only_large_party_int: 0.220336723318']\n",
      "\n",
      "\n",
      "Purples: \n",
      "['Number_of_valued_Kneset_members: 0.55987490368', 'Yearly_IncomeK: 0.0', 'Overall_happiness_score: 0.0', 'Avg_Satisfaction_with_previous_vote: 0.0', 'Garden_sqr_meter_per_person_in_residancy_area: 0.0', 'Weighted_education_rank: 0.44012509632', 'Number_of_valued_Kneset_members_isNull: 0.0', 'Yearly_IncomeK_isNull: 0.0', 'Overall_happiness_score_isNull: 0.0', 'Avg_Satisfaction_with_previous_vote_isNull: 0.0', 'Garden_sqr_meter_per_person_in_residancy_area_isNull: 0.0', 'Weighted_education_rank_isNull: 0.0', 'Most_Important_Issue_int: 0.0', 'Will_vote_only_large_party_int: 0.0']\n",
      "\n",
      "\n",
      "Reds: \n",
      "['Number_of_valued_Kneset_members: 0.0', 'Yearly_IncomeK: 0.0', 'Overall_happiness_score: 0.546240904007', 'Avg_Satisfaction_with_previous_vote: 0.0', 'Garden_sqr_meter_per_person_in_residancy_area: 0.0', 'Weighted_education_rank: 0.0', 'Number_of_valued_Kneset_members_isNull: 0.0', 'Yearly_IncomeK_isNull: 0.0', 'Overall_happiness_score_isNull: 0.0', 'Avg_Satisfaction_with_previous_vote_isNull: 0.0', 'Garden_sqr_meter_per_person_in_residancy_area_isNull: 0.0', 'Weighted_education_rank_isNull: 0.0', 'Most_Important_Issue_int: 3.01435598526e-06', 'Will_vote_only_large_party_int: 0.453756081637']\n",
      "\n",
      "\n",
      "Oranges: \n",
      "['Number_of_valued_Kneset_members: 0.0', 'Yearly_IncomeK: 1.06065130046e-05', 'Overall_happiness_score: 0.0', 'Avg_Satisfaction_with_previous_vote: 0.0', 'Garden_sqr_meter_per_person_in_residancy_area: 0.0', 'Weighted_education_rank: 0.493833660737', 'Number_of_valued_Kneset_members_isNull: 0.0', 'Yearly_IncomeK_isNull: 0.0', 'Overall_happiness_score_isNull: 0.0', 'Avg_Satisfaction_with_previous_vote_isNull: 0.0', 'Garden_sqr_meter_per_person_in_residancy_area_isNull: 0.0', 'Weighted_education_rank_isNull: 0.0', 'Most_Important_Issue_int: 0.0', 'Will_vote_only_large_party_int: 0.50615573275']\n",
      "\n",
      "\n",
      "Greys: \n",
      "['Number_of_valued_Kneset_members: 0.0', 'Yearly_IncomeK: 0.0', 'Overall_happiness_score: 0.521652738728', 'Avg_Satisfaction_with_previous_vote: 0.0', 'Garden_sqr_meter_per_person_in_residancy_area: 0.0', 'Weighted_education_rank: 0.0', 'Number_of_valued_Kneset_members_isNull: 0.0', 'Yearly_IncomeK_isNull: 0.000126484462095', 'Overall_happiness_score_isNull: 0.0', 'Avg_Satisfaction_with_previous_vote_isNull: 0.0', 'Garden_sqr_meter_per_person_in_residancy_area_isNull: 0.0', 'Weighted_education_rank_isNull: 0.0', 'Most_Important_Issue_int: 0.0', 'Will_vote_only_large_party_int: 0.47822077681']\n",
      "\n",
      "\n",
      "Pinks: \n",
      "['Number_of_valued_Kneset_members: 0.0', 'Yearly_IncomeK: 0.751244064576', 'Overall_happiness_score: 0.0', 'Avg_Satisfaction_with_previous_vote: 0.0', 'Garden_sqr_meter_per_person_in_residancy_area: 0.029424216959', 'Weighted_education_rank: 0.0', 'Number_of_valued_Kneset_members_isNull: 0.0', 'Yearly_IncomeK_isNull: 0.0', 'Overall_happiness_score_isNull: 0.0', 'Avg_Satisfaction_with_previous_vote_isNull: 0.0', 'Garden_sqr_meter_per_person_in_residancy_area_isNull: 0.0', 'Weighted_education_rank_isNull: 0.0', 'Most_Important_Issue_int: 0.0', 'Will_vote_only_large_party_int: 0.219331718465']\n",
      "\n",
      "\n",
      "Whites: \n",
      "['Number_of_valued_Kneset_members: 0.0', 'Yearly_IncomeK: 0.193604267842', 'Overall_happiness_score: 0.119093171945', 'Avg_Satisfaction_with_previous_vote: 0.0', 'Garden_sqr_meter_per_person_in_residancy_area: 0.0249110555926', 'Weighted_education_rank: 0.180366107048', 'Number_of_valued_Kneset_members_isNull: 0.0', 'Yearly_IncomeK_isNull: 0.0', 'Overall_happiness_score_isNull: 0.0', 'Avg_Satisfaction_with_previous_vote_isNull: 0.0', 'Garden_sqr_meter_per_person_in_residancy_area_isNull: 0.0', 'Weighted_education_rank_isNull: 0.0', 'Most_Important_Issue_int: 0.0', 'Will_vote_only_large_party_int: 0.482025397572']\n",
      "\n",
      "\n",
      "Yellows: \n",
      "['Number_of_valued_Kneset_members: 0.0', 'Yearly_IncomeK: 0.0', 'Overall_happiness_score: 0.0', 'Avg_Satisfaction_with_previous_vote: 0.707285995918', 'Garden_sqr_meter_per_person_in_residancy_area: 0.0', 'Weighted_education_rank: 0.0', 'Number_of_valued_Kneset_members_isNull: 0.0', 'Yearly_IncomeK_isNull: 0.0', 'Overall_happiness_score_isNull: 0.0', 'Avg_Satisfaction_with_previous_vote_isNull: 0.0', 'Garden_sqr_meter_per_person_in_residancy_area_isNull: 0.0', 'Weighted_education_rank_isNull: 0.0', 'Most_Important_Issue_int: 0.0', 'Will_vote_only_large_party_int: 0.292714004082']\n",
      "\n",
      "\n"
     ]
    }
   ],
   "source": [
    "for party in Y_train.unique():\n",
    "    regr = RandomForestRegressor(max_depth=2, random_state=0)\n",
    "    regr.fit(X_train, Y_train==party)\n",
    "    print(str(party)+': \\n'+str([str(X_train.dtypes.keys()[i])+': '+ str(regr.feature_importances_[i]) for i in range(len(regr.feature_importances_))]))\n",
    "    print('\\n')"
   ]
  },
  {
   "cell_type": "markdown",
   "metadata": {},
   "source": [
    "I am not sure what manipulation should mean in this comtext. However, the feature Number_of_valued_Kneset_members for example, is very importent to both the Purples and the Browns, but not at all to the Greens. That could be easily used by the parties to compromise the results, but I am not sure what the use will be for data scientists."
   ]
  },
  {
   "cell_type": "markdown",
   "metadata": {},
   "source": [
    "I also did not understand what is the meaning of running the models on the test sets, since it is an unsupervised learning. However, it could of course easliy done by changing the data sets in the begining of the script. (currently commented out)"
   ]
  },
  {
   "cell_type": "code",
   "execution_count": null,
   "metadata": {
    "collapsed": true
   },
   "outputs": [],
   "source": []
  }
 ],
 "metadata": {
  "kernelspec": {
   "display_name": "Python 2",
   "language": "python",
   "name": "python2"
  },
  "language_info": {
   "codemirror_mode": {
    "name": "ipython",
    "version": 2
   },
   "file_extension": ".py",
   "mimetype": "text/x-python",
   "name": "python",
   "nbconvert_exporter": "python",
   "pygments_lexer": "ipython2",
   "version": "2.7.14"
  }
 },
 "nbformat": 4,
 "nbformat_minor": 2
}
