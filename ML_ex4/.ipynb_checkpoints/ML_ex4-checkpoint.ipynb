{
 "cells": [
  {
   "cell_type": "code",
   "execution_count": 1,
   "metadata": {
    "collapsed": true
   },
   "outputs": [],
   "source": [
    "import numpy as np\n",
    "import pandas as pd\n",
    "import matplotlib.pyplot as plt\n",
    "%matplotlib inline\n",
    "from matplotlib.colors import ListedColormap\n",
    "from mpl_toolkits.mplot3d import Axes3D\n",
    "from sklearn import datasets\n",
    "from sklearn.decomposition import PCA\n",
    "from sklearn.feature_selection import SelectKBest, chi2, f_classif\n",
    "from sklearn import preprocessing\n",
    "from sklearn.model_selection import cross_val_score, train_test_split\n",
    "from sklearn.cluster import KMeans\n",
    "from sklearn.naive_bayes import GaussianNB\n",
    "from sklearn.tree import DecisionTreeClassifier\n",
    "from sklearn.linear_model import Perceptron\n",
    "from sklearn.svm import SVC, LinearSVC\n",
    "from sklearn.neural_network import MLPClassifier\n",
    "from sklearn.metrics import confusion_matrix\n",
    "from collections import OrderedDict"
   ]
  },
  {
   "cell_type": "markdown",
   "metadata": {
    "collapsed": true
   },
   "source": [
    "## Load the prepared training set"
   ]
  },
  {
   "cell_type": "code",
   "execution_count": 2,
   "metadata": {
    "collapsed": true
   },
   "outputs": [],
   "source": [
    "train = pd.read_csv(\"train.csv\", header=0)\n",
    "test = pd.read_csv(\"test.csv\", header=0)\n",
    "validate = pd.read_csv(\"validate.csv\", header=0)"
   ]
  },
  {
   "cell_type": "markdown",
   "metadata": {},
   "source": [
    "### Arrange the data sets"
   ]
  },
  {
   "cell_type": "code",
   "execution_count": 3,
   "metadata": {
    "collapsed": true
   },
   "outputs": [],
   "source": [
    "X_train = train.drop(['Vote'],1)\n",
    "Y_train = train.Vote\n",
    "X_test = test.drop(['Vote'],1)\n",
    "Y_test = test.Vote\n",
    "X_validate = validate.drop(['Vote'],1)\n",
    "Y_validate = validate.Vote"
   ]
  },
  {
   "cell_type": "markdown",
   "metadata": {},
   "source": [
    "## Train at least one generative model and one clustering model"
   ]
  },
  {
   "cell_type": "markdown",
   "metadata": {},
   "source": [
    "My mission is to find the most stable\\strong coalision. That is, find p parties that will represnt at least 51% of the votes, and will have the following properties: relatively homogeneous with respect to the\n",
    "participating parties, and very much different from the opposition."
   ]
  },
  {
   "cell_type": "markdown",
   "metadata": {},
   "source": [
    "### First step - clustering using KMeans for data exploration"
   ]
  },
  {
   "cell_type": "markdown",
   "metadata": {},
   "source": [
    "Since I need p parties with more than 51% of the vote, I will start with k=2"
   ]
  },
  {
   "cell_type": "code",
   "execution_count": 4,
   "metadata": {},
   "outputs": [],
   "source": [
    "kmeans = KMeans(n_clusters=2, random_state=0).fit(X_train)"
   ]
  },
  {
   "cell_type": "code",
   "execution_count": 5,
   "metadata": {},
   "outputs": [
    {
     "data": {
      "text/plain": [
       "array([0, 0, 0, ..., 0, 1, 1], dtype=int32)"
      ]
     },
     "execution_count": 5,
     "metadata": {},
     "output_type": "execute_result"
    }
   ],
   "source": [
    "kmeans.labels_"
   ]
  },
  {
   "cell_type": "code",
   "execution_count": 6,
   "metadata": {},
   "outputs": [
    {
     "data": {
      "text/plain": [
       "array([[  4.82426901e-01,   6.02483498e-02,   1.04423017e-01,\n",
       "          1.69165598e-01,  -2.76103451e-01,   2.85191851e+02,\n",
       "          2.00564086e-02,   1.69225948e-02,   1.94296459e-02,\n",
       "          1.97430273e-02,   2.00564086e-02,   0.00000000e+00,\n",
       "          2.86869320e+00,   1.21936697e+00],\n",
       "       [  4.31400153e-01,  -6.36237561e-02,  -9.53015952e-02,\n",
       "         -1.78195158e-01,   2.95191002e-01,   1.25186499e+02,\n",
       "          1.88679245e-02,   2.31399074e-02,   1.49519402e-02,\n",
       "          1.77999288e-02,   2.13599146e-02,   0.00000000e+00,\n",
       "          3.41153435e+00,   7.18761125e-01]])"
      ]
     },
     "execution_count": 6,
     "metadata": {},
     "output_type": "execute_result"
    }
   ],
   "source": [
    "kmeans.cluster_centers_"
   ]
  },
  {
   "cell_type": "markdown",
   "metadata": {},
   "source": [
    "Calculate the size of every party in each cluster:"
   ]
  },
  {
   "cell_type": "code",
   "execution_count": 7,
   "metadata": {
    "collapsed": true
   },
   "outputs": [],
   "source": [
    "cluster_a = {'Purples':0, 'Browns':0, 'Greens':0, 'Blues':0, 'Whites':0, 'Pinks':0, 'Reds':0,\n",
    "       'Oranges':0, 'Yellows':0, 'Greys':0}\n",
    "cluster_b = {'Purples':0, 'Browns':0, 'Greens':0, 'Blues':0, 'Whites':0, 'Pinks':0, 'Reds':0,\n",
    "       'Oranges':0, 'Yellows':0, 'Greys':0}\n",
    "total_votes = {'Purples':0, 'Browns':0, 'Greens':0, 'Blues':0, 'Whites':0, 'Pinks':0, 'Reds':0,\n",
    "       'Oranges':0, 'Yellows':0, 'Greys':0}\n",
    "parties = Y_train.unique()"
   ]
  },
  {
   "cell_type": "code",
   "execution_count": 8,
   "metadata": {},
   "outputs": [],
   "source": [
    "for i in range(len(Y_train)):\n",
    "    for party in parties:\n",
    "        if Y_train[i]==party:\n",
    "            total_votes[party] = total_votes[party]+1\n",
    "            if kmeans.labels_[i]==1:\n",
    "                cluster_a[party]= cluster_a[party]+1\n",
    "            else:\n",
    "                cluster_b[party]= cluster_b[party]+1\n",
    "                "
   ]
  },
  {
   "cell_type": "markdown",
   "metadata": {},
   "source": [
    "Plot the 2 clusters:"
   ]
  },
  {
   "cell_type": "code",
   "execution_count": 9,
   "metadata": {},
   "outputs": [
    {
     "data": {
      "image/png": "[encoded data removed]",
      "text/plain": [
       "<matplotlib.figure.Figure at 0x1a0b35cc90>"
      ]
     },
     "metadata": {},
     "output_type": "display_data"
    }
   ],
   "source": [
    "labels_a = cluster_a.keys()\n",
    "sizes_a = cluster_a.values()\n",
    "\n",
    "fig1, ax1 = plt.subplots()\n",
    "ax1.pie(sizes_a, explode=[0]*len(sizes_a), labels=labels_a, autopct='%1.1f%%',\n",
    "        shadow=True, startangle=90)\n",
    "ax1.axis('equal')  # Equal aspect ratio ensures that pie is drawn as a circle.\n",
    "\n",
    "plt.show()"
   ]
  },
  {
   "cell_type": "code",
   "execution_count": 10,
   "metadata": {},
   "outputs": [
    {
     "data": {
      "image/png": "[encoded data removed]",
      "text/plain": [
       "<matplotlib.figure.Figure at 0x1a0ba88bd0>"
      ]
     },
     "metadata": {},
     "output_type": "display_data"
    }
   ],
   "source": [
    "labels_b = cluster_b.keys()\n",
    "sizes_b = cluster_b.values()\n",
    "\n",
    "fig1, ax1 = plt.subplots()\n",
    "ax1.pie(sizes_b, explode=[0]*len(sizes_b), labels=labels_b, autopct='%1.1f%%',\n",
    "        shadow=True, startangle=90)\n",
    "ax1.axis('equal')  # Equal aspect ratio ensures that pie is drawn as a circle.\n",
    "\n",
    "plt.show()"
   ]
  },
  {
   "cell_type": "code",
   "execution_count": 11,
   "metadata": {},
   "outputs": [
    {
     "data": {
      "text/plain": [
       "OrderedDict([('Purples', 1135),\n",
       "             ('Browns', 477),\n",
       "             ('Greys', 315),\n",
       "             ('Reds', 299),\n",
       "             ('Oranges', 291),\n",
       "             ('Whites', 127),\n",
       "             ('Yellows', 67),\n",
       "             ('Pinks', 53),\n",
       "             ('Blues', 46),\n",
       "             ('Greens', 0)])"
      ]
     },
     "execution_count": 11,
     "metadata": {},
     "output_type": "execute_result"
    }
   ],
   "source": [
    "od_a = OrderedDict(sorted(cluster_a.items(), key=lambda x:x[1], reverse=True))\n",
    "od_a"
   ]
  },
  {
   "cell_type": "code",
   "execution_count": 12,
   "metadata": {},
   "outputs": [
    {
     "data": {
      "text/plain": [
       "OrderedDict([('Greens', 1015),\n",
       "             ('Browns', 614),\n",
       "             ('Pinks', 555),\n",
       "             ('Blues', 508),\n",
       "             ('Yellows', 252),\n",
       "             ('Purples', 114),\n",
       "             ('Whites', 74),\n",
       "             ('Oranges', 44),\n",
       "             ('Greys', 10),\n",
       "             ('Reds', 4)])"
      ]
     },
     "execution_count": 12,
     "metadata": {},
     "output_type": "execute_result"
    }
   ],
   "source": [
    "od_b = OrderedDict(sorted(cluster_b.items(), key=lambda x:x[1], reverse=True))\n",
    "od_b"
   ]
  },
  {
   "cell_type": "code",
   "execution_count": 13,
   "metadata": {},
   "outputs": [
    {
     "data": {
      "text/plain": [
       "2810"
      ]
     },
     "execution_count": 13,
     "metadata": {},
     "output_type": "execute_result"
    }
   ],
   "source": [
    "total_a = sum(cluster_a.values())\n",
    "total_a"
   ]
  },
  {
   "cell_type": "code",
   "execution_count": 14,
   "metadata": {},
   "outputs": [
    {
     "data": {
      "text/plain": [
       "3190"
      ]
     },
     "execution_count": 14,
     "metadata": {},
     "output_type": "execute_result"
    }
   ],
   "source": [
    "total_b = sum(cluster_b.values())\n",
    "total_b"
   ]
  },
  {
   "cell_type": "code",
   "execution_count": 15,
   "metadata": {},
   "outputs": [
    {
     "data": {
      "text/plain": [
       "380"
      ]
     },
     "execution_count": 15,
     "metadata": {},
     "output_type": "execute_result"
    }
   ],
   "source": [
    "total_b - total_a"
   ]
  },
  {
   "cell_type": "code",
   "execution_count": null,
   "metadata": {
    "collapsed": true
   },
   "outputs": [],
   "source": [
    "total_votes_ordered = OrderedDict(sorted(total_votes.items(), key=lambda x:x[1], reverse=True))\n",
    "total_votes_ordered"
   ]
  },
  {
   "cell_type": "markdown",
   "metadata": {},
   "source": [
    "It seems that it's a close call. With only 380 votes in favor of the Greens' coalition.\n",
    "Also, it seems like the Browns are equaly likely to end up in both coalitions."
   ]
  },
  {
   "cell_type": "markdown",
   "metadata": {},
   "source": [
    "### Second step - Identify the leading features for each party"
   ]
  },
  {
   "cell_type": "code",
   "execution_count": 16,
   "metadata": {},
   "outputs": [
    {
     "data": {
      "text/plain": [
       "Number_of_valued_Kneset_members                         float64\n",
       "Yearly_IncomeK                                          float64\n",
       "Overall_happiness_score                                 float64\n",
       "Avg_Satisfaction_with_previous_vote                     float64\n",
       "Garden_sqr_meter_per_person_in_residancy_area           float64\n",
       "Weighted_education_rank                                 float64\n",
       "Number_of_valued_Kneset_members_isNull                    int64\n",
       "Yearly_IncomeK_isNull                                     int64\n",
       "Overall_happiness_score_isNull                            int64\n",
       "Avg_Satisfaction_with_previous_vote_isNull                int64\n",
       "Garden_sqr_meter_per_person_in_residancy_area_isNull      int64\n",
       "Weighted_education_rank_isNull                            int64\n",
       "Most_Important_Issue_int                                  int64\n",
       "Will_vote_only_large_party_int                            int64\n",
       "dtype: object"
      ]
     },
     "execution_count": 16,
     "metadata": {},
     "output_type": "execute_result"
    }
   ],
   "source": [
    "X_train.dtypes"
   ]
  },
  {
   "cell_type": "code",
   "execution_count": null,
   "metadata": {
    "collapsed": true
   },
   "outputs": [],
   "source": []
  }
 ],
 "metadata": {
  "kernelspec": {
   "display_name": "Python 2",
   "language": "python",
   "name": "python2"
  },
  "language_info": {
   "codemirror_mode": {
    "name": "ipython",
    "version": 2
   },
   "file_extension": ".py",
   "mimetype": "text/x-python",
   "name": "python",
   "nbconvert_exporter": "python",
   "pygments_lexer": "ipython2",
   "version": "2.7.14"
  }
 },
 "nbformat": 4,
 "nbformat_minor": 2
}
